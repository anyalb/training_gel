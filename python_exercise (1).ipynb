{
 "cells": [
  {
   "cell_type": "markdown",
   "metadata": {},
   "source": [
    "# CloudOS User Training - Interactive Analysis: Python Exercises"
   ]
  },
  {
   "cell_type": "markdown",
   "metadata": {},
   "source": [
    "#### From Step-by-step IV: "
   ]
  },
  {
   "cell_type": "markdown",
   "metadata": {},
   "source": [
    "Having installed biopython using pip in terminal or command line, import Biopython here:"
   ]
  },
  {
   "cell_type": "code",
   "execution_count": 2,
   "metadata": {},
   "outputs": [
    {
     "name": "stdout",
     "output_type": "stream",
     "text": [
      "Collecting biopython\n",
      "  Downloading biopython-1.81-cp37-cp37m-manylinux_2_17_x86_64.manylinux2014_x86_64.whl (3.0 MB)\n",
      "\u001b[K     |████████████████████████████████| 3.0 MB 22.7 MB/s eta 0:00:01\n",
      "\u001b[?25hRequirement already satisfied: numpy in /opt/conda/lib/python3.7/site-packages (from biopython) (1.18.1)\n",
      "Installing collected packages: biopython\n",
      "Successfully installed biopython-1.81\n"
     ]
    }
   ],
   "source": [
    "!pip install biopython"
   ]
  },
  {
   "cell_type": "code",
   "execution_count": 3,
   "metadata": {},
   "outputs": [],
   "source": [
    "import Bio"
   ]
  },
  {
   "cell_type": "code",
   "execution_count": 5,
   "metadata": {},
   "outputs": [
    {
     "name": "stdout",
     "output_type": "stream",
     "text": [
      "2\n"
     ]
    }
   ],
   "source": [
    "from Bio.Seq import Seq \n",
    "\n",
    "# create a sequence object \n",
    "my_seq = Seq(\"CATGTAGACTAG\")\n",
    "\n",
    "# print number of \"TAG\" occurrences in the sequence \n",
    "print(my_seq.count(\"TAG\"))"
   ]
  },
  {
   "cell_type": "markdown",
   "metadata": {},
   "source": [
    "Create a new conda environment to complete your Python/Jupyter notebook exercises in, in a terminal: "
   ]
  },
  {
   "cell_type": "code",
   "execution_count": 7,
   "metadata": {
    "collapsed": true,
    "jupyter": {
     "outputs_hidden": true
    }
   },
   "outputs": [
    {
     "name": "stdout",
     "output_type": "stream",
     "text": [
      "Collecting package metadata (current_repodata.json): done\n",
      "Solving environment: done\n",
      "\n",
      "\n",
      "==> WARNING: A newer version of conda exists. <==\n",
      "  current version: 4.8.2\n",
      "  latest version: 23.5.0\n",
      "\n",
      "Please update conda by running\n",
      "\n",
      "    $ conda update -n base conda\n",
      "\n",
      "\n",
      "\n",
      "## Package Plan ##\n",
      "\n",
      "  environment location: /tmp/cloudos_user_envs/anya_test\n",
      "\n",
      "  added / updated specs:\n",
      "    - ipykernel\n",
      "    - python\n",
      "\n",
      "\n",
      "The following packages will be downloaded:\n",
      "\n",
      "    package                    |            build\n",
      "    ---------------------------|-----------------\n",
      "    _libgcc_mutex-0.1          |      conda_forge           3 KB  conda-forge\n",
      "    _openmp_mutex-4.5          |            2_gnu          23 KB  conda-forge\n",
      "    asttokens-2.2.1            |     pyhd8ed1ab_0          27 KB  conda-forge\n",
      "    backcall-0.2.0             |     pyh9f0ad1d_0          13 KB  conda-forge\n",
      "    backports-1.1              |     pyhd3eb1b0_0           4 KB  defaults\n",
      "    backports.functools_lru_cache-1.6.4|     pyhd8ed1ab_0           9 KB  conda-forge\n",
      "    bzip2-1.0.8                |       h7f98852_4         484 KB  conda-forge\n",
      "    ca-certificates-2023.05.30 |       h06a4308_0         120 KB  defaults\n",
      "    comm-0.1.3                 |     pyhd8ed1ab_0          11 KB  conda-forge\n",
      "    debugpy-1.6.7              |  py311hcafe171_0         2.2 MB  conda-forge\n",
      "    decorator-5.1.1            |     pyhd8ed1ab_0          12 KB  conda-forge\n",
      "    executing-1.2.0            |     pyhd8ed1ab_0          24 KB  conda-forge\n",
      "    importlib-metadata-6.6.0   |     pyha770c72_0          25 KB  conda-forge\n",
      "    importlib_metadata-6.6.0   |       hd8ed1ab_0           9 KB  conda-forge\n",
      "    ipykernel-6.19.2           |  py311h6410fe4_0         268 KB  defaults\n",
      "    ipython-8.12.0             |  py311h06a4308_0         1.4 MB  defaults\n",
      "    jedi-0.18.2                |     pyhd8ed1ab_0         786 KB  conda-forge\n",
      "    jupyter_client-8.2.0       |     pyhd8ed1ab_0         102 KB  conda-forge\n",
      "    jupyter_core-5.3.0         |  py311h38be061_0         112 KB  conda-forge\n",
      "    ld_impl_linux-64-2.40      |       h41732ed_0         688 KB  conda-forge\n",
      "    libexpat-2.5.0             |       hcb278e6_1          76 KB  conda-forge\n",
      "    libffi-3.4.4               |       h6a678d5_0         142 KB  defaults\n",
      "    libgcc-ng-13.1.0           |       he5830b7_0         758 KB  conda-forge\n",
      "    libgomp-13.1.0             |       he5830b7_0         409 KB  conda-forge\n",
      "    libnsl-2.0.0               |       h7f98852_0          31 KB  conda-forge\n",
      "    libsodium-1.0.18           |       h36c2ea0_1         366 KB  conda-forge\n",
      "    libsqlite-3.42.0           |       h2797004_0         809 KB  conda-forge\n",
      "    libstdcxx-ng-13.1.0        |       hfd8a6a1_0         3.7 MB  conda-forge\n",
      "    libuuid-2.38.1             |       h0b41bf4_0          33 KB  conda-forge\n",
      "    libzlib-1.2.13             |       hd590300_5          60 KB  conda-forge\n",
      "    matplotlib-inline-0.1.6    |     pyhd8ed1ab_0          12 KB  conda-forge\n",
      "    ncurses-6.4                |       hcb278e6_0         860 KB  conda-forge\n",
      "    nest-asyncio-1.5.6         |     pyhd8ed1ab_0          10 KB  conda-forge\n",
      "    openssl-3.1.1              |       hd590300_1         2.5 MB  conda-forge\n",
      "    packaging-23.1             |     pyhd8ed1ab_0          45 KB  conda-forge\n",
      "    parso-0.8.3                |     pyhd8ed1ab_0          69 KB  conda-forge\n",
      "    pexpect-4.8.0              |     pyh1a96a4e_2          48 KB  conda-forge\n",
      "    pickleshare-0.7.5          |          py_1003           9 KB  conda-forge\n",
      "    pip-23.1.2                 |     pyhd8ed1ab_0         1.3 MB  conda-forge\n",
      "    platformdirs-3.5.3         |     pyhd8ed1ab_0          18 KB  conda-forge\n",
      "    prompt-toolkit-3.0.38      |     pyha770c72_0         263 KB  conda-forge\n",
      "    psutil-5.9.5               |  py311h2582759_0         488 KB  conda-forge\n",
      "    ptyprocess-0.7.0           |     pyhd3deb0d_0          16 KB  conda-forge\n",
      "    pure_eval-0.2.2            |     pyhd8ed1ab_0          14 KB  conda-forge\n",
      "    pygments-2.15.1            |     pyhd8ed1ab_0         821 KB  conda-forge\n",
      "    python-3.11.4              |hab00c5b_0_cpython        29.3 MB  conda-forge\n",
      "    python-dateutil-2.8.2      |     pyhd8ed1ab_0         240 KB  conda-forge\n",
      "    python_abi-3.11            |          3_cp311           6 KB  conda-forge\n",
      "    pyzmq-25.1.0               |  py311h75c88c4_0         517 KB  conda-forge\n",
      "    readline-8.2               |       h8228510_1         275 KB  conda-forge\n",
      "    setuptools-67.8.0          |  py311h06a4308_0         1.4 MB  defaults\n",
      "    six-1.16.0                 |     pyh6c4a22f_0          14 KB  conda-forge\n",
      "    stack_data-0.6.2           |     pyhd8ed1ab_0          26 KB  conda-forge\n",
      "    tk-8.6.12                  |       h27826a3_0         3.3 MB  conda-forge\n",
      "    tornado-6.3.2              |  py311h459d7ec_0         822 KB  conda-forge\n",
      "    traitlets-5.9.0            |     pyhd8ed1ab_0          96 KB  conda-forge\n",
      "    typing-extensions-4.6.3    |       hd8ed1ab_0          10 KB  conda-forge\n",
      "    typing_extensions-4.6.3    |     pyha770c72_0          34 KB  conda-forge\n",
      "    tzdata-2023c               |       h71feb2d_0         115 KB  conda-forge\n",
      "    wcwidth-0.2.6              |     pyhd8ed1ab_0          28 KB  conda-forge\n",
      "    wheel-0.40.0               |     pyhd8ed1ab_0          54 KB  conda-forge\n",
      "    xz-5.4.2                   |       h5eee18b_0         642 KB  defaults\n",
      "    zeromq-4.3.4               |       h9c3ff4c_1         351 KB  conda-forge\n",
      "    zipp-3.15.0                |     pyhd8ed1ab_0          17 KB  conda-forge\n",
      "    ------------------------------------------------------------\n",
      "                                           Total:        56.1 MB\n",
      "\n",
      "The following NEW packages will be INSTALLED:\n",
      "\n",
      "  _libgcc_mutex      conda-forge/linux-64::_libgcc_mutex-0.1-conda_forge\n",
      "  _openmp_mutex      conda-forge/linux-64::_openmp_mutex-4.5-2_gnu\n",
      "  asttokens          conda-forge/noarch::asttokens-2.2.1-pyhd8ed1ab_0\n",
      "  backcall           conda-forge/noarch::backcall-0.2.0-pyh9f0ad1d_0\n",
      "  backports          pkgs/main/noarch::backports-1.1-pyhd3eb1b0_0\n",
      "  backports.functoo~ conda-forge/noarch::backports.functools_lru_cache-1.6.4-pyhd8ed1ab_0\n",
      "  bzip2              conda-forge/linux-64::bzip2-1.0.8-h7f98852_4\n",
      "  ca-certificates    pkgs/main/linux-64::ca-certificates-2023.05.30-h06a4308_0\n",
      "  comm               conda-forge/noarch::comm-0.1.3-pyhd8ed1ab_0\n",
      "  debugpy            conda-forge/linux-64::debugpy-1.6.7-py311hcafe171_0\n",
      "  decorator          conda-forge/noarch::decorator-5.1.1-pyhd8ed1ab_0\n",
      "  executing          conda-forge/noarch::executing-1.2.0-pyhd8ed1ab_0\n",
      "  importlib-metadata conda-forge/noarch::importlib-metadata-6.6.0-pyha770c72_0\n",
      "  importlib_metadata conda-forge/noarch::importlib_metadata-6.6.0-hd8ed1ab_0\n",
      "  ipykernel          pkgs/main/linux-64::ipykernel-6.19.2-py311h6410fe4_0\n",
      "  ipython            pkgs/main/linux-64::ipython-8.12.0-py311h06a4308_0\n",
      "  jedi               conda-forge/noarch::jedi-0.18.2-pyhd8ed1ab_0\n",
      "  jupyter_client     conda-forge/noarch::jupyter_client-8.2.0-pyhd8ed1ab_0\n",
      "  jupyter_core       conda-forge/linux-64::jupyter_core-5.3.0-py311h38be061_0\n",
      "  ld_impl_linux-64   conda-forge/linux-64::ld_impl_linux-64-2.40-h41732ed_0\n",
      "  libexpat           conda-forge/linux-64::libexpat-2.5.0-hcb278e6_1\n",
      "  libffi             pkgs/main/linux-64::libffi-3.4.4-h6a678d5_0\n",
      "  libgcc-ng          conda-forge/linux-64::libgcc-ng-13.1.0-he5830b7_0\n",
      "  libgomp            conda-forge/linux-64::libgomp-13.1.0-he5830b7_0\n",
      "  libnsl             conda-forge/linux-64::libnsl-2.0.0-h7f98852_0\n",
      "  libsodium          conda-forge/linux-64::libsodium-1.0.18-h36c2ea0_1\n",
      "  libsqlite          conda-forge/linux-64::libsqlite-3.42.0-h2797004_0\n",
      "  libstdcxx-ng       conda-forge/linux-64::libstdcxx-ng-13.1.0-hfd8a6a1_0\n",
      "  libuuid            conda-forge/linux-64::libuuid-2.38.1-h0b41bf4_0\n",
      "  libzlib            conda-forge/linux-64::libzlib-1.2.13-hd590300_5\n",
      "  matplotlib-inline  conda-forge/noarch::matplotlib-inline-0.1.6-pyhd8ed1ab_0\n",
      "  ncurses            conda-forge/linux-64::ncurses-6.4-hcb278e6_0\n",
      "  nest-asyncio       conda-forge/noarch::nest-asyncio-1.5.6-pyhd8ed1ab_0\n",
      "  openssl            conda-forge/linux-64::openssl-3.1.1-hd590300_1\n",
      "  packaging          conda-forge/noarch::packaging-23.1-pyhd8ed1ab_0\n",
      "  parso              conda-forge/noarch::parso-0.8.3-pyhd8ed1ab_0\n",
      "  pexpect            conda-forge/noarch::pexpect-4.8.0-pyh1a96a4e_2\n",
      "  pickleshare        conda-forge/noarch::pickleshare-0.7.5-py_1003\n",
      "  pip                conda-forge/noarch::pip-23.1.2-pyhd8ed1ab_0\n",
      "  platformdirs       conda-forge/noarch::platformdirs-3.5.3-pyhd8ed1ab_0\n",
      "  prompt-toolkit     conda-forge/noarch::prompt-toolkit-3.0.38-pyha770c72_0\n",
      "  psutil             conda-forge/linux-64::psutil-5.9.5-py311h2582759_0\n",
      "  ptyprocess         conda-forge/noarch::ptyprocess-0.7.0-pyhd3deb0d_0\n",
      "  pure_eval          conda-forge/noarch::pure_eval-0.2.2-pyhd8ed1ab_0\n",
      "  pygments           conda-forge/noarch::pygments-2.15.1-pyhd8ed1ab_0\n",
      "  python             conda-forge/linux-64::python-3.11.4-hab00c5b_0_cpython\n",
      "  python-dateutil    conda-forge/noarch::python-dateutil-2.8.2-pyhd8ed1ab_0\n",
      "  python_abi         conda-forge/linux-64::python_abi-3.11-3_cp311\n",
      "  pyzmq              conda-forge/linux-64::pyzmq-25.1.0-py311h75c88c4_0\n",
      "  readline           conda-forge/linux-64::readline-8.2-h8228510_1\n",
      "  setuptools         pkgs/main/linux-64::setuptools-67.8.0-py311h06a4308_0\n",
      "  six                conda-forge/noarch::six-1.16.0-pyh6c4a22f_0\n",
      "  stack_data         conda-forge/noarch::stack_data-0.6.2-pyhd8ed1ab_0\n",
      "  tk                 conda-forge/linux-64::tk-8.6.12-h27826a3_0\n",
      "  tornado            conda-forge/linux-64::tornado-6.3.2-py311h459d7ec_0\n",
      "  traitlets          conda-forge/noarch::traitlets-5.9.0-pyhd8ed1ab_0\n",
      "  typing-extensions  conda-forge/noarch::typing-extensions-4.6.3-hd8ed1ab_0\n",
      "  typing_extensions  conda-forge/noarch::typing_extensions-4.6.3-pyha770c72_0\n",
      "  tzdata             conda-forge/noarch::tzdata-2023c-h71feb2d_0\n",
      "  wcwidth            conda-forge/noarch::wcwidth-0.2.6-pyhd8ed1ab_0\n",
      "  wheel              conda-forge/noarch::wheel-0.40.0-pyhd8ed1ab_0\n",
      "  xz                 pkgs/main/linux-64::xz-5.4.2-h5eee18b_0\n",
      "  zeromq             conda-forge/linux-64::zeromq-4.3.4-h9c3ff4c_1\n",
      "  zipp               conda-forge/noarch::zipp-3.15.0-pyhd8ed1ab_0\n",
      "\n",
      "\n",
      "\n",
      "Downloading and Extracting Packages\n",
      "traitlets-5.9.0      | 96 KB     | ##################################### | 100% \n",
      "libuuid-2.38.1       | 33 KB     | ##################################### | 100% \n",
      "typing-extensions-4. | 10 KB     | ##################################### | 100% \n",
      "platformdirs-3.5.3   | 18 KB     | ##################################### | 100% \n",
      "_libgcc_mutex-0.1    | 3 KB      | ##################################### | 100% \n",
      "xz-5.4.2             | 642 KB    | ##################################### | 100% \n",
      "ca-certificates-2023 | 120 KB    | ##################################### | 100% \n",
      "libstdcxx-ng-13.1.0  | 3.7 MB    | ##################################### | 100% \n",
      "libzlib-1.2.13       | 60 KB     | ##################################### | 100% \n",
      "executing-1.2.0      | 24 KB     | ##################################### | 100% \n",
      "tk-8.6.12            | 3.3 MB    | ##################################### | 100% \n",
      "importlib_metadata-6 | 9 KB      | ##################################### | 100% \n",
      "ncurses-6.4          | 860 KB    | ##################################### | 100% \n",
      "ptyprocess-0.7.0     | 16 KB     | ##################################### | 100% \n",
      "python-dateutil-2.8. | 240 KB    | ##################################### | 100% \n",
      "packaging-23.1       | 45 KB     | ##################################### | 100% \n",
      "matplotlib-inline-0. | 12 KB     | ##################################### | 100% \n",
      "nest-asyncio-1.5.6   | 10 KB     | ##################################### | 100% \n",
      "libffi-3.4.4         | 142 KB    | ##################################### | 100% \n",
      "wcwidth-0.2.6        | 28 KB     | ##################################### | 100% \n",
      "backports-1.1        | 4 KB      | ##################################### | 100% \n",
      "jedi-0.18.2          | 786 KB    | ##################################### | 100% \n",
      "jupyter_client-8.2.0 | 102 KB    | ##################################### | 100% \n",
      "zipp-3.15.0          | 17 KB     | ##################################### | 100% \n",
      "asttokens-2.2.1      | 27 KB     | ##################################### | 100% \n",
      "wheel-0.40.0         | 54 KB     | ##################################### | 100% \n",
      "tzdata-2023c         | 115 KB    | ##################################### | 100% \n",
      "libgcc-ng-13.1.0     | 758 KB    | ##################################### | 100% \n",
      "openssl-3.1.1        | 2.5 MB    | ##################################### | 100% \n",
      "importlib-metadata-6 | 25 KB     | ##################################### | 100% \n",
      "setuptools-67.8.0    | 1.4 MB    | ##################################### | 100% \n",
      "ipykernel-6.19.2     | 268 KB    | ##################################### | 100% \n",
      "pygments-2.15.1      | 821 KB    | ##################################### | 100% \n",
      "backcall-0.2.0       | 13 KB     | ##################################### | 100% \n",
      "prompt-toolkit-3.0.3 | 263 KB    | ##################################### | 100% \n",
      "libsqlite-3.42.0     | 809 KB    | ##################################### | 100% \n",
      "psutil-5.9.5         | 488 KB    | ##################################### | 100% \n",
      "decorator-5.1.1      | 12 KB     | ##################################### | 100% \n",
      "parso-0.8.3          | 69 KB     | ##################################### | 100% \n",
      "tornado-6.3.2        | 822 KB    | ##################################### | 100% \n",
      "ipython-8.12.0       | 1.4 MB    | ##################################### | 100% \n",
      "libnsl-2.0.0         | 31 KB     | ##################################### | 100% \n",
      "comm-0.1.3           | 11 KB     | ##################################### | 100% \n",
      "python-3.11.4        | 29.3 MB   | ##################################### | 100% \n",
      "ld_impl_linux-64-2.4 | 688 KB    | ##################################### | 100% \n",
      "readline-8.2         | 275 KB    | ##################################### | 100% \n",
      "pyzmq-25.1.0         | 517 KB    | ##################################### | 100% \n",
      "stack_data-0.6.2     | 26 KB     | ##################################### | 100% \n",
      "bzip2-1.0.8          | 484 KB    | ##################################### | 100% \n",
      "pure_eval-0.2.2      | 14 KB     | ##################################### | 100% \n",
      "typing_extensions-4. | 34 KB     | ##################################### | 100% \n",
      "jupyter_core-5.3.0   | 112 KB    | ##################################### | 100% \n",
      "pip-23.1.2           | 1.3 MB    | ##################################### | 100% \n",
      "six-1.16.0           | 14 KB     | ##################################### | 100% \n",
      "backports.functools_ | 9 KB      | ##################################### | 100% \n",
      "pexpect-4.8.0        | 48 KB     | ##################################### | 100% \n",
      "libexpat-2.5.0       | 76 KB     | ##################################### | 100% \n",
      "zeromq-4.3.4         | 351 KB    | ##################################### | 100% \n",
      "libsodium-1.0.18     | 366 KB    | ##################################### | 100% \n",
      "libgomp-13.1.0       | 409 KB    | ##################################### | 100% \n",
      "pickleshare-0.7.5    | 9 KB      | ##################################### | 100% \n",
      "_openmp_mutex-4.5    | 23 KB     | ##################################### | 100% \n",
      "python_abi-3.11      | 6 KB      | ##################################### | 100% \n",
      "debugpy-1.6.7        | 2.2 MB    | ##################################### | 100% \n",
      "Preparing transaction: done\n",
      "Verifying transaction: done\n",
      "Executing transaction: done\n",
      "#\n",
      "# To activate this environment, use\n",
      "#\n",
      "#     $ conda activate anya_test\n",
      "#\n",
      "# To deactivate an active environment, use\n",
      "#\n",
      "#     $ conda deactivate\n",
      "\n"
     ]
    }
   ],
   "source": [
    "! conda create --name my_env python ipykernel -y "
   ]
  },
  {
   "cell_type": "markdown",
   "metadata": {},
   "source": [
    "Install any packages relevant for the exercises within your environment"
   ]
  },
  {
   "cell_type": "code",
   "execution_count": 13,
   "metadata": {},
   "outputs": [
    {
     "name": "stdout",
     "output_type": "stream",
     "text": [
      "\n",
      "CommandNotFoundError: Your shell has not been properly configured to use 'conda activate'.\n",
      "To initialize your shell, run\n",
      "\n",
      "    $ conda init <SHELL_NAME>\n",
      "\n",
      "Currently supported shells are:\n",
      "  - bash\n",
      "  - fish\n",
      "  - tcsh\n",
      "  - xonsh\n",
      "  - zsh\n",
      "  - powershell\n",
      "\n",
      "See 'conda init --help' for more information and options.\n",
      "\n",
      "IMPORTANT: You may need to close and restart your shell after running 'conda init'.\n",
      "\n",
      "\n"
     ]
    }
   ],
   "source": [
    "!conda activate my_env"
   ]
  },
  {
   "cell_type": "markdown",
   "metadata": {},
   "source": [
    "#### **Exercises IV**"
   ]
  },
  {
   "cell_type": "markdown",
   "metadata": {},
   "source": [
    "Install relevant packages for the Python exercises in the terminal: "
   ]
  },
  {
   "cell_type": "code",
   "execution_count": null,
   "metadata": {},
   "outputs": [],
   "source": [
    "! pip install pandas"
   ]
  },
  {
   "cell_type": "code",
   "execution_count": null,
   "metadata": {},
   "outputs": [],
   "source": [
    "! pip install matplotlib "
   ]
  },
  {
   "cell_type": "code",
   "execution_count": 22,
   "metadata": {
    "collapsed": true,
    "jupyter": {
     "outputs_hidden": true
    }
   },
   "outputs": [
    {
     "name": "stdout",
     "output_type": "stream",
     "text": [
      "Collecting plotly\n",
      "  Downloading plotly-5.15.0-py2.py3-none-any.whl (15.5 MB)\n",
      "\u001b[2K     \u001b[90m━━━━━━━━━━━━━━━━━━━━━━━━━━━━━━━━━━━━━━━━\u001b[0m \u001b[32m15.5/15.5 MB\u001b[0m \u001b[31m82.4 MB/s\u001b[0m eta \u001b[36m0:00:00\u001b[0m00:01\u001b[0m00:01\u001b[0m\n",
      "\u001b[?25hCollecting tenacity>=6.2.0 (from plotly)\n",
      "  Downloading tenacity-8.2.2-py3-none-any.whl (24 kB)\n",
      "Requirement already satisfied: packaging in /tmp/cloudos_user_envs/anya_test/lib/python3.11/site-packages (from plotly) (23.1)\n",
      "Installing collected packages: tenacity, plotly\n",
      "Successfully installed plotly-5.15.0 tenacity-8.2.2\n"
     ]
    }
   ],
   "source": [
    "! pip install plotly "
   ]
  },
  {
   "cell_type": "markdown",
   "metadata": {},
   "source": [
    "Import all the relevant packages that you previously installed "
   ]
  },
  {
   "cell_type": "code",
   "execution_count": 16,
   "metadata": {},
   "outputs": [],
   "source": [
    "import pandas as pd\n",
    "import plotly.express as px \n",
    "import matplotlib.pyplot as plt\n",
    "import seaborn as sns"
   ]
  },
  {
   "cell_type": "markdown",
   "metadata": {},
   "source": [
    "Read the data file containing the cohort phenotypic data "
   ]
  },
  {
   "cell_type": "code",
   "execution_count": 13,
   "metadata": {},
   "outputs": [],
   "source": [
    "data = pd.read_csv('clinical_data.csv')"
   ]
  },
  {
   "cell_type": "markdown",
   "metadata": {},
   "source": [
    "Preview the data "
   ]
  },
  {
   "cell_type": "code",
   "execution_count": 14,
   "metadata": {},
   "outputs": [
    {
     "data": {
      "text/html": [
       "<div>\n",
       "<style scoped>\n",
       "    .dataframe tbody tr th:only-of-type {\n",
       "        vertical-align: middle;\n",
       "    }\n",
       "\n",
       "    .dataframe tbody tr th {\n",
       "        vertical-align: top;\n",
       "    }\n",
       "\n",
       "    .dataframe thead th {\n",
       "        text-align: right;\n",
       "    }\n",
       "</style>\n",
       "<table border=\"1\" class=\"dataframe\">\n",
       "  <thead>\n",
       "    <tr style=\"text-align: right;\">\n",
       "      <th></th>\n",
       "      <th>id</th>\n",
       "      <th>height</th>\n",
       "      <th>weight</th>\n",
       "      <th>cancer_type</th>\n",
       "      <th>cancer_subtype</th>\n",
       "      <th>cancer_signature</th>\n",
       "      <th>risk_factors</th>\n",
       "      <th>cancer_specific_risk_factors</th>\n",
       "      <th>gender</th>\n",
       "    </tr>\n",
       "  </thead>\n",
       "  <tbody>\n",
       "    <tr>\n",
       "      <th>0</th>\n",
       "      <td>1</td>\n",
       "      <td>169.509309</td>\n",
       "      <td>74.506712</td>\n",
       "      <td>Colorectal</td>\n",
       "      <td>Melanoma</td>\n",
       "      <td>Signature C</td>\n",
       "      <td>Diet</td>\n",
       "      <td>High red meat consumption</td>\n",
       "      <td>Male</td>\n",
       "    </tr>\n",
       "    <tr>\n",
       "      <th>1</th>\n",
       "      <td>2</td>\n",
       "      <td>182.087225</td>\n",
       "      <td>99.608950</td>\n",
       "      <td>Colorectal</td>\n",
       "      <td>Squamous cell carcinoma</td>\n",
       "      <td>Signature B</td>\n",
       "      <td>Smoking</td>\n",
       "      <td>Family history</td>\n",
       "      <td>Male</td>\n",
       "    </tr>\n",
       "    <tr>\n",
       "      <th>2</th>\n",
       "      <td>3</td>\n",
       "      <td>187.281200</td>\n",
       "      <td>71.831042</td>\n",
       "      <td>Lung</td>\n",
       "      <td>Melanoma</td>\n",
       "      <td>Signature A</td>\n",
       "      <td>Exposure to radiation</td>\n",
       "      <td>Asbestos exposure</td>\n",
       "      <td>Male</td>\n",
       "    </tr>\n",
       "    <tr>\n",
       "      <th>3</th>\n",
       "      <td>4</td>\n",
       "      <td>165.826428</td>\n",
       "      <td>78.576064</td>\n",
       "      <td>Skin</td>\n",
       "      <td>Squamous cell carcinoma</td>\n",
       "      <td>Signature B</td>\n",
       "      <td>Smoking</td>\n",
       "      <td>Sunburn history</td>\n",
       "      <td>Male</td>\n",
       "    </tr>\n",
       "    <tr>\n",
       "      <th>4</th>\n",
       "      <td>5</td>\n",
       "      <td>192.207498</td>\n",
       "      <td>70.397556</td>\n",
       "      <td>Skin</td>\n",
       "      <td>Melanoma</td>\n",
       "      <td>Signature E</td>\n",
       "      <td>Diet</td>\n",
       "      <td>UV radiation exposure</td>\n",
       "      <td>Male</td>\n",
       "    </tr>\n",
       "  </tbody>\n",
       "</table>\n",
       "</div>"
      ],
      "text/plain": [
       "   id      height     weight cancer_type           cancer_subtype  \\\n",
       "0   1  169.509309  74.506712  Colorectal                 Melanoma   \n",
       "1   2  182.087225  99.608950  Colorectal  Squamous cell carcinoma   \n",
       "2   3  187.281200  71.831042        Lung                 Melanoma   \n",
       "3   4  165.826428  78.576064        Skin  Squamous cell carcinoma   \n",
       "4   5  192.207498  70.397556        Skin                 Melanoma   \n",
       "\n",
       "  cancer_signature           risk_factors cancer_specific_risk_factors gender  \n",
       "0      Signature C                   Diet    High red meat consumption   Male  \n",
       "1      Signature B                Smoking               Family history   Male  \n",
       "2      Signature A  Exposure to radiation            Asbestos exposure   Male  \n",
       "3      Signature B                Smoking              Sunburn history   Male  \n",
       "4      Signature E                   Diet        UV radiation exposure   Male  "
      ]
     },
     "execution_count": 14,
     "metadata": {},
     "output_type": "execute_result"
    }
   ],
   "source": [
    "data.head()"
   ]
  },
  {
   "cell_type": "markdown",
   "metadata": {},
   "source": [
    "Disease signature E is not valid, so let's remove all the entires in the dataframe that contain signature E "
   ]
  },
  {
   "cell_type": "code",
   "execution_count": 17,
   "metadata": {},
   "outputs": [
    {
     "data": {
      "text/html": [
       "<div>\n",
       "<style scoped>\n",
       "    .dataframe tbody tr th:only-of-type {\n",
       "        vertical-align: middle;\n",
       "    }\n",
       "\n",
       "    .dataframe tbody tr th {\n",
       "        vertical-align: top;\n",
       "    }\n",
       "\n",
       "    .dataframe thead th {\n",
       "        text-align: right;\n",
       "    }\n",
       "</style>\n",
       "<table border=\"1\" class=\"dataframe\">\n",
       "  <thead>\n",
       "    <tr style=\"text-align: right;\">\n",
       "      <th></th>\n",
       "      <th>id</th>\n",
       "      <th>height</th>\n",
       "      <th>weight</th>\n",
       "      <th>cancer_type</th>\n",
       "      <th>cancer_subtype</th>\n",
       "      <th>cancer_signature</th>\n",
       "      <th>risk_factors</th>\n",
       "      <th>cancer_specific_risk_factors</th>\n",
       "      <th>gender</th>\n",
       "    </tr>\n",
       "  </thead>\n",
       "  <tbody>\n",
       "    <tr>\n",
       "      <th>0</th>\n",
       "      <td>1</td>\n",
       "      <td>169.509309</td>\n",
       "      <td>74.506712</td>\n",
       "      <td>Colorectal</td>\n",
       "      <td>Melanoma</td>\n",
       "      <td>Signature C</td>\n",
       "      <td>Diet</td>\n",
       "      <td>High red meat consumption</td>\n",
       "      <td>Male</td>\n",
       "    </tr>\n",
       "    <tr>\n",
       "      <th>1</th>\n",
       "      <td>2</td>\n",
       "      <td>182.087225</td>\n",
       "      <td>99.608950</td>\n",
       "      <td>Colorectal</td>\n",
       "      <td>Squamous cell carcinoma</td>\n",
       "      <td>Signature B</td>\n",
       "      <td>Smoking</td>\n",
       "      <td>Family history</td>\n",
       "      <td>Male</td>\n",
       "    </tr>\n",
       "    <tr>\n",
       "      <th>2</th>\n",
       "      <td>3</td>\n",
       "      <td>187.281200</td>\n",
       "      <td>71.831042</td>\n",
       "      <td>Lung</td>\n",
       "      <td>Melanoma</td>\n",
       "      <td>Signature A</td>\n",
       "      <td>Exposure to radiation</td>\n",
       "      <td>Asbestos exposure</td>\n",
       "      <td>Male</td>\n",
       "    </tr>\n",
       "    <tr>\n",
       "      <th>3</th>\n",
       "      <td>4</td>\n",
       "      <td>165.826428</td>\n",
       "      <td>78.576064</td>\n",
       "      <td>Skin</td>\n",
       "      <td>Squamous cell carcinoma</td>\n",
       "      <td>Signature B</td>\n",
       "      <td>Smoking</td>\n",
       "      <td>Sunburn history</td>\n",
       "      <td>Male</td>\n",
       "    </tr>\n",
       "    <tr>\n",
       "      <th>5</th>\n",
       "      <td>6</td>\n",
       "      <td>154.269751</td>\n",
       "      <td>94.229870</td>\n",
       "      <td>Pancreatic</td>\n",
       "      <td>Adenocarcinoma</td>\n",
       "      <td>Signature D</td>\n",
       "      <td>Diet</td>\n",
       "      <td>Smoking</td>\n",
       "      <td>Female</td>\n",
       "    </tr>\n",
       "    <tr>\n",
       "      <th>...</th>\n",
       "      <td>...</td>\n",
       "      <td>...</td>\n",
       "      <td>...</td>\n",
       "      <td>...</td>\n",
       "      <td>...</td>\n",
       "      <td>...</td>\n",
       "      <td>...</td>\n",
       "      <td>...</td>\n",
       "      <td>...</td>\n",
       "    </tr>\n",
       "    <tr>\n",
       "      <th>994</th>\n",
       "      <td>995</td>\n",
       "      <td>150.244787</td>\n",
       "      <td>75.429185</td>\n",
       "      <td>Leukemia</td>\n",
       "      <td>Adenocarcinoma</td>\n",
       "      <td>Signature D</td>\n",
       "      <td>Smoking</td>\n",
       "      <td>Exposure to radiation</td>\n",
       "      <td>Female</td>\n",
       "    </tr>\n",
       "    <tr>\n",
       "      <th>995</th>\n",
       "      <td>996</td>\n",
       "      <td>192.294044</td>\n",
       "      <td>76.178225</td>\n",
       "      <td>Colorectal</td>\n",
       "      <td>Lymphoma</td>\n",
       "      <td>Signature B</td>\n",
       "      <td>Family history</td>\n",
       "      <td>High red meat consumption</td>\n",
       "      <td>Male</td>\n",
       "    </tr>\n",
       "    <tr>\n",
       "      <th>996</th>\n",
       "      <td>997</td>\n",
       "      <td>173.383122</td>\n",
       "      <td>95.752654</td>\n",
       "      <td>Breast</td>\n",
       "      <td>Squamous cell carcinoma</td>\n",
       "      <td>Signature C</td>\n",
       "      <td>Diet</td>\n",
       "      <td>Early menstruation</td>\n",
       "      <td>Male</td>\n",
       "    </tr>\n",
       "    <tr>\n",
       "      <th>998</th>\n",
       "      <td>999</td>\n",
       "      <td>193.578852</td>\n",
       "      <td>51.473763</td>\n",
       "      <td>Lung</td>\n",
       "      <td>Adenocarcinoma</td>\n",
       "      <td>Signature B</td>\n",
       "      <td>Family history</td>\n",
       "      <td>Smoking</td>\n",
       "      <td>Male</td>\n",
       "    </tr>\n",
       "    <tr>\n",
       "      <th>999</th>\n",
       "      <td>1000</td>\n",
       "      <td>196.058510</td>\n",
       "      <td>57.871003</td>\n",
       "      <td>Colorectal</td>\n",
       "      <td>Sarcoma</td>\n",
       "      <td>Signature D</td>\n",
       "      <td>Smoking</td>\n",
       "      <td>Family history</td>\n",
       "      <td>Male</td>\n",
       "    </tr>\n",
       "  </tbody>\n",
       "</table>\n",
       "<p>800 rows × 9 columns</p>\n",
       "</div>"
      ],
      "text/plain": [
       "       id      height     weight cancer_type           cancer_subtype  \\\n",
       "0       1  169.509309  74.506712  Colorectal                 Melanoma   \n",
       "1       2  182.087225  99.608950  Colorectal  Squamous cell carcinoma   \n",
       "2       3  187.281200  71.831042        Lung                 Melanoma   \n",
       "3       4  165.826428  78.576064        Skin  Squamous cell carcinoma   \n",
       "5       6  154.269751  94.229870  Pancreatic           Adenocarcinoma   \n",
       "..    ...         ...        ...         ...                      ...   \n",
       "994   995  150.244787  75.429185    Leukemia           Adenocarcinoma   \n",
       "995   996  192.294044  76.178225  Colorectal                 Lymphoma   \n",
       "996   997  173.383122  95.752654      Breast  Squamous cell carcinoma   \n",
       "998   999  193.578852  51.473763        Lung           Adenocarcinoma   \n",
       "999  1000  196.058510  57.871003  Colorectal                  Sarcoma   \n",
       "\n",
       "    cancer_signature           risk_factors cancer_specific_risk_factors  \\\n",
       "0        Signature C                   Diet    High red meat consumption   \n",
       "1        Signature B                Smoking               Family history   \n",
       "2        Signature A  Exposure to radiation            Asbestos exposure   \n",
       "3        Signature B                Smoking              Sunburn history   \n",
       "5        Signature D                   Diet                      Smoking   \n",
       "..               ...                    ...                          ...   \n",
       "994      Signature D                Smoking        Exposure to radiation   \n",
       "995      Signature B         Family history    High red meat consumption   \n",
       "996      Signature C                   Diet           Early menstruation   \n",
       "998      Signature B         Family history                      Smoking   \n",
       "999      Signature D                Smoking               Family history   \n",
       "\n",
       "     gender  \n",
       "0      Male  \n",
       "1      Male  \n",
       "2      Male  \n",
       "3      Male  \n",
       "5    Female  \n",
       "..      ...  \n",
       "994  Female  \n",
       "995    Male  \n",
       "996    Male  \n",
       "998    Male  \n",
       "999    Male  \n",
       "\n",
       "[800 rows x 9 columns]"
      ]
     },
     "execution_count": 17,
     "metadata": {},
     "output_type": "execute_result"
    }
   ],
   "source": [
    "data = data[data['cancer_signature']!= 'Signature E']\n",
    "\n",
    "data"
   ]
  },
  {
   "cell_type": "markdown",
   "metadata": {},
   "source": [
    "Calculate BMI for the participants in the cohort using the weight and height columns of the dataframe. \n",
    "\n",
    "The formula for calculating BMI is: \n",
    "\n",
    "\n",
    "$$\n",
    "BMI = \\frac {weight (kg)} {(height (m))^2}\n",
    "$$\n"
   ]
  },
  {
   "cell_type": "code",
   "execution_count": null,
   "metadata": {},
   "outputs": [],
   "source": [
    "# Calculate BMI\n",
    "data['BMI'] = data['weight'] / ((data['height'] / 100) ** 2)"
   ]
  },
  {
   "cell_type": "markdown",
   "metadata": {},
   "source": [
    "Create a histogram of BMI values using Plotly:"
   ]
  },
  {
   "cell_type": "code",
   "execution_count": null,
   "metadata": {},
   "outputs": [],
   "source": [
    "fig = go.Figure()\n",
    "fig.add_trace(go.Histogram(x=data['BMI'], nbinsx=20))\n",
    "# Update the plot layout\n",
    "fig.update_layout(title='Distribution of BMI in Cancer Data',\n",
    "xaxis_title='BMI', yaxis_title='Count')\n",
    "# Display the plot\n",
    "fig.show()\n"
   ]
  },
  {
   "cell_type": "markdown",
   "metadata": {},
   "source": [
    "Count the risk factors in the cohort, grouped by cancer type, and generate a stacked bar plot of the counts: "
   ]
  },
  {
   "cell_type": "code",
   "execution_count": 25,
   "metadata": {},
   "outputs": [
    {
     "data": {
      "application/vnd.plotly.v1+json": {
       "config": {
        "plotlyServerURL": "https://plot.ly"
       },
       "data": [
        {
         "alignmentgroup": "True",
         "hovertemplate": "Risk Factors=Obesity<br>Cancer Type=%{x}<br> Risk Factor Count=%{y}<extra></extra>",
         "legendgroup": "Obesity",
         "marker": {
          "color": "#636efa",
          "pattern": {
           "shape": ""
          }
         },
         "name": "Obesity",
         "offsetgroup": "Obesity",
         "orientation": "v",
         "showlegend": true,
         "textposition": "auto",
         "type": "bar",
         "x": [
          "Breast",
          "Colorectal",
          "Leukemia",
          "Lung",
          "Ovarian",
          "Pancreatic",
          "Prostate",
          "Skin"
         ],
         "xaxis": "x",
         "y": [
          27,
          16,
          16,
          19,
          20,
          24,
          22,
          15
         ],
         "yaxis": "y"
        },
        {
         "alignmentgroup": "True",
         "hovertemplate": "Risk Factors=Family history<br>Cancer Type=%{x}<br> Risk Factor Count=%{y}<extra></extra>",
         "legendgroup": "Family history",
         "marker": {
          "color": "#EF553B",
          "pattern": {
           "shape": ""
          }
         },
         "name": "Family history",
         "offsetgroup": "Family history",
         "orientation": "v",
         "showlegend": true,
         "textposition": "auto",
         "type": "bar",
         "x": [
          "Breast",
          "Colorectal",
          "Leukemia",
          "Lung",
          "Ovarian",
          "Pancreatic",
          "Prostate",
          "Skin"
         ],
         "xaxis": "x",
         "y": [
          19,
          20,
          22,
          17,
          27,
          23,
          18,
          16
         ],
         "yaxis": "y"
        },
        {
         "alignmentgroup": "True",
         "hovertemplate": "Risk Factors=Smoking<br>Cancer Type=%{x}<br> Risk Factor Count=%{y}<extra></extra>",
         "legendgroup": "Smoking",
         "marker": {
          "color": "#00cc96",
          "pattern": {
           "shape": ""
          }
         },
         "name": "Smoking",
         "offsetgroup": "Smoking",
         "orientation": "v",
         "showlegend": true,
         "textposition": "auto",
         "type": "bar",
         "x": [
          "Breast",
          "Colorectal",
          "Leukemia",
          "Lung",
          "Ovarian",
          "Pancreatic",
          "Prostate",
          "Skin"
         ],
         "xaxis": "x",
         "y": [
          17,
          23,
          21,
          20,
          25,
          16,
          23,
          21
         ],
         "yaxis": "y"
        },
        {
         "alignmentgroup": "True",
         "hovertemplate": "Risk Factors=Exposure to radiation<br>Cancer Type=%{x}<br> Risk Factor Count=%{y}<extra></extra>",
         "legendgroup": "Exposure to radiation",
         "marker": {
          "color": "#ab63fa",
          "pattern": {
           "shape": ""
          }
         },
         "name": "Exposure to radiation",
         "offsetgroup": "Exposure to radiation",
         "orientation": "v",
         "showlegend": true,
         "textposition": "auto",
         "type": "bar",
         "x": [
          "Breast",
          "Colorectal",
          "Leukemia",
          "Lung",
          "Ovarian",
          "Pancreatic",
          "Prostate",
          "Skin"
         ],
         "xaxis": "x",
         "y": [
          17,
          15,
          25,
          14,
          27,
          23,
          19,
          23
         ],
         "yaxis": "y"
        },
        {
         "alignmentgroup": "True",
         "hovertemplate": "Risk Factors=Diet<br>Cancer Type=%{x}<br> Risk Factor Count=%{y}<extra></extra>",
         "legendgroup": "Diet",
         "marker": {
          "color": "#FFA15A",
          "pattern": {
           "shape": ""
          }
         },
         "name": "Diet",
         "offsetgroup": "Diet",
         "orientation": "v",
         "showlegend": true,
         "textposition": "auto",
         "type": "bar",
         "x": [
          "Breast",
          "Colorectal",
          "Leukemia",
          "Lung",
          "Ovarian",
          "Pancreatic",
          "Prostate",
          "Skin"
         ],
         "xaxis": "x",
         "y": [
          16,
          17,
          9,
          21,
          23,
          25,
          17,
          22
         ],
         "yaxis": "y"
        }
       ],
       "layout": {
        "autosize": true,
        "barmode": "relative",
        "legend": {
         "title": {
          "text": "Risk Factors"
         },
         "tracegroupgap": 0
        },
        "template": {
         "data": {
          "bar": [
           {
            "error_x": {
             "color": "#2a3f5f"
            },
            "error_y": {
             "color": "#2a3f5f"
            },
            "marker": {
             "line": {
              "color": "#E5ECF6",
              "width": 0.5
             },
             "pattern": {
              "fillmode": "overlay",
              "size": 10,
              "solidity": 0.2
             }
            },
            "type": "bar"
           }
          ],
          "barpolar": [
           {
            "marker": {
             "line": {
              "color": "#E5ECF6",
              "width": 0.5
             },
             "pattern": {
              "fillmode": "overlay",
              "size": 10,
              "solidity": 0.2
             }
            },
            "type": "barpolar"
           }
          ],
          "carpet": [
           {
            "aaxis": {
             "endlinecolor": "#2a3f5f",
             "gridcolor": "white",
             "linecolor": "white",
             "minorgridcolor": "white",
             "startlinecolor": "#2a3f5f"
            },
            "baxis": {
             "endlinecolor": "#2a3f5f",
             "gridcolor": "white",
             "linecolor": "white",
             "minorgridcolor": "white",
             "startlinecolor": "#2a3f5f"
            },
            "type": "carpet"
           }
          ],
          "choropleth": [
           {
            "colorbar": {
             "outlinewidth": 0,
             "ticks": ""
            },
            "type": "choropleth"
           }
          ],
          "contour": [
           {
            "colorbar": {
             "outlinewidth": 0,
             "ticks": ""
            },
            "colorscale": [
             [
              0,
              "#0d0887"
             ],
             [
              0.1111111111111111,
              "#46039f"
             ],
             [
              0.2222222222222222,
              "#7201a8"
             ],
             [
              0.3333333333333333,
              "#9c179e"
             ],
             [
              0.4444444444444444,
              "#bd3786"
             ],
             [
              0.5555555555555556,
              "#d8576b"
             ],
             [
              0.6666666666666666,
              "#ed7953"
             ],
             [
              0.7777777777777778,
              "#fb9f3a"
             ],
             [
              0.8888888888888888,
              "#fdca26"
             ],
             [
              1,
              "#f0f921"
             ]
            ],
            "type": "contour"
           }
          ],
          "contourcarpet": [
           {
            "colorbar": {
             "outlinewidth": 0,
             "ticks": ""
            },
            "type": "contourcarpet"
           }
          ],
          "heatmap": [
           {
            "colorbar": {
             "outlinewidth": 0,
             "ticks": ""
            },
            "colorscale": [
             [
              0,
              "#0d0887"
             ],
             [
              0.1111111111111111,
              "#46039f"
             ],
             [
              0.2222222222222222,
              "#7201a8"
             ],
             [
              0.3333333333333333,
              "#9c179e"
             ],
             [
              0.4444444444444444,
              "#bd3786"
             ],
             [
              0.5555555555555556,
              "#d8576b"
             ],
             [
              0.6666666666666666,
              "#ed7953"
             ],
             [
              0.7777777777777778,
              "#fb9f3a"
             ],
             [
              0.8888888888888888,
              "#fdca26"
             ],
             [
              1,
              "#f0f921"
             ]
            ],
            "type": "heatmap"
           }
          ],
          "heatmapgl": [
           {
            "colorbar": {
             "outlinewidth": 0,
             "ticks": ""
            },
            "colorscale": [
             [
              0,
              "#0d0887"
             ],
             [
              0.1111111111111111,
              "#46039f"
             ],
             [
              0.2222222222222222,
              "#7201a8"
             ],
             [
              0.3333333333333333,
              "#9c179e"
             ],
             [
              0.4444444444444444,
              "#bd3786"
             ],
             [
              0.5555555555555556,
              "#d8576b"
             ],
             [
              0.6666666666666666,
              "#ed7953"
             ],
             [
              0.7777777777777778,
              "#fb9f3a"
             ],
             [
              0.8888888888888888,
              "#fdca26"
             ],
             [
              1,
              "#f0f921"
             ]
            ],
            "type": "heatmapgl"
           }
          ],
          "histogram": [
           {
            "marker": {
             "pattern": {
              "fillmode": "overlay",
              "size": 10,
              "solidity": 0.2
             }
            },
            "type": "histogram"
           }
          ],
          "histogram2d": [
           {
            "colorbar": {
             "outlinewidth": 0,
             "ticks": ""
            },
            "colorscale": [
             [
              0,
              "#0d0887"
             ],
             [
              0.1111111111111111,
              "#46039f"
             ],
             [
              0.2222222222222222,
              "#7201a8"
             ],
             [
              0.3333333333333333,
              "#9c179e"
             ],
             [
              0.4444444444444444,
              "#bd3786"
             ],
             [
              0.5555555555555556,
              "#d8576b"
             ],
             [
              0.6666666666666666,
              "#ed7953"
             ],
             [
              0.7777777777777778,
              "#fb9f3a"
             ],
             [
              0.8888888888888888,
              "#fdca26"
             ],
             [
              1,
              "#f0f921"
             ]
            ],
            "type": "histogram2d"
           }
          ],
          "histogram2dcontour": [
           {
            "colorbar": {
             "outlinewidth": 0,
             "ticks": ""
            },
            "colorscale": [
             [
              0,
              "#0d0887"
             ],
             [
              0.1111111111111111,
              "#46039f"
             ],
             [
              0.2222222222222222,
              "#7201a8"
             ],
             [
              0.3333333333333333,
              "#9c179e"
             ],
             [
              0.4444444444444444,
              "#bd3786"
             ],
             [
              0.5555555555555556,
              "#d8576b"
             ],
             [
              0.6666666666666666,
              "#ed7953"
             ],
             [
              0.7777777777777778,
              "#fb9f3a"
             ],
             [
              0.8888888888888888,
              "#fdca26"
             ],
             [
              1,
              "#f0f921"
             ]
            ],
            "type": "histogram2dcontour"
           }
          ],
          "mesh3d": [
           {
            "colorbar": {
             "outlinewidth": 0,
             "ticks": ""
            },
            "type": "mesh3d"
           }
          ],
          "parcoords": [
           {
            "line": {
             "colorbar": {
              "outlinewidth": 0,
              "ticks": ""
             }
            },
            "type": "parcoords"
           }
          ],
          "pie": [
           {
            "automargin": true,
            "type": "pie"
           }
          ],
          "scatter": [
           {
            "fillpattern": {
             "fillmode": "overlay",
             "size": 10,
             "solidity": 0.2
            },
            "type": "scatter"
           }
          ],
          "scatter3d": [
           {
            "line": {
             "colorbar": {
              "outlinewidth": 0,
              "ticks": ""
             }
            },
            "marker": {
             "colorbar": {
              "outlinewidth": 0,
              "ticks": ""
             }
            },
            "type": "scatter3d"
           }
          ],
          "scattercarpet": [
           {
            "marker": {
             "colorbar": {
              "outlinewidth": 0,
              "ticks": ""
             }
            },
            "type": "scattercarpet"
           }
          ],
          "scattergeo": [
           {
            "marker": {
             "colorbar": {
              "outlinewidth": 0,
              "ticks": ""
             }
            },
            "type": "scattergeo"
           }
          ],
          "scattergl": [
           {
            "marker": {
             "colorbar": {
              "outlinewidth": 0,
              "ticks": ""
             }
            },
            "type": "scattergl"
           }
          ],
          "scattermapbox": [
           {
            "marker": {
             "colorbar": {
              "outlinewidth": 0,
              "ticks": ""
             }
            },
            "type": "scattermapbox"
           }
          ],
          "scatterpolar": [
           {
            "marker": {
             "colorbar": {
              "outlinewidth": 0,
              "ticks": ""
             }
            },
            "type": "scatterpolar"
           }
          ],
          "scatterpolargl": [
           {
            "marker": {
             "colorbar": {
              "outlinewidth": 0,
              "ticks": ""
             }
            },
            "type": "scatterpolargl"
           }
          ],
          "scatterternary": [
           {
            "marker": {
             "colorbar": {
              "outlinewidth": 0,
              "ticks": ""
             }
            },
            "type": "scatterternary"
           }
          ],
          "surface": [
           {
            "colorbar": {
             "outlinewidth": 0,
             "ticks": ""
            },
            "colorscale": [
             [
              0,
              "#0d0887"
             ],
             [
              0.1111111111111111,
              "#46039f"
             ],
             [
              0.2222222222222222,
              "#7201a8"
             ],
             [
              0.3333333333333333,
              "#9c179e"
             ],
             [
              0.4444444444444444,
              "#bd3786"
             ],
             [
              0.5555555555555556,
              "#d8576b"
             ],
             [
              0.6666666666666666,
              "#ed7953"
             ],
             [
              0.7777777777777778,
              "#fb9f3a"
             ],
             [
              0.8888888888888888,
              "#fdca26"
             ],
             [
              1,
              "#f0f921"
             ]
            ],
            "type": "surface"
           }
          ],
          "table": [
           {
            "cells": {
             "fill": {
              "color": "#EBF0F8"
             },
             "line": {
              "color": "white"
             }
            },
            "header": {
             "fill": {
              "color": "#C8D4E3"
             },
             "line": {
              "color": "white"
             }
            },
            "type": "table"
           }
          ]
         },
         "layout": {
          "annotationdefaults": {
           "arrowcolor": "#2a3f5f",
           "arrowhead": 0,
           "arrowwidth": 1
          },
          "autotypenumbers": "strict",
          "coloraxis": {
           "colorbar": {
            "outlinewidth": 0,
            "ticks": ""
           }
          },
          "colorscale": {
           "diverging": [
            [
             0,
             "#8e0152"
            ],
            [
             0.1,
             "#c51b7d"
            ],
            [
             0.2,
             "#de77ae"
            ],
            [
             0.3,
             "#f1b6da"
            ],
            [
             0.4,
             "#fde0ef"
            ],
            [
             0.5,
             "#f7f7f7"
            ],
            [
             0.6,
             "#e6f5d0"
            ],
            [
             0.7,
             "#b8e186"
            ],
            [
             0.8,
             "#7fbc41"
            ],
            [
             0.9,
             "#4d9221"
            ],
            [
             1,
             "#276419"
            ]
           ],
           "sequential": [
            [
             0,
             "#0d0887"
            ],
            [
             0.1111111111111111,
             "#46039f"
            ],
            [
             0.2222222222222222,
             "#7201a8"
            ],
            [
             0.3333333333333333,
             "#9c179e"
            ],
            [
             0.4444444444444444,
             "#bd3786"
            ],
            [
             0.5555555555555556,
             "#d8576b"
            ],
            [
             0.6666666666666666,
             "#ed7953"
            ],
            [
             0.7777777777777778,
             "#fb9f3a"
            ],
            [
             0.8888888888888888,
             "#fdca26"
            ],
            [
             1,
             "#f0f921"
            ]
           ],
           "sequentialminus": [
            [
             0,
             "#0d0887"
            ],
            [
             0.1111111111111111,
             "#46039f"
            ],
            [
             0.2222222222222222,
             "#7201a8"
            ],
            [
             0.3333333333333333,
             "#9c179e"
            ],
            [
             0.4444444444444444,
             "#bd3786"
            ],
            [
             0.5555555555555556,
             "#d8576b"
            ],
            [
             0.6666666666666666,
             "#ed7953"
            ],
            [
             0.7777777777777778,
             "#fb9f3a"
            ],
            [
             0.8888888888888888,
             "#fdca26"
            ],
            [
             1,
             "#f0f921"
            ]
           ]
          },
          "colorway": [
           "#636efa",
           "#EF553B",
           "#00cc96",
           "#ab63fa",
           "#FFA15A",
           "#19d3f3",
           "#FF6692",
           "#B6E880",
           "#FF97FF",
           "#FECB52"
          ],
          "font": {
           "color": "#2a3f5f"
          },
          "geo": {
           "bgcolor": "white",
           "lakecolor": "white",
           "landcolor": "#E5ECF6",
           "showlakes": true,
           "showland": true,
           "subunitcolor": "white"
          },
          "hoverlabel": {
           "align": "left"
          },
          "hovermode": "closest",
          "mapbox": {
           "style": "light"
          },
          "paper_bgcolor": "white",
          "plot_bgcolor": "#E5ECF6",
          "polar": {
           "angularaxis": {
            "gridcolor": "white",
            "linecolor": "white",
            "ticks": ""
           },
           "bgcolor": "#E5ECF6",
           "radialaxis": {
            "gridcolor": "white",
            "linecolor": "white",
            "ticks": ""
           }
          },
          "scene": {
           "xaxis": {
            "backgroundcolor": "#E5ECF6",
            "gridcolor": "white",
            "gridwidth": 2,
            "linecolor": "white",
            "showbackground": true,
            "ticks": "",
            "zerolinecolor": "white"
           },
           "yaxis": {
            "backgroundcolor": "#E5ECF6",
            "gridcolor": "white",
            "gridwidth": 2,
            "linecolor": "white",
            "showbackground": true,
            "ticks": "",
            "zerolinecolor": "white"
           },
           "zaxis": {
            "backgroundcolor": "#E5ECF6",
            "gridcolor": "white",
            "gridwidth": 2,
            "linecolor": "white",
            "showbackground": true,
            "ticks": "",
            "zerolinecolor": "white"
           }
          },
          "shapedefaults": {
           "line": {
            "color": "#2a3f5f"
           }
          },
          "ternary": {
           "aaxis": {
            "gridcolor": "white",
            "linecolor": "white",
            "ticks": ""
           },
           "baxis": {
            "gridcolor": "white",
            "linecolor": "white",
            "ticks": ""
           },
           "bgcolor": "#E5ECF6",
           "caxis": {
            "gridcolor": "white",
            "linecolor": "white",
            "ticks": ""
           }
          },
          "title": {
           "x": 0.05
          },
          "xaxis": {
           "automargin": true,
           "gridcolor": "white",
           "linecolor": "white",
           "ticks": "",
           "title": {
            "standoff": 15
           },
           "zerolinecolor": "white",
           "zerolinewidth": 2
          },
          "yaxis": {
           "automargin": true,
           "gridcolor": "white",
           "linecolor": "white",
           "ticks": "",
           "title": {
            "standoff": 15
           },
           "zerolinecolor": "white",
           "zerolinewidth": 2
          }
         }
        },
        "title": {
         "text": "Value Counts of Risk Factors by Cancer Type"
        },
        "xaxis": {
         "anchor": "y",
         "autorange": true,
         "domain": [
          0,
          1
         ],
         "range": [
          -0.5,
          7.5
         ],
         "title": {
          "text": "Cancer Type"
         },
         "type": "category"
        },
        "yaxis": {
         "anchor": "x",
         "autorange": true,
         "domain": [
          0,
          1
         ],
         "range": [
          0,
          128.42105263157896
         ],
         "title": {
          "text": " Risk Factor Count"
         },
         "type": "linear"
        }
       }
      },
      "image/png": "[encoded data removed]",
      "text/html": [
       "<div>                            <div id=\"26d19c8e-eb35-4b70-9267-71bf590972f5\" class=\"plotly-graph-div\" style=\"height:525px; width:100%;\"></div>            <script type=\"text/javascript\">                require([\"plotly\"], function(Plotly) {                    window.PLOTLYENV=window.PLOTLYENV || {};                                    if (document.getElementById(\"26d19c8e-eb35-4b70-9267-71bf590972f5\")) {                    Plotly.newPlot(                        \"26d19c8e-eb35-4b70-9267-71bf590972f5\",                        [{\"alignmentgroup\":\"True\",\"hovertemplate\":\"Risk Factors=Obesity\\u003cbr\\u003eCancer Type=%{x}\\u003cbr\\u003e Risk Factor Count=%{y}\\u003cextra\\u003e\\u003c\\u002fextra\\u003e\",\"legendgroup\":\"Obesity\",\"marker\":{\"color\":\"#636efa\",\"pattern\":{\"shape\":\"\"}},\"name\":\"Obesity\",\"offsetgroup\":\"Obesity\",\"orientation\":\"v\",\"showlegend\":true,\"textposition\":\"auto\",\"x\":[\"Breast\",\"Colorectal\",\"Leukemia\",\"Lung\",\"Ovarian\",\"Pancreatic\",\"Prostate\",\"Skin\"],\"xaxis\":\"x\",\"y\":[27,16,16,19,20,24,22,15],\"yaxis\":\"y\",\"type\":\"bar\"},{\"alignmentgroup\":\"True\",\"hovertemplate\":\"Risk Factors=Family history\\u003cbr\\u003eCancer Type=%{x}\\u003cbr\\u003e Risk Factor Count=%{y}\\u003cextra\\u003e\\u003c\\u002fextra\\u003e\",\"legendgroup\":\"Family history\",\"marker\":{\"color\":\"#EF553B\",\"pattern\":{\"shape\":\"\"}},\"name\":\"Family history\",\"offsetgroup\":\"Family history\",\"orientation\":\"v\",\"showlegend\":true,\"textposition\":\"auto\",\"x\":[\"Breast\",\"Colorectal\",\"Leukemia\",\"Lung\",\"Ovarian\",\"Pancreatic\",\"Prostate\",\"Skin\"],\"xaxis\":\"x\",\"y\":[19,20,22,17,27,23,18,16],\"yaxis\":\"y\",\"type\":\"bar\"},{\"alignmentgroup\":\"True\",\"hovertemplate\":\"Risk Factors=Smoking\\u003cbr\\u003eCancer Type=%{x}\\u003cbr\\u003e Risk Factor Count=%{y}\\u003cextra\\u003e\\u003c\\u002fextra\\u003e\",\"legendgroup\":\"Smoking\",\"marker\":{\"color\":\"#00cc96\",\"pattern\":{\"shape\":\"\"}},\"name\":\"Smoking\",\"offsetgroup\":\"Smoking\",\"orientation\":\"v\",\"showlegend\":true,\"textposition\":\"auto\",\"x\":[\"Breast\",\"Colorectal\",\"Leukemia\",\"Lung\",\"Ovarian\",\"Pancreatic\",\"Prostate\",\"Skin\"],\"xaxis\":\"x\",\"y\":[17,23,21,20,25,16,23,21],\"yaxis\":\"y\",\"type\":\"bar\"},{\"alignmentgroup\":\"True\",\"hovertemplate\":\"Risk Factors=Exposure to radiation\\u003cbr\\u003eCancer Type=%{x}\\u003cbr\\u003e Risk Factor Count=%{y}\\u003cextra\\u003e\\u003c\\u002fextra\\u003e\",\"legendgroup\":\"Exposure to radiation\",\"marker\":{\"color\":\"#ab63fa\",\"pattern\":{\"shape\":\"\"}},\"name\":\"Exposure to radiation\",\"offsetgroup\":\"Exposure to radiation\",\"orientation\":\"v\",\"showlegend\":true,\"textposition\":\"auto\",\"x\":[\"Breast\",\"Colorectal\",\"Leukemia\",\"Lung\",\"Ovarian\",\"Pancreatic\",\"Prostate\",\"Skin\"],\"xaxis\":\"x\",\"y\":[17,15,25,14,27,23,19,23],\"yaxis\":\"y\",\"type\":\"bar\"},{\"alignmentgroup\":\"True\",\"hovertemplate\":\"Risk Factors=Diet\\u003cbr\\u003eCancer Type=%{x}\\u003cbr\\u003e Risk Factor Count=%{y}\\u003cextra\\u003e\\u003c\\u002fextra\\u003e\",\"legendgroup\":\"Diet\",\"marker\":{\"color\":\"#FFA15A\",\"pattern\":{\"shape\":\"\"}},\"name\":\"Diet\",\"offsetgroup\":\"Diet\",\"orientation\":\"v\",\"showlegend\":true,\"textposition\":\"auto\",\"x\":[\"Breast\",\"Colorectal\",\"Leukemia\",\"Lung\",\"Ovarian\",\"Pancreatic\",\"Prostate\",\"Skin\"],\"xaxis\":\"x\",\"y\":[16,17,9,21,23,25,17,22],\"yaxis\":\"y\",\"type\":\"bar\"}],                        {\"template\":{\"data\":{\"histogram2dcontour\":[{\"type\":\"histogram2dcontour\",\"colorbar\":{\"outlinewidth\":0,\"ticks\":\"\"},\"colorscale\":[[0.0,\"#0d0887\"],[0.1111111111111111,\"#46039f\"],[0.2222222222222222,\"#7201a8\"],[0.3333333333333333,\"#9c179e\"],[0.4444444444444444,\"#bd3786\"],[0.5555555555555556,\"#d8576b\"],[0.6666666666666666,\"#ed7953\"],[0.7777777777777778,\"#fb9f3a\"],[0.8888888888888888,\"#fdca26\"],[1.0,\"#f0f921\"]]}],\"choropleth\":[{\"type\":\"choropleth\",\"colorbar\":{\"outlinewidth\":0,\"ticks\":\"\"}}],\"histogram2d\":[{\"type\":\"histogram2d\",\"colorbar\":{\"outlinewidth\":0,\"ticks\":\"\"},\"colorscale\":[[0.0,\"#0d0887\"],[0.1111111111111111,\"#46039f\"],[0.2222222222222222,\"#7201a8\"],[0.3333333333333333,\"#9c179e\"],[0.4444444444444444,\"#bd3786\"],[0.5555555555555556,\"#d8576b\"],[0.6666666666666666,\"#ed7953\"],[0.7777777777777778,\"#fb9f3a\"],[0.8888888888888888,\"#fdca26\"],[1.0,\"#f0f921\"]]}],\"heatmap\":[{\"type\":\"heatmap\",\"colorbar\":{\"outlinewidth\":0,\"ticks\":\"\"},\"colorscale\":[[0.0,\"#0d0887\"],[0.1111111111111111,\"#46039f\"],[0.2222222222222222,\"#7201a8\"],[0.3333333333333333,\"#9c179e\"],[0.4444444444444444,\"#bd3786\"],[0.5555555555555556,\"#d8576b\"],[0.6666666666666666,\"#ed7953\"],[0.7777777777777778,\"#fb9f3a\"],[0.8888888888888888,\"#fdca26\"],[1.0,\"#f0f921\"]]}],\"heatmapgl\":[{\"type\":\"heatmapgl\",\"colorbar\":{\"outlinewidth\":0,\"ticks\":\"\"},\"colorscale\":[[0.0,\"#0d0887\"],[0.1111111111111111,\"#46039f\"],[0.2222222222222222,\"#7201a8\"],[0.3333333333333333,\"#9c179e\"],[0.4444444444444444,\"#bd3786\"],[0.5555555555555556,\"#d8576b\"],[0.6666666666666666,\"#ed7953\"],[0.7777777777777778,\"#fb9f3a\"],[0.8888888888888888,\"#fdca26\"],[1.0,\"#f0f921\"]]}],\"contourcarpet\":[{\"type\":\"contourcarpet\",\"colorbar\":{\"outlinewidth\":0,\"ticks\":\"\"}}],\"contour\":[{\"type\":\"contour\",\"colorbar\":{\"outlinewidth\":0,\"ticks\":\"\"},\"colorscale\":[[0.0,\"#0d0887\"],[0.1111111111111111,\"#46039f\"],[0.2222222222222222,\"#7201a8\"],[0.3333333333333333,\"#9c179e\"],[0.4444444444444444,\"#bd3786\"],[0.5555555555555556,\"#d8576b\"],[0.6666666666666666,\"#ed7953\"],[0.7777777777777778,\"#fb9f3a\"],[0.8888888888888888,\"#fdca26\"],[1.0,\"#f0f921\"]]}],\"surface\":[{\"type\":\"surface\",\"colorbar\":{\"outlinewidth\":0,\"ticks\":\"\"},\"colorscale\":[[0.0,\"#0d0887\"],[0.1111111111111111,\"#46039f\"],[0.2222222222222222,\"#7201a8\"],[0.3333333333333333,\"#9c179e\"],[0.4444444444444444,\"#bd3786\"],[0.5555555555555556,\"#d8576b\"],[0.6666666666666666,\"#ed7953\"],[0.7777777777777778,\"#fb9f3a\"],[0.8888888888888888,\"#fdca26\"],[1.0,\"#f0f921\"]]}],\"mesh3d\":[{\"type\":\"mesh3d\",\"colorbar\":{\"outlinewidth\":0,\"ticks\":\"\"}}],\"scatter\":[{\"fillpattern\":{\"fillmode\":\"overlay\",\"size\":10,\"solidity\":0.2},\"type\":\"scatter\"}],\"parcoords\":[{\"type\":\"parcoords\",\"line\":{\"colorbar\":{\"outlinewidth\":0,\"ticks\":\"\"}}}],\"scatterpolargl\":[{\"type\":\"scatterpolargl\",\"marker\":{\"colorbar\":{\"outlinewidth\":0,\"ticks\":\"\"}}}],\"bar\":[{\"error_x\":{\"color\":\"#2a3f5f\"},\"error_y\":{\"color\":\"#2a3f5f\"},\"marker\":{\"line\":{\"color\":\"#E5ECF6\",\"width\":0.5},\"pattern\":{\"fillmode\":\"overlay\",\"size\":10,\"solidity\":0.2}},\"type\":\"bar\"}],\"scattergeo\":[{\"type\":\"scattergeo\",\"marker\":{\"colorbar\":{\"outlinewidth\":0,\"ticks\":\"\"}}}],\"scatterpolar\":[{\"type\":\"scatterpolar\",\"marker\":{\"colorbar\":{\"outlinewidth\":0,\"ticks\":\"\"}}}],\"histogram\":[{\"marker\":{\"pattern\":{\"fillmode\":\"overlay\",\"size\":10,\"solidity\":0.2}},\"type\":\"histogram\"}],\"scattergl\":[{\"type\":\"scattergl\",\"marker\":{\"colorbar\":{\"outlinewidth\":0,\"ticks\":\"\"}}}],\"scatter3d\":[{\"type\":\"scatter3d\",\"line\":{\"colorbar\":{\"outlinewidth\":0,\"ticks\":\"\"}},\"marker\":{\"colorbar\":{\"outlinewidth\":0,\"ticks\":\"\"}}}],\"scattermapbox\":[{\"type\":\"scattermapbox\",\"marker\":{\"colorbar\":{\"outlinewidth\":0,\"ticks\":\"\"}}}],\"scatterternary\":[{\"type\":\"scatterternary\",\"marker\":{\"colorbar\":{\"outlinewidth\":0,\"ticks\":\"\"}}}],\"scattercarpet\":[{\"type\":\"scattercarpet\",\"marker\":{\"colorbar\":{\"outlinewidth\":0,\"ticks\":\"\"}}}],\"carpet\":[{\"aaxis\":{\"endlinecolor\":\"#2a3f5f\",\"gridcolor\":\"white\",\"linecolor\":\"white\",\"minorgridcolor\":\"white\",\"startlinecolor\":\"#2a3f5f\"},\"baxis\":{\"endlinecolor\":\"#2a3f5f\",\"gridcolor\":\"white\",\"linecolor\":\"white\",\"minorgridcolor\":\"white\",\"startlinecolor\":\"#2a3f5f\"},\"type\":\"carpet\"}],\"table\":[{\"cells\":{\"fill\":{\"color\":\"#EBF0F8\"},\"line\":{\"color\":\"white\"}},\"header\":{\"fill\":{\"color\":\"#C8D4E3\"},\"line\":{\"color\":\"white\"}},\"type\":\"table\"}],\"barpolar\":[{\"marker\":{\"line\":{\"color\":\"#E5ECF6\",\"width\":0.5},\"pattern\":{\"fillmode\":\"overlay\",\"size\":10,\"solidity\":0.2}},\"type\":\"barpolar\"}],\"pie\":[{\"automargin\":true,\"type\":\"pie\"}]},\"layout\":{\"autotypenumbers\":\"strict\",\"colorway\":[\"#636efa\",\"#EF553B\",\"#00cc96\",\"#ab63fa\",\"#FFA15A\",\"#19d3f3\",\"#FF6692\",\"#B6E880\",\"#FF97FF\",\"#FECB52\"],\"font\":{\"color\":\"#2a3f5f\"},\"hovermode\":\"closest\",\"hoverlabel\":{\"align\":\"left\"},\"paper_bgcolor\":\"white\",\"plot_bgcolor\":\"#E5ECF6\",\"polar\":{\"bgcolor\":\"#E5ECF6\",\"angularaxis\":{\"gridcolor\":\"white\",\"linecolor\":\"white\",\"ticks\":\"\"},\"radialaxis\":{\"gridcolor\":\"white\",\"linecolor\":\"white\",\"ticks\":\"\"}},\"ternary\":{\"bgcolor\":\"#E5ECF6\",\"aaxis\":{\"gridcolor\":\"white\",\"linecolor\":\"white\",\"ticks\":\"\"},\"baxis\":{\"gridcolor\":\"white\",\"linecolor\":\"white\",\"ticks\":\"\"},\"caxis\":{\"gridcolor\":\"white\",\"linecolor\":\"white\",\"ticks\":\"\"}},\"coloraxis\":{\"colorbar\":{\"outlinewidth\":0,\"ticks\":\"\"}},\"colorscale\":{\"sequential\":[[0.0,\"#0d0887\"],[0.1111111111111111,\"#46039f\"],[0.2222222222222222,\"#7201a8\"],[0.3333333333333333,\"#9c179e\"],[0.4444444444444444,\"#bd3786\"],[0.5555555555555556,\"#d8576b\"],[0.6666666666666666,\"#ed7953\"],[0.7777777777777778,\"#fb9f3a\"],[0.8888888888888888,\"#fdca26\"],[1.0,\"#f0f921\"]],\"sequentialminus\":[[0.0,\"#0d0887\"],[0.1111111111111111,\"#46039f\"],[0.2222222222222222,\"#7201a8\"],[0.3333333333333333,\"#9c179e\"],[0.4444444444444444,\"#bd3786\"],[0.5555555555555556,\"#d8576b\"],[0.6666666666666666,\"#ed7953\"],[0.7777777777777778,\"#fb9f3a\"],[0.8888888888888888,\"#fdca26\"],[1.0,\"#f0f921\"]],\"diverging\":[[0,\"#8e0152\"],[0.1,\"#c51b7d\"],[0.2,\"#de77ae\"],[0.3,\"#f1b6da\"],[0.4,\"#fde0ef\"],[0.5,\"#f7f7f7\"],[0.6,\"#e6f5d0\"],[0.7,\"#b8e186\"],[0.8,\"#7fbc41\"],[0.9,\"#4d9221\"],[1,\"#276419\"]]},\"xaxis\":{\"gridcolor\":\"white\",\"linecolor\":\"white\",\"ticks\":\"\",\"title\":{\"standoff\":15},\"zerolinecolor\":\"white\",\"automargin\":true,\"zerolinewidth\":2},\"yaxis\":{\"gridcolor\":\"white\",\"linecolor\":\"white\",\"ticks\":\"\",\"title\":{\"standoff\":15},\"zerolinecolor\":\"white\",\"automargin\":true,\"zerolinewidth\":2},\"scene\":{\"xaxis\":{\"backgroundcolor\":\"#E5ECF6\",\"gridcolor\":\"white\",\"linecolor\":\"white\",\"showbackground\":true,\"ticks\":\"\",\"zerolinecolor\":\"white\",\"gridwidth\":2},\"yaxis\":{\"backgroundcolor\":\"#E5ECF6\",\"gridcolor\":\"white\",\"linecolor\":\"white\",\"showbackground\":true,\"ticks\":\"\",\"zerolinecolor\":\"white\",\"gridwidth\":2},\"zaxis\":{\"backgroundcolor\":\"#E5ECF6\",\"gridcolor\":\"white\",\"linecolor\":\"white\",\"showbackground\":true,\"ticks\":\"\",\"zerolinecolor\":\"white\",\"gridwidth\":2}},\"shapedefaults\":{\"line\":{\"color\":\"#2a3f5f\"}},\"annotationdefaults\":{\"arrowcolor\":\"#2a3f5f\",\"arrowhead\":0,\"arrowwidth\":1},\"geo\":{\"bgcolor\":\"white\",\"landcolor\":\"#E5ECF6\",\"subunitcolor\":\"white\",\"showland\":true,\"showlakes\":true,\"lakecolor\":\"white\"},\"title\":{\"x\":0.05},\"mapbox\":{\"style\":\"light\"}}},\"xaxis\":{\"anchor\":\"y\",\"domain\":[0.0,1.0],\"title\":{\"text\":\"Cancer Type\"}},\"yaxis\":{\"anchor\":\"x\",\"domain\":[0.0,1.0],\"title\":{\"text\":\" Risk Factor Count\"}},\"legend\":{\"title\":{\"text\":\"Risk Factors\"},\"tracegroupgap\":0},\"title\":{\"text\":\"Value Counts of Risk Factors by Cancer Type\"},\"barmode\":\"relative\"},                        {\"responsive\": true}                    ).then(function(){\n",
       "                            \n",
       "var gd = document.getElementById('26d19c8e-eb35-4b70-9267-71bf590972f5');\n",
       "var x = new MutationObserver(function (mutations, observer) {{\n",
       "        var display = window.getComputedStyle(gd).display;\n",
       "        if (!display || display === 'none') {{\n",
       "            console.log([gd, 'removed!']);\n",
       "            Plotly.purge(gd);\n",
       "            observer.disconnect();\n",
       "        }}\n",
       "}});\n",
       "\n",
       "// Listen for the removal of the full notebook cells\n",
       "var notebookContainer = gd.closest('#notebook-container');\n",
       "if (notebookContainer) {{\n",
       "    x.observe(notebookContainer, {childList: true});\n",
       "}}\n",
       "\n",
       "// Listen for the clearing of the current output cell\n",
       "var outputEl = gd.closest('.output');\n",
       "if (outputEl) {{\n",
       "    x.observe(outputEl, {childList: true});\n",
       "}}\n",
       "\n",
       "                        })                };                });            </script>        </div>"
      ]
     },
     "metadata": {},
     "output_type": "display_data"
    }
   ],
   "source": [
    "# Group the data by cancer type and obtain value counts of risk factors\n",
    "risk_factor_counts = data.groupby('cancer_type')['risk_factors'].value_counts().reset_index(name='count')\n",
    "\n",
    "# Create an interactive bar plot\n",
    "fig = px.bar(risk_factor_counts, x='cancer_type', y='count', color='risk_factors',\n",
    "             title='Value Counts of Risk Factors by Cancer Type',\n",
    "             labels={'cancer_type': 'Cancer Type', 'count': ' Risk Factor Count', 'risk_factors': 'Risk Factors'})\n",
    "\n",
    "# Show the plot\n",
    "fig.show()"
   ]
  },
  {
   "cell_type": "markdown",
   "metadata": {},
   "source": [
    "Create a 3D Scatter Plot of Height, Weight, and Cancer Signature, using plotly:"
   ]
  },
  {
   "cell_type": "code",
   "execution_count": 26,
   "metadata": {},
   "outputs": [
    {
     "data": {
      "application/vnd.plotly.v1+json": {
       "config": {
        "plotlyServerURL": "https://plot.ly"
       },
       "data": [
        {
         "hovertemplate": "cancer_type=Colorectal<br>height=%{x}<br>weight=%{y}<br>cancer_signature=%{z}<extra></extra>",
         "legendgroup": "Colorectal",
         "marker": {
          "color": "#636efa",
          "symbol": "circle"
         },
         "mode": "markers",
         "name": "Colorectal",
         "scene": "scene",
         "showlegend": true,
         "type": "scatter3d",
         "x": [
          169.50930891728564,
          182.08722541474293,
          170.5254561882985,
          187.581884467708,
          197.7537069122488,
          187.87231219668496,
          189.35144401309728,
          176.8510424887279,
          150.1064497154075,
          189.6870608851854,
          190.51100834498695,
          171.044148370501,
          193.16008405775415,
          189.56002287803224,
          192.3854032582716,
          179.94578718884074,
          176.4843081304618,
          153.94443013437342,
          190.52721509157496,
          168.1017277794575,
          193.89708828224428,
          192.21460294801412,
          170.44294723791575,
          179.95498341505652,
          180.91642210415924,
          173.43922782050586,
          194.92672241402295,
          194.7756484888177,
          183.84372771101195,
          161.27058109008436,
          186.19907865372485,
          182.25558763039,
          194.1629994423211,
          193.72568659954865,
          199.66606627981747,
          182.4176242678311,
          177.43698612149228,
          155.64889665473524,
          182.19388749922632,
          169.86788613918813,
          180.52238879021223,
          195.9613587781505,
          161.20851779497156,
          157.97239305284646,
          168.86543970290188,
          171.30611327667032,
          180.46789870558055,
          173.99830207031644,
          195.6483464005299,
          163.1212806517924,
          190.0798231638308,
          184.82405589786907,
          193.79842804554175,
          198.2664970686383,
          192.97733266616228,
          170.14818047229116,
          170.42431660858588,
          150.73006706841613,
          177.77963251352534,
          173.28879938933886,
          158.59493734401724,
          185.2772716246356,
          166.72053243544562,
          178.50093826649055,
          180.3167406922105,
          157.67057503420358,
          178.0031549298051,
          187.89790751081452,
          165.10504887230667,
          191.08521754070085,
          153.3073432787635,
          193.6873859142028,
          169.2347245506843,
          165.5715290301697,
          188.4219870420391,
          152.0886557376003,
          166.3181981784497,
          186.6043026339916,
          182.98770453860632,
          188.23188958792787,
          161.97381277545657,
          170.5962018289376,
          160.18226558552834,
          187.5604883783,
          160.60558885470508,
          159.95915298039765,
          156.85363633963266,
          168.15789729316404,
          154.5992251408931,
          192.29404354438665,
          196.0585099715995
         ],
         "y": [
          74.50671200411408,
          99.60895027326654,
          92.36380691310234,
          71.56802209233747,
          51.12798410340215,
          65.56366016524073,
          63.75560720164556,
          56.315235904521465,
          81.6889245528672,
          65.86959579113895,
          80.19783465379751,
          78.23010834728402,
          65.96894541880933,
          96.28525612609847,
          80.66633637247833,
          51.13408147235856,
          63.9404094131738,
          53.94719682266824,
          55.05616323353991,
          78.08729084013603,
          51.98782288669906,
          86.47306888737609,
          95.0641697689885,
          70.97693184315487,
          97.10495063060642,
          53.35231991231972,
          86.25321699930453,
          59.34814540514286,
          80.4267235217292,
          53.64437218847552,
          67.65897171861755,
          52.98641517767562,
          93.85556877501423,
          56.958224365830745,
          78.19602207916941,
          98.90453798171076,
          55.466629602769714,
          67.09822960703016,
          98.38332308123796,
          77.9404836766208,
          55.567878447310896,
          61.47426298175991,
          99.5466424647297,
          91.27013155850578,
          76.96710768383572,
          62.98627384038787,
          66.04817519716575,
          91.26280639055572,
          85.83059106918864,
          84.57436157097283,
          85.47041744540132,
          66.61134177797749,
          61.49810943148039,
          84.33401318902663,
          94.31636897567014,
          62.293842331404775,
          93.8402682476482,
          55.52474986778262,
          95.31500551283663,
          88.70173339277531,
          99.18705976652,
          69.00184286543583,
          99.17032695674176,
          67.23273694617757,
          92.92483670660296,
          67.71827221712961,
          71.04899510728697,
          76.0316888789139,
          71.84279734920096,
          90.75022941290456,
          74.53271134429009,
          86.0032470147017,
          75.98874751861266,
          90.03552470262508,
          91.96639904762112,
          86.1658367453254,
          52.47814770288128,
          53.40902391791529,
          62.61973031961896,
          71.66296644652385,
          70.53525571911042,
          50.65554766670992,
          58.25676013077081,
          77.43271272185518,
          65.82021125104475,
          88.27765197701748,
          81.75655363402878,
          51.35294827009874,
          78.8583916392219,
          76.17822469584098,
          57.87100287641816
         ],
         "z": [
          "Signature C",
          "Signature B",
          "Signature D",
          "Signature C",
          "Signature A",
          "Signature D",
          "Signature C",
          "Signature D",
          "Signature A",
          "Signature A",
          "Signature D",
          "Signature B",
          "Signature A",
          "Signature B",
          "Signature B",
          "Signature A",
          "Signature A",
          "Signature C",
          "Signature C",
          "Signature D",
          "Signature B",
          "Signature B",
          "Signature D",
          "Signature B",
          "Signature C",
          "Signature C",
          "Signature A",
          "Signature B",
          "Signature D",
          "Signature D",
          "Signature D",
          "Signature A",
          "Signature B",
          "Signature C",
          "Signature D",
          "Signature B",
          "Signature A",
          "Signature D",
          "Signature A",
          "Signature A",
          "Signature D",
          "Signature D",
          "Signature C",
          "Signature A",
          "Signature C",
          "Signature C",
          "Signature A",
          "Signature B",
          "Signature B",
          "Signature A",
          "Signature A",
          "Signature B",
          "Signature A",
          "Signature A",
          "Signature C",
          "Signature C",
          "Signature C",
          "Signature B",
          "Signature C",
          "Signature D",
          "Signature B",
          "Signature C",
          "Signature D",
          "Signature A",
          "Signature D",
          "Signature B",
          "Signature D",
          "Signature B",
          "Signature C",
          "Signature B",
          "Signature D",
          "Signature B",
          "Signature D",
          "Signature A",
          "Signature C",
          "Signature D",
          "Signature B",
          "Signature C",
          "Signature B",
          "Signature C",
          "Signature D",
          "Signature A",
          "Signature C",
          "Signature D",
          "Signature D",
          "Signature D",
          "Signature C",
          "Signature A",
          "Signature C",
          "Signature B",
          "Signature D"
         ]
        },
        {
         "hovertemplate": "cancer_type=Lung<br>height=%{x}<br>weight=%{y}<br>cancer_signature=%{z}<extra></extra>",
         "legendgroup": "Lung",
         "marker": {
          "color": "#EF553B",
          "symbol": "circle"
         },
         "mode": "markers",
         "name": "Lung",
         "scene": "scene",
         "showlegend": true,
         "type": "scatter3d",
         "x": [
          187.28119990440277,
          171.91676204832902,
          150.72730457360123,
          168.99805982371873,
          172.29970264750983,
          165.13083550610045,
          194.31683701619173,
          188.9201519627287,
          198.7008809134796,
          171.05956860556293,
          179.2638058881574,
          179.0605840374682,
          159.0705604273878,
          197.14826314178688,
          168.58857214712413,
          162.07357225030322,
          189.89131333482996,
          197.76958934014576,
          173.56590052203845,
          171.90758154560916,
          158.20144355201285,
          170.67049051853945,
          175.39242410795427,
          178.38061324695693,
          166.90389542396656,
          164.21115904627504,
          189.1989488085527,
          159.89393544148516,
          167.10052394667775,
          191.18897312493937,
          158.64751006926178,
          152.80581716569824,
          188.63226252838436,
          184.49188423557487,
          175.20088372763547,
          163.02925481967816,
          199.8181633410215,
          167.3257782074525,
          193.4340963324773,
          159.81508889514333,
          162.82631505133887,
          185.22049796555305,
          162.33021926245223,
          172.23470325578646,
          187.4574634112188,
          170.33682011809688,
          169.97161016150335,
          168.07628362752857,
          152.22612496154596,
          177.19215678487123,
          159.59369834460094,
          155.57584480422983,
          188.43834586267752,
          175.5520858090309,
          196.8814402195636,
          198.1070239235802,
          153.37034441302256,
          169.45946560608942,
          194.83506917872128,
          187.27682822936345,
          196.23671620972337,
          173.96826506414462,
          188.07605404957943,
          182.64587048212456,
          172.8619487589317,
          190.7034170807377,
          184.71260376560508,
          158.7273166074046,
          158.08843962544617,
          187.69872970404828,
          168.8276912817633,
          178.59057423724465,
          180.47082986913085,
          175.11699259818386,
          164.72026716463094,
          172.09701373291867,
          170.94088971794864,
          158.4580191795829,
          171.59262307321285,
          188.290558475812,
          198.0998558614468,
          150.58112709427104,
          179.3485265919235,
          159.14878749628417,
          159.18489813845355,
          157.80033490583446,
          164.77848029100042,
          166.32500731911597,
          174.25150991771233,
          183.68613328266676,
          193.5788516198364
         ],
         "y": [
          71.83104229896674,
          83.55323291189939,
          73.56624570560038,
          73.08941210122703,
          56.39132447680161,
          84.37582511066306,
          61.1679706562426,
          83.39089100501144,
          66.99014421622591,
          88.62700520878175,
          99.87918200834888,
          66.66735793521283,
          87.06318748700392,
          50.18192152426428,
          94.31406544487862,
          81.46861430280933,
          52.42682920976537,
          56.94320940027704,
          99.0734074586406,
          65.93999798528112,
          91.0002479169779,
          75.40972741031831,
          73.79081895761983,
          85.48335137165971,
          71.51166589662719,
          55.03116102309265,
          66.23074015249934,
          57.1314518794553,
          75.10166026507238,
          63.00712641050253,
          67.72202224368544,
          68.67210770056775,
          99.45575350335444,
          56.19681782357574,
          62.16018627140692,
          93.93704991789434,
          76.5766377748796,
          84.46052085905896,
          72.24703573673258,
          91.91892948500512,
          92.21926331509891,
          52.58279212003136,
          88.10339316721726,
          68.38522371070951,
          80.56190010354257,
          87.98712628446842,
          86.03389566092544,
          97.3803582567611,
          81.70226264090557,
          83.01163872688034,
          71.05585208064002,
          72.4429142521407,
          78.36394291972634,
          64.90740441179187,
          93.00862630235277,
          79.81442046843793,
          69.71834379718487,
          87.36068030312423,
          81.20650171738748,
          66.17442465347669,
          88.46322210259049,
          96.26729926348062,
          73.38097923753597,
          85.67529898552475,
          75.48446405055644,
          63.41851545893715,
          88.13151093636156,
          58.80820356111131,
          88.93156449429512,
          70.07539164439478,
          83.73440549641886,
          61.36282330849272,
          88.61867235931483,
          60.618320834300725,
          60.9371077111094,
          64.95009707307963,
          73.74087953285418,
          90.33876419046231,
          58.44572281833953,
          83.54405236294303,
          73.26115242674408,
          90.05732252336341,
          69.76430575982596,
          99.2064525044203,
          86.09402083658837,
          60.09788861356611,
          98.32164858206158,
          92.4648281361552,
          53.10755569194933,
          98.74303916027918,
          51.47376314014786
         ],
         "z": [
          "Signature A",
          "Signature B",
          "Signature D",
          "Signature C",
          "Signature D",
          "Signature C",
          "Signature B",
          "Signature C",
          "Signature A",
          "Signature A",
          "Signature D",
          "Signature D",
          "Signature D",
          "Signature D",
          "Signature A",
          "Signature D",
          "Signature D",
          "Signature A",
          "Signature C",
          "Signature B",
          "Signature A",
          "Signature A",
          "Signature D",
          "Signature C",
          "Signature B",
          "Signature C",
          "Signature B",
          "Signature D",
          "Signature B",
          "Signature A",
          "Signature A",
          "Signature A",
          "Signature D",
          "Signature A",
          "Signature D",
          "Signature D",
          "Signature A",
          "Signature D",
          "Signature B",
          "Signature A",
          "Signature D",
          "Signature A",
          "Signature C",
          "Signature D",
          "Signature C",
          "Signature D",
          "Signature A",
          "Signature A",
          "Signature D",
          "Signature A",
          "Signature B",
          "Signature D",
          "Signature A",
          "Signature C",
          "Signature A",
          "Signature C",
          "Signature D",
          "Signature C",
          "Signature C",
          "Signature A",
          "Signature A",
          "Signature A",
          "Signature C",
          "Signature C",
          "Signature D",
          "Signature B",
          "Signature D",
          "Signature C",
          "Signature D",
          "Signature B",
          "Signature B",
          "Signature A",
          "Signature A",
          "Signature A",
          "Signature C",
          "Signature B",
          "Signature C",
          "Signature A",
          "Signature A",
          "Signature B",
          "Signature B",
          "Signature A",
          "Signature A",
          "Signature B",
          "Signature A",
          "Signature C",
          "Signature A",
          "Signature B",
          "Signature B",
          "Signature A",
          "Signature B"
         ]
        },
        {
         "hovertemplate": "cancer_type=Skin<br>height=%{x}<br>weight=%{y}<br>cancer_signature=%{z}<extra></extra>",
         "legendgroup": "Skin",
         "marker": {
          "color": "#00cc96",
          "symbol": "circle"
         },
         "mode": "markers",
         "name": "Skin",
         "scene": "scene",
         "showlegend": true,
         "type": "scatter3d",
         "x": [
          165.82642818701683,
          190.7235263723358,
          151.8726682651193,
          190.72828870162147,
          189.66419133061115,
          164.78833777850554,
          152.4487027573722,
          168.5314600600479,
          163.66734616048927,
          191.0282865397185,
          173.35395166707633,
          189.5163996792056,
          177.99431985417652,
          175.72211471165988,
          173.0786954332622,
          182.0162723294208,
          192.51668205049776,
          195.58000396167927,
          150.9688832569055,
          169.99466606394927,
          168.21809893276358,
          188.6021680585328,
          182.41380923508007,
          190.20705262103917,
          179.93442369937165,
          155.90393380476053,
          184.6248411827077,
          177.1817073180051,
          165.174719158259,
          173.1256148313135,
          198.95219945620207,
          176.15678097493003,
          170.08217150625944,
          188.70077728800985,
          190.6899483057065,
          165.7619514125455,
          183.4540621526285,
          168.67215192974191,
          171.77714405790917,
          169.26150353688973,
          170.93234688619745,
          172.11397416749304,
          175.0534676876101,
          184.3997169901773,
          172.6951788000096,
          171.6240946860539,
          165.11738362423534,
          187.36788336289348,
          168.4122585339898,
          181.48074286661983,
          166.13292135602686,
          175.5393764071407,
          168.02575285175013,
          173.47210987593564,
          152.65059482453185,
          155.07683583917475,
          190.92082955235009,
          198.72889513736365,
          152.7617326402016,
          191.73682898793555,
          186.2406517530377,
          169.38671926370807,
          166.52488057353048,
          165.70316528648067,
          158.7765880818542,
          169.93545850556535,
          158.714387592813,
          188.08719327951604,
          153.12999137982578,
          160.9758454523054,
          166.9789672754698,
          190.1948127153739,
          165.10876651704004,
          161.31412466819296,
          193.3114705868753,
          182.99034384957247,
          175.39141436217545,
          153.02249238537632,
          152.7691502832107,
          179.23856434172455,
          166.57699499971386,
          184.64247648946804,
          177.17563436441617,
          153.32709741903395,
          166.777251944115,
          194.25312901330244,
          158.23830432354836,
          156.29760667474122,
          156.78518222295816,
          153.99272433896522,
          192.6607267722572,
          172.26343764727352,
          197.47622798540465,
          151.12923527118755,
          151.29529308902664,
          165.2278837236318,
          166.239885799951
         ],
         "y": [
          78.5760635965153,
          50.51060019180643,
          79.67552494065218,
          59.914575908766494,
          91.96761660257006,
          84.95902493332784,
          73.47725696665016,
          64.0493888406159,
          73.18430275887894,
          52.40846566155174,
          79.50616664308839,
          93.36570418528224,
          65.35321502056902,
          86.56287977259903,
          65.14036140022536,
          97.11077069441905,
          84.84392888610651,
          72.70863875859429,
          73.48300479853035,
          56.46558386331965,
          72.9476824197512,
          73.58511335052034,
          82.64168130675708,
          91.42580636083233,
          94.60195769268722,
          65.98329873459795,
          64.47006322399939,
          79.81367365021521,
          58.244317011330295,
          65.2783686758039,
          86.34362464366816,
          63.87991845875138,
          66.4874196069439,
          81.88506353109143,
          78.77632737233122,
          52.90123605939952,
          94.3243851281834,
          88.41090088298098,
          89.90916376713761,
          88.89489618612612,
          54.40002653790664,
          69.51901242357982,
          64.30190423912163,
          78.45002771986461,
          63.81803958445494,
          89.4290918733576,
          88.07808999196257,
          86.29834941314157,
          73.82795318856711,
          85.16182073757635,
          71.73257180219429,
          85.62502219812654,
          92.2092736195837,
          69.74278183594359,
          94.63877656966876,
          79.51556912203966,
          74.85611619886598,
          92.71095196095324,
          51.22984215662638,
          75.53749147480131,
          90.10447342539638,
          79.08144631346585,
          84.84932531119438,
          82.68480825730973,
          81.19308723188098,
          71.34995904442142,
          54.16815699346917,
          65.9839029029017,
          58.112977699757664,
          60.68997274817529,
          59.67791284279256,
          71.50237663359022,
          52.372656876819086,
          72.88097649762216,
          83.4651305325853,
          73.63573019046032,
          76.0718223015171,
          79.20376547362926,
          87.13071478642503,
          84.8129658726084,
          89.96145660007817,
          88.4530205138907,
          61.57771654290379,
          81.00440576092834,
          81.89085477086063,
          71.04876465635829,
          71.37613699166997,
          68.6481365818659,
          83.91512334482262,
          74.94363348249486,
          95.61588636522912,
          98.611487440746,
          77.00727582706276,
          76.50024767776712,
          99.08772840487782,
          83.27905450171693,
          85.94597275824995
         ],
         "z": [
          "Signature B",
          "Signature C",
          "Signature A",
          "Signature C",
          "Signature C",
          "Signature D",
          "Signature B",
          "Signature C",
          "Signature C",
          "Signature C",
          "Signature A",
          "Signature B",
          "Signature B",
          "Signature A",
          "Signature D",
          "Signature B",
          "Signature C",
          "Signature A",
          "Signature C",
          "Signature A",
          "Signature A",
          "Signature A",
          "Signature B",
          "Signature C",
          "Signature C",
          "Signature D",
          "Signature D",
          "Signature D",
          "Signature B",
          "Signature C",
          "Signature C",
          "Signature D",
          "Signature B",
          "Signature C",
          "Signature D",
          "Signature B",
          "Signature D",
          "Signature D",
          "Signature B",
          "Signature C",
          "Signature C",
          "Signature C",
          "Signature D",
          "Signature D",
          "Signature A",
          "Signature C",
          "Signature D",
          "Signature C",
          "Signature C",
          "Signature B",
          "Signature A",
          "Signature A",
          "Signature D",
          "Signature C",
          "Signature A",
          "Signature A",
          "Signature C",
          "Signature B",
          "Signature A",
          "Signature B",
          "Signature D",
          "Signature A",
          "Signature C",
          "Signature D",
          "Signature C",
          "Signature B",
          "Signature D",
          "Signature C",
          "Signature D",
          "Signature D",
          "Signature A",
          "Signature D",
          "Signature B",
          "Signature A",
          "Signature A",
          "Signature C",
          "Signature D",
          "Signature A",
          "Signature B",
          "Signature A",
          "Signature B",
          "Signature D",
          "Signature B",
          "Signature C",
          "Signature D",
          "Signature C",
          "Signature A",
          "Signature D",
          "Signature C",
          "Signature C",
          "Signature D",
          "Signature C",
          "Signature B",
          "Signature A",
          "Signature B",
          "Signature C",
          "Signature D"
         ]
        },
        {
         "hovertemplate": "cancer_type=Pancreatic<br>height=%{x}<br>weight=%{y}<br>cancer_signature=%{z}<extra></extra>",
         "legendgroup": "Pancreatic",
         "marker": {
          "color": "#ab63fa",
          "symbol": "circle"
         },
         "mode": "markers",
         "name": "Pancreatic",
         "scene": "scene",
         "showlegend": true,
         "type": "scatter3d",
         "x": [
          154.26975127016007,
          193.70502296702176,
          154.7818996466259,
          181.90891192605983,
          165.76064461178493,
          186.46451349494083,
          167.82965222494184,
          194.1039248916408,
          182.6513190755615,
          181.7084195504017,
          167.36742454075565,
          190.7205294116447,
          155.9794647659048,
          193.64338666241463,
          176.19274427350547,
          187.57924572359457,
          192.50266111411588,
          171.18936812728413,
          170.0498809412102,
          168.02453438292258,
          198.0733017564904,
          158.36201881622844,
          180.8312391479292,
          164.3730581087349,
          168.77460252925516,
          165.14188614905376,
          197.5108744379803,
          179.7756260569633,
          192.59734542161468,
          169.05893455585783,
          175.70615735374187,
          166.18078676958004,
          175.42189755417758,
          153.17079535682402,
          160.5259867677617,
          161.5830056962839,
          178.03874709710502,
          173.30972322142316,
          198.59384589432244,
          160.82885075979698,
          189.420749390581,
          176.07661438501225,
          165.66909195449375,
          174.08027212460075,
          156.1362040337557,
          177.80581132451954,
          150.32435452472453,
          197.20496152271323,
          185.455273981906,
          183.2221822177328,
          184.0085203305182,
          168.73727210932353,
          162.86876425182433,
          195.429999639434,
          165.23731251453296,
          155.22970689455278,
          161.59031532811252,
          150.42823304138102,
          190.5881674085542,
          180.68832687622356,
          152.9844971290306,
          191.83527473385803,
          175.0142993654243,
          162.0881863991847,
          168.90129851210048,
          170.1394561919276,
          157.17413206115432,
          183.454315204626,
          197.5639843240446,
          154.65028907662662,
          199.96733045181787,
          178.2739377823029,
          165.93220944060698,
          184.2681608611888,
          195.2472101590556,
          191.47486106196823,
          199.78016323926312,
          181.80769432092245,
          195.97284859124585,
          156.03723459882505,
          160.74345941498797,
          167.0031279628621,
          179.16528589213493,
          150.9858728935358,
          191.5194729679555,
          151.36052163950316,
          177.7805571075813,
          173.4234324717086,
          188.4216513111872,
          153.43443367591243,
          171.14503798190472,
          164.68300094862013,
          174.87358066934402,
          194.76333132652437,
          191.3511559198942,
          180.8177366787148,
          182.3813884989065,
          163.4926838118613,
          172.79053231894136,
          187.29795349862965,
          181.2290898256865,
          156.17877728032187,
          175.506655448568,
          159.02407550504716,
          156.55220859563534,
          163.97935927943715,
          181.89837084069225,
          166.48356512941746,
          182.32194166602807,
          199.9884405205147,
          181.63269639518177
         ],
         "y": [
          94.2298699412806,
          77.07562555128004,
          82.50080732250919,
          78.19950223662718,
          67.71912250405025,
          52.96708512384458,
          83.14627327047651,
          64.47204931407322,
          86.94024477535183,
          65.88398059712382,
          67.75810725483724,
          61.09862002351233,
          65.17946374046443,
          87.13681257009759,
          93.65146671623825,
          92.65933340228494,
          56.358953371586765,
          52.06799349852741,
          84.06124642030463,
          72.82761104650187,
          66.73954850173766,
          81.30777054789178,
          62.71077766130826,
          52.0469562008599,
          88.19720670534056,
          53.35236362397089,
          80.46370515020544,
          92.9135877028016,
          77.06752436993533,
          72.38199542102565,
          74.81522690839816,
          52.10240411473264,
          51.87202262290819,
          86.6792623398243,
          53.10756486198427,
          59.54072701714863,
          64.57390994509483,
          58.00247566894648,
          51.25222166549534,
          86.68984542026293,
          60.85733570843746,
          85.14383076200065,
          67.75855896307793,
          50.81878025242477,
          93.53298358159536,
          73.46620889583504,
          89.74698402667065,
          70.97292289740705,
          89.3490006328874,
          99.7592792526636,
          97.99969660342455,
          88.21482386236049,
          76.4657824552577,
          71.00971378520565,
          70.81604285159209,
          79.8936797133369,
          76.72406160060511,
          51.22585252043751,
          69.77687414169975,
          55.5408284112983,
          58.22542617239539,
          58.09903848514992,
          69.04076556313238,
          58.17696631792566,
          77.02993233831913,
          88.0610778758675,
          83.75950112716822,
          94.32101185635707,
          92.87258766389807,
          89.48807983736688,
          94.41276175887704,
          89.01279516591929,
          79.0329545777698,
          63.56497102439215,
          99.08049526236935,
          88.13074634356059,
          75.39798354090014,
          95.25378870126204,
          93.08160586871102,
          54.68141116508158,
          53.47015833406133,
          95.3439893485639,
          59.52484087121327,
          94.51505885067836,
          71.18776238681154,
          91.8169228233855,
          75.76107922141402,
          61.74131281415576,
          56.3246266584956,
          57.25355744518297,
          92.45756483003834,
          61.5370265376049,
          51.327572950329056,
          67.92925637620698,
          96.4239879250957,
          62.4334511150707,
          76.03433728896064,
          76.41097821579012,
          84.11701927413483,
          82.4543069924213,
          58.367865944175485,
          60.55474384765774,
          89.6374369595175,
          92.2345960355774,
          80.36897361175855,
          69.28881717243308,
          67.56155776984474,
          63.469946462084735,
          70.56884783484614,
          91.43578134809768,
          95.2951024743686
         ],
         "z": [
          "Signature D",
          "Signature B",
          "Signature A",
          "Signature A",
          "Signature A",
          "Signature D",
          "Signature B",
          "Signature C",
          "Signature A",
          "Signature A",
          "Signature D",
          "Signature B",
          "Signature D",
          "Signature D",
          "Signature B",
          "Signature A",
          "Signature D",
          "Signature C",
          "Signature C",
          "Signature D",
          "Signature C",
          "Signature C",
          "Signature A",
          "Signature D",
          "Signature D",
          "Signature A",
          "Signature C",
          "Signature A",
          "Signature C",
          "Signature B",
          "Signature B",
          "Signature A",
          "Signature C",
          "Signature B",
          "Signature C",
          "Signature C",
          "Signature D",
          "Signature A",
          "Signature C",
          "Signature A",
          "Signature C",
          "Signature D",
          "Signature A",
          "Signature A",
          "Signature B",
          "Signature A",
          "Signature B",
          "Signature D",
          "Signature D",
          "Signature D",
          "Signature C",
          "Signature B",
          "Signature A",
          "Signature C",
          "Signature A",
          "Signature B",
          "Signature A",
          "Signature B",
          "Signature A",
          "Signature A",
          "Signature C",
          "Signature B",
          "Signature C",
          "Signature B",
          "Signature A",
          "Signature B",
          "Signature A",
          "Signature D",
          "Signature D",
          "Signature C",
          "Signature D",
          "Signature B",
          "Signature C",
          "Signature C",
          "Signature D",
          "Signature C",
          "Signature B",
          "Signature C",
          "Signature B",
          "Signature B",
          "Signature C",
          "Signature C",
          "Signature A",
          "Signature D",
          "Signature B",
          "Signature D",
          "Signature A",
          "Signature D",
          "Signature A",
          "Signature B",
          "Signature C",
          "Signature D",
          "Signature B",
          "Signature A",
          "Signature A",
          "Signature A",
          "Signature D",
          "Signature C",
          "Signature D",
          "Signature B",
          "Signature A",
          "Signature D",
          "Signature A",
          "Signature B",
          "Signature A",
          "Signature A",
          "Signature A",
          "Signature A",
          "Signature D",
          "Signature A",
          "Signature A"
         ]
        },
        {
         "hovertemplate": "cancer_type=Ovarian<br>height=%{x}<br>weight=%{y}<br>cancer_signature=%{z}<extra></extra>",
         "legendgroup": "Ovarian",
         "marker": {
          "color": "#FFA15A",
          "symbol": "circle"
         },
         "mode": "markers",
         "name": "Ovarian",
         "scene": "scene",
         "showlegend": true,
         "type": "scatter3d",
         "x": [
          150.29599879754434,
          181.53365934166035,
          182.228791546738,
          177.7131078408761,
          181.05343927229023,
          166.5892911707216,
          189.5996468855045,
          173.47181845329783,
          186.64056007028836,
          189.7995627441948,
          176.8157138507296,
          155.7196653772356,
          173.42053710243025,
          168.3756666454853,
          169.45261488671554,
          152.89549514157656,
          197.90404792022144,
          172.86681926925291,
          158.4709129849922,
          199.35688050595795,
          171.33109282206414,
          170.3371947332178,
          190.32405764544396,
          161.58817162942796,
          168.41323669923847,
          179.12314590283148,
          171.4187617321601,
          169.48495001946452,
          161.58502326310202,
          162.22406748244106,
          157.86490453899182,
          185.3499716384572,
          198.43428325377727,
          193.1474244055876,
          156.448550526971,
          161.24331706518916,
          191.00610925545723,
          179.1743231677447,
          185.58948691734705,
          152.32550631918292,
          196.1777254588872,
          172.3326383309906,
          168.0533749181495,
          176.7566219908855,
          187.05296452890948,
          153.08716179625526,
          195.8890699294699,
          193.4602829700115,
          178.38982850022913,
          158.0331766678609,
          175.61617851493853,
          187.4663622415731,
          167.20573559357268,
          199.88570513360045,
          193.0786961510837,
          199.6193850116323,
          192.32686934156783,
          163.93395287777335,
          157.9823453339123,
          191.0147436287545,
          172.80887323717656,
          189.0176204570253,
          152.4284921705649,
          188.74581661906635,
          187.08561493165587,
          167.26063544671302,
          151.24014259197756,
          166.7849336991856,
          157.09893258287366,
          151.9034407778003,
          192.49032138236032,
          180.08429466798086,
          160.86629684814935,
          151.7433980035753,
          185.7229758621652,
          180.89930342994955,
          157.56899806810702,
          191.95023620768325,
          187.60149961305484,
          167.58273588805346,
          150.9607823455987,
          199.67541174276812,
          183.95911781145787,
          177.80882563930012,
          178.38853669525696,
          174.6755270294339,
          193.33054123614988,
          166.90123613736458,
          189.11311182029127,
          195.86059315757333,
          186.6215971907284,
          196.02151870218023,
          190.44141171172205,
          167.73820175087823,
          188.98158049026048,
          157.47219269906415,
          182.0175455179364,
          198.01520506195632,
          170.83762674826636,
          171.83080227645254,
          168.32744927003844,
          190.76357494765352,
          160.22747379940816,
          194.85199636732443,
          181.1946669263171,
          151.4185248982647,
          177.73107378409563,
          193.26838519778156,
          185.87173104344015,
          161.26878785166434,
          174.18820860725674,
          188.69036730449733,
          152.3785401879962,
          181.0043009984049,
          197.34861975809335,
          160.87433772253755,
          157.436605906679,
          161.39654305829524,
          193.76720419152124,
          191.4514249032121,
          191.21987579645133,
          184.00665307250569
         ],
         "y": [
          89.50895268731541,
          67.33403004544452,
          68.67596626279196,
          81.54461223102402,
          75.1037597356752,
          56.04390605590974,
          75.60891023245313,
          84.00549052971408,
          51.71124447440148,
          71.3098061347445,
          95.31100721805576,
          98.02580522841214,
          94.2013579591183,
          87.8453934539755,
          94.71998382789522,
          88.30267763419285,
          53.22748712455432,
          56.96154007571809,
          93.79143906798346,
          89.44176395338431,
          86.20882985599387,
          84.63304639608714,
          70.58186657175877,
          64.66122626262131,
          53.21743980162925,
          76.85876471785427,
          86.15484079140539,
          88.32424665706357,
          55.914931033954026,
          52.93402529250482,
          66.58115260774629,
          69.4623440804695,
          58.27853702571854,
          92.60940024597475,
          55.13275666476261,
          61.18628067064248,
          58.700440623023255,
          63.76732785801439,
          98.80886645142613,
          78.75995503172993,
          87.92930399633187,
          74.43947839420728,
          56.06413925575616,
          60.001464082728965,
          85.50303081438022,
          80.1439326166882,
          92.4279866589674,
          93.23314720559978,
          62.072205693819605,
          63.25287224849127,
          96.48340251047284,
          59.09437964465098,
          65.49924252722603,
          61.30061215490709,
          55.5041644594427,
          88.05857025867275,
          61.82445960499764,
          50.30543444920896,
          86.93755260226166,
          56.81104501923831,
          65.04728820554686,
          98.1494418640096,
          87.25353327063195,
          72.31991758191532,
          68.52540138754483,
          76.04654241495562,
          75.71476359726915,
          78.14052526642226,
          97.3955827823812,
          62.08118930221056,
          98.86673285208178,
          93.14813572476024,
          73.32403153199779,
          90.58901373804032,
          98.93052684544514,
          72.95977646431444,
          52.92820551965022,
          68.56817777511291,
          80.36099839283912,
          82.37488100413613,
          75.44869839306254,
          84.00484635135615,
          81.4234657790394,
          50.341111334651536,
          69.73819933331802,
          96.81852526812727,
          53.48365801397431,
          89.83528809277539,
          92.01074195115864,
          59.3923711238198,
          57.3403455820001,
          66.18444325724958,
          60.90291823945738,
          92.27306894349869,
          81.81316047185896,
          71.8741295567122,
          76.24866237300847,
          89.02047742736178,
          60.99011938170334,
          62.25092740530109,
          77.95369705192233,
          68.79674402186357,
          67.45810490765504,
          89.86572138686854,
          62.115851596319885,
          79.68426782269631,
          62.560526673182025,
          94.9228886806784,
          50.79610523529009,
          89.8832918368344,
          73.12841758949418,
          97.70290522762956,
          56.0450798284966,
          92.81856871905212,
          65.78132052092955,
          56.42821247545973,
          54.09366950138711,
          60.588437537621225,
          58.39939633960429,
          99.51013666933974,
          70.1202835215991,
          56.2441533679914
         ],
         "z": [
          "Signature C",
          "Signature B",
          "Signature D",
          "Signature B",
          "Signature A",
          "Signature D",
          "Signature A",
          "Signature A",
          "Signature D",
          "Signature C",
          "Signature C",
          "Signature B",
          "Signature B",
          "Signature A",
          "Signature C",
          "Signature D",
          "Signature C",
          "Signature C",
          "Signature A",
          "Signature B",
          "Signature D",
          "Signature B",
          "Signature B",
          "Signature B",
          "Signature D",
          "Signature D",
          "Signature A",
          "Signature C",
          "Signature B",
          "Signature C",
          "Signature B",
          "Signature A",
          "Signature D",
          "Signature D",
          "Signature D",
          "Signature A",
          "Signature D",
          "Signature B",
          "Signature B",
          "Signature D",
          "Signature D",
          "Signature A",
          "Signature D",
          "Signature A",
          "Signature B",
          "Signature B",
          "Signature C",
          "Signature D",
          "Signature C",
          "Signature D",
          "Signature C",
          "Signature B",
          "Signature A",
          "Signature C",
          "Signature C",
          "Signature A",
          "Signature B",
          "Signature B",
          "Signature A",
          "Signature C",
          "Signature A",
          "Signature A",
          "Signature C",
          "Signature C",
          "Signature B",
          "Signature A",
          "Signature B",
          "Signature A",
          "Signature A",
          "Signature A",
          "Signature D",
          "Signature C",
          "Signature D",
          "Signature C",
          "Signature A",
          "Signature B",
          "Signature A",
          "Signature B",
          "Signature B",
          "Signature B",
          "Signature B",
          "Signature D",
          "Signature C",
          "Signature D",
          "Signature D",
          "Signature A",
          "Signature A",
          "Signature C",
          "Signature A",
          "Signature C",
          "Signature A",
          "Signature C",
          "Signature B",
          "Signature B",
          "Signature C",
          "Signature B",
          "Signature D",
          "Signature B",
          "Signature A",
          "Signature D",
          "Signature D",
          "Signature D",
          "Signature B",
          "Signature B",
          "Signature C",
          "Signature B",
          "Signature C",
          "Signature B",
          "Signature A",
          "Signature B",
          "Signature B",
          "Signature B",
          "Signature C",
          "Signature A",
          "Signature D",
          "Signature D",
          "Signature C",
          "Signature B",
          "Signature D",
          "Signature A",
          "Signature C",
          "Signature B"
         ]
        },
        {
         "hovertemplate": "cancer_type=Prostate<br>height=%{x}<br>weight=%{y}<br>cancer_signature=%{z}<extra></extra>",
         "legendgroup": "Prostate",
         "marker": {
          "color": "#19d3f3",
          "symbol": "circle"
         },
         "mode": "markers",
         "name": "Prostate",
         "scene": "scene",
         "showlegend": true,
         "type": "scatter3d",
         "x": [
          194.7806971315316,
          173.99176560900762,
          191.065602700763,
          191.7797157534104,
          154.89465244257738,
          171.4973777148865,
          180.5587263062308,
          187.5392090834161,
          178.5477349068328,
          179.66508533576302,
          171.04553213966676,
          152.88001496334454,
          173.43804831015484,
          187.9520428105253,
          197.40739789846057,
          181.9069748016072,
          196.90372847862847,
          198.4194295079421,
          171.45659079760776,
          175.54777780777573,
          152.76952315839716,
          159.3272522776656,
          187.5661239425393,
          163.80231249106117,
          196.65226281093717,
          187.76672843400752,
          154.77149591590506,
          164.51820893771728,
          173.74062854869516,
          166.56057893734027,
          195.75519072114272,
          184.6819094962564,
          197.37843272604252,
          172.14577410566378,
          151.26941443683774,
          181.22527347962983,
          150.75827821474553,
          155.11264201424436,
          188.7164323244598,
          180.86517808558645,
          185.94050935400492,
          175.2290044804894,
          159.10928300676846,
          154.83507656491958,
          187.6080774641111,
          196.08133530782857,
          186.39495036396244,
          150.57215570479616,
          183.33354846530352,
          164.13331894423197,
          155.9643298256535,
          180.2347141897278,
          160.21300963528287,
          168.51772437310024,
          198.22551326327607,
          160.10371928948544,
          178.81987894973858,
          156.8859717647879,
          164.58556282202565,
          194.4854580225172,
          154.7440296882211,
          152.39355388494826,
          181.0901712864758,
          192.8374996358673,
          160.98483159781694,
          155.02456765249465,
          165.16866105231358,
          153.0371479711655,
          198.12704044556088,
          163.87896091909346,
          176.3135943441788,
          158.97561865213265,
          197.75881068472904,
          154.0790414526843,
          182.59213407176108,
          160.14074918289822,
          183.575349599545,
          167.3218798939256,
          191.03900559003787,
          199.60439042095896,
          188.7135127702064,
          190.4401303888052,
          165.77240430119693,
          165.00343670553335,
          183.96709293979185,
          192.1795869981852,
          161.22199741881423,
          163.44179304016637,
          159.20106747719464,
          173.07386180339552,
          183.5325681869539,
          164.4943481957329,
          193.8990324326597,
          164.42307513521857,
          177.32322284855758,
          163.74358545222185,
          163.8511716611598,
          173.31566797674435,
          186.09728184399944
         ],
         "y": [
          78.91965855807275,
          88.85984702132953,
          91.72464682625191,
          63.16948109221752,
          55.17215738017424,
          53.2819962346256,
          58.43228970998599,
          96.6263793163114,
          79.53586239097916,
          77.9977729021778,
          98.26221003531074,
          69.26373136529674,
          60.68373275245347,
          81.06528397830171,
          77.30788957588447,
          95.24456855255562,
          83.33728345436987,
          92.84293738528248,
          56.884802737369,
          90.22803033756796,
          50.08122755115741,
          57.551783186593184,
          79.02750424343209,
          66.49540427456913,
          52.07363860000326,
          66.84217707332839,
          78.39531771936244,
          97.45637342246624,
          89.44931303327715,
          51.34936948856759,
          77.35191672936959,
          86.60586344075477,
          81.40189470097397,
          79.79081041267878,
          86.58958362159369,
          63.05629407439709,
          55.408464359379664,
          80.32204977301396,
          82.37280034495936,
          94.16539486540368,
          80.71963600547485,
          52.647930013808754,
          89.64871749097664,
          96.97799598053524,
          66.55789147108608,
          92.88535540178133,
          54.51936541054715,
          97.11025345838652,
          95.43635195579746,
          91.58902502146422,
          64.84533934971338,
          54.27533427845386,
          93.5583726194852,
          65.18163220014968,
          78.68564910129575,
          53.630623949293145,
          76.07365506585211,
          78.16452413235683,
          87.69478065160783,
          90.95859335558303,
          74.12534196497026,
          59.0448932818903,
          74.24651278437,
          83.7248257607249,
          66.47424142480912,
          57.753993044119575,
          73.36684815331265,
          57.78641966897367,
          73.27681675288068,
          75.05645557948816,
          51.43475887937978,
          60.31902261281374,
          73.17729843611282,
          74.62074287860088,
          69.37350175177241,
          84.73080441053023,
          75.28610679502057,
          50.530278137983,
          83.82444866189236,
          76.34149695190297,
          74.03789994775393,
          86.51741110028817,
          62.86562367747011,
          64.327476514204,
          88.82635743754284,
          80.75559507227973,
          66.34222502163189,
          92.13635625033436,
          59.80193722660828,
          79.56673590629812,
          92.05724295592786,
          81.1599969828328,
          67.07009828984965,
          78.07075487142536,
          69.81640734104232,
          54.60586718519443,
          84.23733313920465,
          59.06785960429615,
          67.40808714580368
         ],
         "z": [
          "Signature C",
          "Signature C",
          "Signature D",
          "Signature C",
          "Signature C",
          "Signature B",
          "Signature D",
          "Signature C",
          "Signature D",
          "Signature D",
          "Signature D",
          "Signature A",
          "Signature B",
          "Signature C",
          "Signature B",
          "Signature B",
          "Signature D",
          "Signature A",
          "Signature A",
          "Signature B",
          "Signature D",
          "Signature B",
          "Signature C",
          "Signature A",
          "Signature B",
          "Signature A",
          "Signature C",
          "Signature D",
          "Signature A",
          "Signature C",
          "Signature B",
          "Signature B",
          "Signature B",
          "Signature D",
          "Signature D",
          "Signature C",
          "Signature A",
          "Signature D",
          "Signature D",
          "Signature D",
          "Signature D",
          "Signature D",
          "Signature D",
          "Signature A",
          "Signature A",
          "Signature C",
          "Signature B",
          "Signature A",
          "Signature C",
          "Signature B",
          "Signature B",
          "Signature C",
          "Signature B",
          "Signature C",
          "Signature C",
          "Signature B",
          "Signature C",
          "Signature A",
          "Signature B",
          "Signature A",
          "Signature D",
          "Signature B",
          "Signature D",
          "Signature A",
          "Signature B",
          "Signature C",
          "Signature D",
          "Signature D",
          "Signature A",
          "Signature A",
          "Signature D",
          "Signature C",
          "Signature D",
          "Signature A",
          "Signature D",
          "Signature B",
          "Signature A",
          "Signature D",
          "Signature B",
          "Signature C",
          "Signature B",
          "Signature D",
          "Signature C",
          "Signature A",
          "Signature C",
          "Signature A",
          "Signature D",
          "Signature B",
          "Signature D",
          "Signature A",
          "Signature C",
          "Signature A",
          "Signature B",
          "Signature B",
          "Signature D",
          "Signature B",
          "Signature C",
          "Signature B",
          "Signature D"
         ]
        },
        {
         "hovertemplate": "cancer_type=Breast<br>height=%{x}<br>weight=%{y}<br>cancer_signature=%{z}<extra></extra>",
         "legendgroup": "Breast",
         "marker": {
          "color": "#FF6692",
          "symbol": "circle"
         },
         "mode": "markers",
         "name": "Breast",
         "scene": "scene",
         "showlegend": true,
         "type": "scatter3d",
         "x": [
          182.94298966359605,
          176.97892028301294,
          152.61236962626245,
          155.64817854797454,
          176.0540501312172,
          185.2616576371041,
          155.60182416619162,
          150.67745686957304,
          173.67599110276333,
          163.4673129703205,
          181.69397279042832,
          199.34802826877512,
          161.2675695161009,
          164.47825504750134,
          159.51787040025707,
          168.71907031818756,
          195.22432978364196,
          170.7214186710746,
          185.50859363698032,
          183.5631210418491,
          182.9338849895041,
          187.7802199341786,
          197.3337917673338,
          166.3210724323696,
          185.92959171572724,
          190.5931552123024,
          195.556159949436,
          150.07883755516036,
          187.73891063497345,
          159.51000221060792,
          197.52890274735037,
          183.0052027239126,
          163.7487231738475,
          193.501106835838,
          199.4361868203013,
          166.43897619464792,
          192.7112286590978,
          189.76046055656315,
          173.36889941599077,
          172.82438152195388,
          160.31133305224233,
          164.88147526809666,
          194.4803417185936,
          177.15607966787218,
          156.31430289458197,
          155.94769481009197,
          174.07557060092694,
          173.3495787587625,
          157.66339448579453,
          197.95629822509943,
          199.53593664035697,
          158.98411443673234,
          167.5208528853797,
          188.486939058166,
          171.27238846871478,
          183.03713440982145,
          169.01766660727415,
          178.86472630071043,
          159.5365087991536,
          161.10754170295183,
          199.26485883693837,
          188.9556845480369,
          153.39948047830674,
          177.3332696967834,
          197.02954005337773,
          197.60173518350376,
          190.0450041502499,
          150.85819428000198,
          158.48848473573435,
          188.8135045331324,
          183.69550168908057,
          158.51596847590702,
          191.27215597562065,
          158.13275694363483,
          190.16259077621865,
          163.89883972415402,
          162.007441928446,
          155.79240311213053,
          165.6747486138541,
          167.07622323453148,
          198.84276046308136,
          159.86410466252258,
          164.6530159246709,
          150.65892585706428,
          183.38935129844745,
          177.89624149824903,
          192.62248046740183,
          153.21660365188563,
          158.34798489519457,
          196.96109282780372,
          195.87672586451973,
          153.69579144176458,
          185.17130456593844,
          158.01164294209303,
          167.0977902370751,
          173.3831216270753
         ],
         "y": [
          97.30581585319408,
          52.34343439801956,
          61.12007619824864,
          56.950132468871736,
          85.0932764166185,
          60.90192072303552,
          93.10621695415492,
          78.87371471121402,
          81.99047913438656,
          95.37002357399756,
          57.59919412661476,
          86.38129552462794,
          66.11828095948044,
          86.7923938324376,
          95.73593428531828,
          62.86570327809562,
          63.26555407751452,
          68.6076453702631,
          61.58312561689773,
          63.56798153201501,
          73.79537671336062,
          68.44454529244534,
          76.66977008780579,
          80.58583751180815,
          99.0815959885937,
          86.51251749594061,
          97.35278049004872,
          82.24040370028463,
          81.99588540831449,
          92.14173955751627,
          62.04190981140425,
          68.63679731285438,
          64.1731087736089,
          58.61933931973011,
          90.96182081791277,
          55.30143154665406,
          83.03893020273235,
          52.3987076372642,
          99.17632956106326,
          66.58907601141138,
          58.871667808737456,
          70.04712643060398,
          60.34045135918856,
          84.82815365516477,
          64.73830442701542,
          53.390795590163314,
          54.49280281863705,
          65.06927104053918,
          69.42538679566749,
          91.87921326290262,
          66.47060684484573,
          69.30438911446828,
          76.33308445817957,
          69.85850291351635,
          92.66920217525455,
          99.55931236322888,
          55.68824951310216,
          82.40634145779748,
          90.20528953868936,
          57.335351529662496,
          62.772200366419526,
          87.98726684087465,
          98.011884489929,
          68.440871840894,
          50.19366186475578,
          96.23559227139748,
          66.37223286119115,
          80.11837034200076,
          75.88093500572303,
          77.30456428732401,
          98.04854417123995,
          86.66347286820124,
          84.11998327922586,
          54.47892790963527,
          84.46491243771632,
          92.42285680441192,
          78.41508713981716,
          88.34776921138526,
          70.08561280047594,
          74.01303924358328,
          74.91212563450259,
          81.66029624005898,
          62.282590698770775,
          82.34667627549561,
          82.77330983867972,
          61.16045139512199,
          62.781243460112464,
          57.094172300610126,
          74.66129071737132,
          83.18490968734926,
          53.43292471765904,
          54.36700213450528,
          94.03190674500112,
          88.81987158617149,
          60.77021867903759,
          95.75265417566548
         ],
         "z": [
          "Signature B",
          "Signature A",
          "Signature A",
          "Signature D",
          "Signature B",
          "Signature B",
          "Signature C",
          "Signature A",
          "Signature B",
          "Signature D",
          "Signature D",
          "Signature C",
          "Signature A",
          "Signature C",
          "Signature D",
          "Signature D",
          "Signature D",
          "Signature A",
          "Signature C",
          "Signature D",
          "Signature C",
          "Signature A",
          "Signature C",
          "Signature D",
          "Signature C",
          "Signature B",
          "Signature B",
          "Signature B",
          "Signature A",
          "Signature A",
          "Signature B",
          "Signature D",
          "Signature B",
          "Signature D",
          "Signature A",
          "Signature C",
          "Signature D",
          "Signature D",
          "Signature B",
          "Signature B",
          "Signature D",
          "Signature D",
          "Signature C",
          "Signature C",
          "Signature B",
          "Signature A",
          "Signature D",
          "Signature D",
          "Signature B",
          "Signature D",
          "Signature B",
          "Signature B",
          "Signature B",
          "Signature A",
          "Signature A",
          "Signature D",
          "Signature B",
          "Signature B",
          "Signature D",
          "Signature D",
          "Signature A",
          "Signature C",
          "Signature C",
          "Signature D",
          "Signature B",
          "Signature B",
          "Signature D",
          "Signature D",
          "Signature B",
          "Signature A",
          "Signature A",
          "Signature A",
          "Signature D",
          "Signature B",
          "Signature C",
          "Signature D",
          "Signature B",
          "Signature B",
          "Signature B",
          "Signature C",
          "Signature A",
          "Signature B",
          "Signature D",
          "Signature A",
          "Signature A",
          "Signature B",
          "Signature A",
          "Signature D",
          "Signature A",
          "Signature C",
          "Signature C",
          "Signature B",
          "Signature C",
          "Signature D",
          "Signature D",
          "Signature C"
         ]
        },
        {
         "hovertemplate": "cancer_type=Leukemia<br>height=%{x}<br>weight=%{y}<br>cancer_signature=%{z}<extra></extra>",
         "legendgroup": "Leukemia",
         "marker": {
          "color": "#B6E880",
          "symbol": "circle"
         },
         "mode": "markers",
         "name": "Leukemia",
         "scene": "scene",
         "showlegend": true,
         "type": "scatter3d",
         "x": [
          188.0707792275421,
          172.60263613304286,
          196.8547092634074,
          154.70750929265802,
          181.1190503609697,
          169.9249022155467,
          166.20191760928785,
          176.37257794484808,
          167.78938024290585,
          160.31745600017393,
          195.4481110620215,
          158.8032956500375,
          166.93837972181126,
          171.62772013524676,
          173.76306166596518,
          185.57688529874972,
          199.20227084574643,
          185.5654350180524,
          189.25668973884063,
          152.98953441676642,
          178.3756507874568,
          150.3297307553445,
          161.5806502190207,
          170.10605270468474,
          179.34855940899638,
          170.20149098578682,
          193.63679417784144,
          167.11024253659917,
          154.87215556307936,
          181.118563162198,
          188.5413502606127,
          191.37648298040855,
          158.44063030492802,
          198.06678198159025,
          185.59581533684636,
          163.52073485808,
          187.71314916086232,
          196.7491970084263,
          156.37471609076513,
          181.11466944589435,
          188.74241522862224,
          177.43898791813228,
          162.06416361546928,
          160.43506784400034,
          183.5153974595698,
          186.09865352388607,
          184.87289506163532,
          163.32194350358515,
          172.06033340220208,
          168.17126324603717,
          174.26525100612565,
          177.66019867118854,
          198.25968228985792,
          159.98320878340263,
          167.72912092663964,
          190.44488285632104,
          181.2202153138068,
          193.84257166099005,
          185.41361239434724,
          156.3242357306017,
          171.06528011129916,
          175.21679619906175,
          180.28245467938152,
          183.89843733793344,
          165.97126736959103,
          154.06980763425602,
          181.7752444242902,
          184.9503969663717,
          194.82945280619657,
          167.92080400647524,
          179.80632119411047,
          177.8983902314199,
          190.76553151970933,
          165.64309358786898,
          151.79252985679253,
          169.3922776134669,
          178.97981975279552,
          182.04985033148017,
          183.95550818661167,
          151.81316314710213,
          159.81191206702067,
          163.28034353025464,
          186.3739159253788,
          167.9435949737267,
          181.69156573113355,
          155.987723199956,
          153.3550873442982,
          171.3600166124626,
          176.59834923094235,
          186.4797913177964,
          158.6957013831244,
          155.92587789585454,
          150.24478676343088
         ],
         "y": [
          57.68206986969177,
          77.71784951014891,
          59.00089248378059,
          57.62803404421169,
          63.50108189380235,
          62.71177729112146,
          60.29981370040116,
          72.9299885667057,
          94.81685656412311,
          86.64550588280238,
          63.2303290575651,
          95.62797804368542,
          90.12278677736678,
          94.76975917779816,
          50.835723059073445,
          96.38586096143206,
          54.264848117252285,
          88.83848964505904,
          90.41194353639165,
          57.88685225472677,
          89.1466699795844,
          96.76299357002657,
          96.1616848123675,
          66.59027373580959,
          79.52806325194643,
          91.95337121353523,
          54.25168041722894,
          69.24182613287708,
          60.91817992219538,
          94.3843446431806,
          83.27193358024343,
          82.26403772225237,
          51.45246310851749,
          74.37427343461098,
          85.25257929141927,
          53.26952849046012,
          84.11671393181007,
          72.05653721999226,
          69.17696377706208,
          86.84943808120892,
          76.16228631405605,
          80.83960029966232,
          80.2706158296652,
          57.76282315817714,
          75.56913898499239,
          56.51773356489414,
          61.05228544122977,
          83.3763232095092,
          85.16512043365296,
          95.47463739772977,
          64.90945491927046,
          68.07629941553355,
          72.8815990372544,
          72.92960655262388,
          90.55584466521562,
          81.72143585405243,
          94.91053593842202,
          96.596365154044,
          91.64545167889818,
          89.6280027125928,
          90.05524310533295,
          97.55986051423956,
          92.5235148922273,
          84.40314317232821,
          56.64690137656436,
          76.30939427573713,
          70.57180800894452,
          50.58146475810442,
          84.42663087689205,
          56.356274761471965,
          76.4031674750804,
          77.35514124062527,
          81.8878127054241,
          54.931877598116365,
          90.4623308489408,
          66.27336042791872,
          79.39475892177765,
          54.91361039400533,
          75.92625987664178,
          60.811411572359845,
          55.38211390192369,
          50.04515378012283,
          67.11883475406003,
          80.31175471345666,
          53.7126332574296,
          73.30791468680533,
          56.79062513871472,
          91.33653163714636,
          99.16197841459352,
          80.57245581083416,
          72.67881956990234,
          55.37532392137743,
          75.42918501406656
         ],
         "z": [
          "Signature D",
          "Signature C",
          "Signature B",
          "Signature D",
          "Signature B",
          "Signature A",
          "Signature D",
          "Signature A",
          "Signature B",
          "Signature C",
          "Signature D",
          "Signature D",
          "Signature C",
          "Signature D",
          "Signature D",
          "Signature A",
          "Signature C",
          "Signature B",
          "Signature B",
          "Signature C",
          "Signature C",
          "Signature B",
          "Signature A",
          "Signature A",
          "Signature D",
          "Signature C",
          "Signature A",
          "Signature D",
          "Signature A",
          "Signature A",
          "Signature A",
          "Signature C",
          "Signature B",
          "Signature C",
          "Signature A",
          "Signature A",
          "Signature D",
          "Signature B",
          "Signature C",
          "Signature D",
          "Signature C",
          "Signature A",
          "Signature D",
          "Signature B",
          "Signature B",
          "Signature D",
          "Signature B",
          "Signature A",
          "Signature B",
          "Signature D",
          "Signature C",
          "Signature C",
          "Signature C",
          "Signature B",
          "Signature D",
          "Signature C",
          "Signature D",
          "Signature A",
          "Signature C",
          "Signature D",
          "Signature C",
          "Signature B",
          "Signature A",
          "Signature B",
          "Signature D",
          "Signature D",
          "Signature B",
          "Signature C",
          "Signature B",
          "Signature B",
          "Signature A",
          "Signature A",
          "Signature D",
          "Signature C",
          "Signature D",
          "Signature C",
          "Signature D",
          "Signature B",
          "Signature B",
          "Signature B",
          "Signature A",
          "Signature C",
          "Signature D",
          "Signature D",
          "Signature C",
          "Signature D",
          "Signature A",
          "Signature D",
          "Signature D",
          "Signature B",
          "Signature B",
          "Signature B",
          "Signature D"
         ]
        }
       ],
       "layout": {
        "autosize": true,
        "legend": {
         "title": {
          "text": "cancer_type"
         },
         "tracegroupgap": 0
        },
        "margin": {
         "t": 60
        },
        "scene": {
         "aspectmode": "auto",
         "aspectratio": {
          "x": 1.000757977116284,
          "y": 0.9992425969778745,
          "z": 1
         },
         "camera": {
          "center": {
           "x": 0,
           "y": 0,
           "z": 0
          },
          "eye": {
           "x": -0.018613406662836774,
           "y": -0.022406283522499956,
           "z": 0.04274685917784362
          },
          "projection": {
           "type": "perspective"
          },
          "up": {
           "x": 0,
           "y": 0,
           "z": 1
          }
         },
         "domain": {
          "x": [
           0,
           1
          ],
          "y": [
           0,
           1
          ]
         },
         "xaxis": {
          "title": {
           "text": "Height (cm)"
          },
          "type": "linear"
         },
         "yaxis": {
          "title": {
           "text": "Weight (kg)"
          },
          "type": "linear"
         },
         "zaxis": {
          "title": {
           "text": "Cancer Signature"
          },
          "type": "category"
         }
        },
        "template": {
         "data": {
          "bar": [
           {
            "error_x": {
             "color": "#2a3f5f"
            },
            "error_y": {
             "color": "#2a3f5f"
            },
            "marker": {
             "line": {
              "color": "#E5ECF6",
              "width": 0.5
             },
             "pattern": {
              "fillmode": "overlay",
              "size": 10,
              "solidity": 0.2
             }
            },
            "type": "bar"
           }
          ],
          "barpolar": [
           {
            "marker": {
             "line": {
              "color": "#E5ECF6",
              "width": 0.5
             },
             "pattern": {
              "fillmode": "overlay",
              "size": 10,
              "solidity": 0.2
             }
            },
            "type": "barpolar"
           }
          ],
          "carpet": [
           {
            "aaxis": {
             "endlinecolor": "#2a3f5f",
             "gridcolor": "white",
             "linecolor": "white",
             "minorgridcolor": "white",
             "startlinecolor": "#2a3f5f"
            },
            "baxis": {
             "endlinecolor": "#2a3f5f",
             "gridcolor": "white",
             "linecolor": "white",
             "minorgridcolor": "white",
             "startlinecolor": "#2a3f5f"
            },
            "type": "carpet"
           }
          ],
          "choropleth": [
           {
            "colorbar": {
             "outlinewidth": 0,
             "ticks": ""
            },
            "type": "choropleth"
           }
          ],
          "contour": [
           {
            "colorbar": {
             "outlinewidth": 0,
             "ticks": ""
            },
            "colorscale": [
             [
              0,
              "#0d0887"
             ],
             [
              0.1111111111111111,
              "#46039f"
             ],
             [
              0.2222222222222222,
              "#7201a8"
             ],
             [
              0.3333333333333333,
              "#9c179e"
             ],
             [
              0.4444444444444444,
              "#bd3786"
             ],
             [
              0.5555555555555556,
              "#d8576b"
             ],
             [
              0.6666666666666666,
              "#ed7953"
             ],
             [
              0.7777777777777778,
              "#fb9f3a"
             ],
             [
              0.8888888888888888,
              "#fdca26"
             ],
             [
              1,
              "#f0f921"
             ]
            ],
            "type": "contour"
           }
          ],
          "contourcarpet": [
           {
            "colorbar": {
             "outlinewidth": 0,
             "ticks": ""
            },
            "type": "contourcarpet"
           }
          ],
          "heatmap": [
           {
            "colorbar": {
             "outlinewidth": 0,
             "ticks": ""
            },
            "colorscale": [
             [
              0,
              "#0d0887"
             ],
             [
              0.1111111111111111,
              "#46039f"
             ],
             [
              0.2222222222222222,
              "#7201a8"
             ],
             [
              0.3333333333333333,
              "#9c179e"
             ],
             [
              0.4444444444444444,
              "#bd3786"
             ],
             [
              0.5555555555555556,
              "#d8576b"
             ],
             [
              0.6666666666666666,
              "#ed7953"
             ],
             [
              0.7777777777777778,
              "#fb9f3a"
             ],
             [
              0.8888888888888888,
              "#fdca26"
             ],
             [
              1,
              "#f0f921"
             ]
            ],
            "type": "heatmap"
           }
          ],
          "heatmapgl": [
           {
            "colorbar": {
             "outlinewidth": 0,
             "ticks": ""
            },
            "colorscale": [
             [
              0,
              "#0d0887"
             ],
             [
              0.1111111111111111,
              "#46039f"
             ],
             [
              0.2222222222222222,
              "#7201a8"
             ],
             [
              0.3333333333333333,
              "#9c179e"
             ],
             [
              0.4444444444444444,
              "#bd3786"
             ],
             [
              0.5555555555555556,
              "#d8576b"
             ],
             [
              0.6666666666666666,
              "#ed7953"
             ],
             [
              0.7777777777777778,
              "#fb9f3a"
             ],
             [
              0.8888888888888888,
              "#fdca26"
             ],
             [
              1,
              "#f0f921"
             ]
            ],
            "type": "heatmapgl"
           }
          ],
          "histogram": [
           {
            "marker": {
             "pattern": {
              "fillmode": "overlay",
              "size": 10,
              "solidity": 0.2
             }
            },
            "type": "histogram"
           }
          ],
          "histogram2d": [
           {
            "colorbar": {
             "outlinewidth": 0,
             "ticks": ""
            },
            "colorscale": [
             [
              0,
              "#0d0887"
             ],
             [
              0.1111111111111111,
              "#46039f"
             ],
             [
              0.2222222222222222,
              "#7201a8"
             ],
             [
              0.3333333333333333,
              "#9c179e"
             ],
             [
              0.4444444444444444,
              "#bd3786"
             ],
             [
              0.5555555555555556,
              "#d8576b"
             ],
             [
              0.6666666666666666,
              "#ed7953"
             ],
             [
              0.7777777777777778,
              "#fb9f3a"
             ],
             [
              0.8888888888888888,
              "#fdca26"
             ],
             [
              1,
              "#f0f921"
             ]
            ],
            "type": "histogram2d"
           }
          ],
          "histogram2dcontour": [
           {
            "colorbar": {
             "outlinewidth": 0,
             "ticks": ""
            },
            "colorscale": [
             [
              0,
              "#0d0887"
             ],
             [
              0.1111111111111111,
              "#46039f"
             ],
             [
              0.2222222222222222,
              "#7201a8"
             ],
             [
              0.3333333333333333,
              "#9c179e"
             ],
             [
              0.4444444444444444,
              "#bd3786"
             ],
             [
              0.5555555555555556,
              "#d8576b"
             ],
             [
              0.6666666666666666,
              "#ed7953"
             ],
             [
              0.7777777777777778,
              "#fb9f3a"
             ],
             [
              0.8888888888888888,
              "#fdca26"
             ],
             [
              1,
              "#f0f921"
             ]
            ],
            "type": "histogram2dcontour"
           }
          ],
          "mesh3d": [
           {
            "colorbar": {
             "outlinewidth": 0,
             "ticks": ""
            },
            "type": "mesh3d"
           }
          ],
          "parcoords": [
           {
            "line": {
             "colorbar": {
              "outlinewidth": 0,
              "ticks": ""
             }
            },
            "type": "parcoords"
           }
          ],
          "pie": [
           {
            "automargin": true,
            "type": "pie"
           }
          ],
          "scatter": [
           {
            "fillpattern": {
             "fillmode": "overlay",
             "size": 10,
             "solidity": 0.2
            },
            "type": "scatter"
           }
          ],
          "scatter3d": [
           {
            "line": {
             "colorbar": {
              "outlinewidth": 0,
              "ticks": ""
             }
            },
            "marker": {
             "colorbar": {
              "outlinewidth": 0,
              "ticks": ""
             }
            },
            "type": "scatter3d"
           }
          ],
          "scattercarpet": [
           {
            "marker": {
             "colorbar": {
              "outlinewidth": 0,
              "ticks": ""
             }
            },
            "type": "scattercarpet"
           }
          ],
          "scattergeo": [
           {
            "marker": {
             "colorbar": {
              "outlinewidth": 0,
              "ticks": ""
             }
            },
            "type": "scattergeo"
           }
          ],
          "scattergl": [
           {
            "marker": {
             "colorbar": {
              "outlinewidth": 0,
              "ticks": ""
             }
            },
            "type": "scattergl"
           }
          ],
          "scattermapbox": [
           {
            "marker": {
             "colorbar": {
              "outlinewidth": 0,
              "ticks": ""
             }
            },
            "type": "scattermapbox"
           }
          ],
          "scatterpolar": [
           {
            "marker": {
             "colorbar": {
              "outlinewidth": 0,
              "ticks": ""
             }
            },
            "type": "scatterpolar"
           }
          ],
          "scatterpolargl": [
           {
            "marker": {
             "colorbar": {
              "outlinewidth": 0,
              "ticks": ""
             }
            },
            "type": "scatterpolargl"
           }
          ],
          "scatterternary": [
           {
            "marker": {
             "colorbar": {
              "outlinewidth": 0,
              "ticks": ""
             }
            },
            "type": "scatterternary"
           }
          ],
          "surface": [
           {
            "colorbar": {
             "outlinewidth": 0,
             "ticks": ""
            },
            "colorscale": [
             [
              0,
              "#0d0887"
             ],
             [
              0.1111111111111111,
              "#46039f"
             ],
             [
              0.2222222222222222,
              "#7201a8"
             ],
             [
              0.3333333333333333,
              "#9c179e"
             ],
             [
              0.4444444444444444,
              "#bd3786"
             ],
             [
              0.5555555555555556,
              "#d8576b"
             ],
             [
              0.6666666666666666,
              "#ed7953"
             ],
             [
              0.7777777777777778,
              "#fb9f3a"
             ],
             [
              0.8888888888888888,
              "#fdca26"
             ],
             [
              1,
              "#f0f921"
             ]
            ],
            "type": "surface"
           }
          ],
          "table": [
           {
            "cells": {
             "fill": {
              "color": "#EBF0F8"
             },
             "line": {
              "color": "white"
             }
            },
            "header": {
             "fill": {
              "color": "#C8D4E3"
             },
             "line": {
              "color": "white"
             }
            },
            "type": "table"
           }
          ]
         },
         "layout": {
          "annotationdefaults": {
           "arrowcolor": "#2a3f5f",
           "arrowhead": 0,
           "arrowwidth": 1
          },
          "autotypenumbers": "strict",
          "coloraxis": {
           "colorbar": {
            "outlinewidth": 0,
            "ticks": ""
           }
          },
          "colorscale": {
           "diverging": [
            [
             0,
             "#8e0152"
            ],
            [
             0.1,
             "#c51b7d"
            ],
            [
             0.2,
             "#de77ae"
            ],
            [
             0.3,
             "#f1b6da"
            ],
            [
             0.4,
             "#fde0ef"
            ],
            [
             0.5,
             "#f7f7f7"
            ],
            [
             0.6,
             "#e6f5d0"
            ],
            [
             0.7,
             "#b8e186"
            ],
            [
             0.8,
             "#7fbc41"
            ],
            [
             0.9,
             "#4d9221"
            ],
            [
             1,
             "#276419"
            ]
           ],
           "sequential": [
            [
             0,
             "#0d0887"
            ],
            [
             0.1111111111111111,
             "#46039f"
            ],
            [
             0.2222222222222222,
             "#7201a8"
            ],
            [
             0.3333333333333333,
             "#9c179e"
            ],
            [
             0.4444444444444444,
             "#bd3786"
            ],
            [
             0.5555555555555556,
             "#d8576b"
            ],
            [
             0.6666666666666666,
             "#ed7953"
            ],
            [
             0.7777777777777778,
             "#fb9f3a"
            ],
            [
             0.8888888888888888,
             "#fdca26"
            ],
            [
             1,
             "#f0f921"
            ]
           ],
           "sequentialminus": [
            [
             0,
             "#0d0887"
            ],
            [
             0.1111111111111111,
             "#46039f"
            ],
            [
             0.2222222222222222,
             "#7201a8"
            ],
            [
             0.3333333333333333,
             "#9c179e"
            ],
            [
             0.4444444444444444,
             "#bd3786"
            ],
            [
             0.5555555555555556,
             "#d8576b"
            ],
            [
             0.6666666666666666,
             "#ed7953"
            ],
            [
             0.7777777777777778,
             "#fb9f3a"
            ],
            [
             0.8888888888888888,
             "#fdca26"
            ],
            [
             1,
             "#f0f921"
            ]
           ]
          },
          "colorway": [
           "#636efa",
           "#EF553B",
           "#00cc96",
           "#ab63fa",
           "#FFA15A",
           "#19d3f3",
           "#FF6692",
           "#B6E880",
           "#FF97FF",
           "#FECB52"
          ],
          "font": {
           "color": "#2a3f5f"
          },
          "geo": {
           "bgcolor": "white",
           "lakecolor": "white",
           "landcolor": "#E5ECF6",
           "showlakes": true,
           "showland": true,
           "subunitcolor": "white"
          },
          "hoverlabel": {
           "align": "left"
          },
          "hovermode": "closest",
          "mapbox": {
           "style": "light"
          },
          "paper_bgcolor": "white",
          "plot_bgcolor": "#E5ECF6",
          "polar": {
           "angularaxis": {
            "gridcolor": "white",
            "linecolor": "white",
            "ticks": ""
           },
           "bgcolor": "#E5ECF6",
           "radialaxis": {
            "gridcolor": "white",
            "linecolor": "white",
            "ticks": ""
           }
          },
          "scene": {
           "xaxis": {
            "backgroundcolor": "#E5ECF6",
            "gridcolor": "white",
            "gridwidth": 2,
            "linecolor": "white",
            "showbackground": true,
            "ticks": "",
            "zerolinecolor": "white"
           },
           "yaxis": {
            "backgroundcolor": "#E5ECF6",
            "gridcolor": "white",
            "gridwidth": 2,
            "linecolor": "white",
            "showbackground": true,
            "ticks": "",
            "zerolinecolor": "white"
           },
           "zaxis": {
            "backgroundcolor": "#E5ECF6",
            "gridcolor": "white",
            "gridwidth": 2,
            "linecolor": "white",
            "showbackground": true,
            "ticks": "",
            "zerolinecolor": "white"
           }
          },
          "shapedefaults": {
           "line": {
            "color": "#2a3f5f"
           }
          },
          "ternary": {
           "aaxis": {
            "gridcolor": "white",
            "linecolor": "white",
            "ticks": ""
           },
           "baxis": {
            "gridcolor": "white",
            "linecolor": "white",
            "ticks": ""
           },
           "bgcolor": "#E5ECF6",
           "caxis": {
            "gridcolor": "white",
            "linecolor": "white",
            "ticks": ""
           }
          },
          "title": {
           "x": 0.05
          },
          "xaxis": {
           "automargin": true,
           "gridcolor": "white",
           "linecolor": "white",
           "ticks": "",
           "title": {
            "standoff": 15
           },
           "zerolinecolor": "white",
           "zerolinewidth": 2
          },
          "yaxis": {
           "automargin": true,
           "gridcolor": "white",
           "linecolor": "white",
           "ticks": "",
           "title": {
            "standoff": 15
           },
           "zerolinecolor": "white",
           "zerolinewidth": 2
          }
         }
        },
        "title": {
         "text": "3D Scatter Plot of Height, Weight, and Cancer Signature"
        }
       }
      },
      "image/png": "[encoded data removed]",
      "text/html": [
       "<div>                            <div id=\"d42dfe06-5225-48a7-a8ee-d491581f506b\" class=\"plotly-graph-div\" style=\"height:525px; width:100%;\"></div>            <script type=\"text/javascript\">                require([\"plotly\"], function(Plotly) {                    window.PLOTLYENV=window.PLOTLYENV || {};                                    if (document.getElementById(\"d42dfe06-5225-48a7-a8ee-d491581f506b\")) {                    Plotly.newPlot(                        \"d42dfe06-5225-48a7-a8ee-d491581f506b\",                        [{\"hovertemplate\":\"cancer_type=Colorectal\\u003cbr\\u003eheight=%{x}\\u003cbr\\u003eweight=%{y}\\u003cbr\\u003ecancer_signature=%{z}\\u003cextra\\u003e\\u003c\\u002fextra\\u003e\",\"legendgroup\":\"Colorectal\",\"marker\":{\"color\":\"#636efa\",\"symbol\":\"circle\"},\"mode\":\"markers\",\"name\":\"Colorectal\",\"scene\":\"scene\",\"showlegend\":true,\"x\":[169.50930891728564,182.08722541474293,170.5254561882985,187.581884467708,197.7537069122488,187.87231219668496,189.35144401309728,176.8510424887279,150.1064497154075,189.6870608851854,190.51100834498695,171.044148370501,193.16008405775415,189.56002287803224,192.3854032582716,179.94578718884074,176.4843081304618,153.94443013437342,190.52721509157496,168.1017277794575,193.89708828224428,192.21460294801412,170.44294723791575,179.95498341505652,180.91642210415924,173.43922782050586,194.92672241402295,194.7756484888177,183.84372771101195,161.27058109008436,186.19907865372485,182.25558763039,194.1629994423211,193.72568659954865,199.66606627981747,182.4176242678311,177.43698612149228,155.64889665473524,182.19388749922632,169.86788613918813,180.52238879021223,195.9613587781505,161.20851779497156,157.97239305284646,168.86543970290188,171.30611327667032,180.46789870558055,173.99830207031644,195.6483464005299,163.1212806517924,190.0798231638308,184.82405589786907,193.79842804554175,198.2664970686383,192.97733266616228,170.14818047229116,170.42431660858588,150.73006706841613,177.77963251352534,173.28879938933886,158.59493734401724,185.2772716246356,166.72053243544562,178.50093826649055,180.3167406922105,157.67057503420358,178.0031549298051,187.89790751081452,165.10504887230667,191.08521754070085,153.3073432787635,193.6873859142028,169.2347245506843,165.5715290301697,188.4219870420391,152.0886557376003,166.3181981784497,186.6043026339916,182.98770453860632,188.23188958792787,161.97381277545657,170.5962018289376,160.18226558552834,187.5604883783,160.60558885470508,159.95915298039765,156.85363633963266,168.15789729316404,154.5992251408931,192.29404354438665,196.0585099715995],\"y\":[74.50671200411408,99.60895027326654,92.36380691310234,71.56802209233747,51.12798410340215,65.56366016524073,63.75560720164556,56.315235904521465,81.6889245528672,65.86959579113895,80.19783465379751,78.23010834728402,65.96894541880933,96.28525612609847,80.66633637247833,51.13408147235856,63.9404094131738,53.94719682266824,55.05616323353991,78.08729084013603,51.98782288669906,86.47306888737609,95.0641697689885,70.97693184315487,97.10495063060642,53.35231991231972,86.25321699930453,59.34814540514286,80.4267235217292,53.64437218847552,67.65897171861755,52.98641517767562,93.85556877501423,56.958224365830745,78.19602207916941,98.90453798171076,55.466629602769714,67.09822960703016,98.38332308123796,77.9404836766208,55.567878447310896,61.47426298175991,99.5466424647297,91.27013155850578,76.96710768383572,62.98627384038787,66.04817519716575,91.26280639055572,85.83059106918864,84.57436157097283,85.47041744540132,66.61134177797749,61.49810943148039,84.33401318902663,94.31636897567014,62.293842331404775,93.8402682476482,55.52474986778262,95.31500551283663,88.70173339277531,99.18705976652,69.00184286543583,99.17032695674176,67.23273694617757,92.92483670660296,67.71827221712961,71.04899510728697,76.0316888789139,71.84279734920096,90.75022941290456,74.53271134429009,86.0032470147017,75.98874751861266,90.03552470262508,91.96639904762112,86.1658367453254,52.47814770288128,53.40902391791529,62.61973031961896,71.66296644652385,70.53525571911042,50.65554766670992,58.25676013077081,77.43271272185518,65.82021125104475,88.27765197701748,81.75655363402878,51.35294827009874,78.8583916392219,76.17822469584098,57.87100287641816],\"z\":[\"Signature C\",\"Signature B\",\"Signature D\",\"Signature C\",\"Signature A\",\"Signature D\",\"Signature C\",\"Signature D\",\"Signature A\",\"Signature A\",\"Signature D\",\"Signature B\",\"Signature A\",\"Signature B\",\"Signature B\",\"Signature A\",\"Signature A\",\"Signature C\",\"Signature C\",\"Signature D\",\"Signature B\",\"Signature B\",\"Signature D\",\"Signature B\",\"Signature C\",\"Signature C\",\"Signature A\",\"Signature B\",\"Signature D\",\"Signature D\",\"Signature D\",\"Signature A\",\"Signature B\",\"Signature C\",\"Signature D\",\"Signature B\",\"Signature A\",\"Signature D\",\"Signature A\",\"Signature A\",\"Signature D\",\"Signature D\",\"Signature C\",\"Signature A\",\"Signature C\",\"Signature C\",\"Signature A\",\"Signature B\",\"Signature B\",\"Signature A\",\"Signature A\",\"Signature B\",\"Signature A\",\"Signature A\",\"Signature C\",\"Signature C\",\"Signature C\",\"Signature B\",\"Signature C\",\"Signature D\",\"Signature B\",\"Signature C\",\"Signature D\",\"Signature A\",\"Signature D\",\"Signature B\",\"Signature D\",\"Signature B\",\"Signature C\",\"Signature B\",\"Signature D\",\"Signature B\",\"Signature D\",\"Signature A\",\"Signature C\",\"Signature D\",\"Signature B\",\"Signature C\",\"Signature B\",\"Signature C\",\"Signature D\",\"Signature A\",\"Signature C\",\"Signature D\",\"Signature D\",\"Signature D\",\"Signature C\",\"Signature A\",\"Signature C\",\"Signature B\",\"Signature D\"],\"type\":\"scatter3d\"},{\"hovertemplate\":\"cancer_type=Lung\\u003cbr\\u003eheight=%{x}\\u003cbr\\u003eweight=%{y}\\u003cbr\\u003ecancer_signature=%{z}\\u003cextra\\u003e\\u003c\\u002fextra\\u003e\",\"legendgroup\":\"Lung\",\"marker\":{\"color\":\"#EF553B\",\"symbol\":\"circle\"},\"mode\":\"markers\",\"name\":\"Lung\",\"scene\":\"scene\",\"showlegend\":true,\"x\":[187.28119990440277,171.91676204832902,150.72730457360123,168.99805982371873,172.29970264750983,165.13083550610045,194.31683701619173,188.9201519627287,198.7008809134796,171.05956860556293,179.2638058881574,179.0605840374682,159.0705604273878,197.14826314178688,168.58857214712413,162.07357225030322,189.89131333482996,197.76958934014576,173.56590052203845,171.90758154560916,158.20144355201285,170.67049051853945,175.39242410795427,178.38061324695693,166.90389542396656,164.21115904627504,189.1989488085527,159.89393544148516,167.10052394667775,191.18897312493937,158.64751006926178,152.80581716569824,188.63226252838436,184.49188423557487,175.20088372763547,163.02925481967816,199.8181633410215,167.3257782074525,193.4340963324773,159.81508889514333,162.82631505133887,185.22049796555305,162.33021926245223,172.23470325578646,187.4574634112188,170.33682011809688,169.97161016150335,168.07628362752857,152.22612496154596,177.19215678487123,159.59369834460094,155.57584480422983,188.43834586267752,175.5520858090309,196.8814402195636,198.1070239235802,153.37034441302256,169.45946560608942,194.83506917872128,187.27682822936345,196.23671620972337,173.96826506414462,188.07605404957943,182.64587048212456,172.8619487589317,190.7034170807377,184.71260376560508,158.7273166074046,158.08843962544617,187.69872970404828,168.8276912817633,178.59057423724465,180.47082986913085,175.11699259818386,164.72026716463094,172.09701373291867,170.94088971794864,158.4580191795829,171.59262307321285,188.290558475812,198.0998558614468,150.58112709427104,179.3485265919235,159.14878749628417,159.18489813845355,157.80033490583446,164.77848029100042,166.32500731911597,174.25150991771233,183.68613328266676,193.5788516198364],\"y\":[71.83104229896674,83.55323291189939,73.56624570560038,73.08941210122703,56.39132447680161,84.37582511066306,61.1679706562426,83.39089100501144,66.99014421622591,88.62700520878175,99.87918200834888,66.66735793521283,87.06318748700392,50.18192152426428,94.31406544487862,81.46861430280933,52.42682920976537,56.94320940027704,99.0734074586406,65.93999798528112,91.0002479169779,75.40972741031831,73.79081895761983,85.48335137165971,71.51166589662719,55.03116102309265,66.23074015249934,57.1314518794553,75.10166026507238,63.00712641050253,67.72202224368544,68.67210770056775,99.45575350335444,56.19681782357574,62.16018627140692,93.93704991789434,76.5766377748796,84.46052085905896,72.24703573673258,91.91892948500512,92.21926331509891,52.58279212003136,88.10339316721726,68.38522371070951,80.56190010354257,87.98712628446842,86.03389566092544,97.3803582567611,81.70226264090557,83.01163872688034,71.05585208064002,72.4429142521407,78.36394291972634,64.90740441179187,93.00862630235277,79.81442046843793,69.71834379718487,87.36068030312423,81.20650171738748,66.17442465347669,88.46322210259049,96.26729926348062,73.38097923753597,85.67529898552475,75.48446405055644,63.41851545893715,88.13151093636156,58.80820356111131,88.93156449429512,70.07539164439478,83.73440549641886,61.36282330849272,88.61867235931483,60.618320834300725,60.9371077111094,64.95009707307963,73.74087953285418,90.33876419046231,58.44572281833953,83.54405236294303,73.26115242674408,90.05732252336341,69.76430575982596,99.2064525044203,86.09402083658837,60.09788861356611,98.32164858206158,92.4648281361552,53.10755569194933,98.74303916027918,51.47376314014786],\"z\":[\"Signature A\",\"Signature B\",\"Signature D\",\"Signature C\",\"Signature D\",\"Signature C\",\"Signature B\",\"Signature C\",\"Signature A\",\"Signature A\",\"Signature D\",\"Signature D\",\"Signature D\",\"Signature D\",\"Signature A\",\"Signature D\",\"Signature D\",\"Signature A\",\"Signature C\",\"Signature B\",\"Signature A\",\"Signature A\",\"Signature D\",\"Signature C\",\"Signature B\",\"Signature C\",\"Signature B\",\"Signature D\",\"Signature B\",\"Signature A\",\"Signature A\",\"Signature A\",\"Signature D\",\"Signature A\",\"Signature D\",\"Signature D\",\"Signature A\",\"Signature D\",\"Signature B\",\"Signature A\",\"Signature D\",\"Signature A\",\"Signature C\",\"Signature D\",\"Signature C\",\"Signature D\",\"Signature A\",\"Signature A\",\"Signature D\",\"Signature A\",\"Signature B\",\"Signature D\",\"Signature A\",\"Signature C\",\"Signature A\",\"Signature C\",\"Signature D\",\"Signature C\",\"Signature C\",\"Signature A\",\"Signature A\",\"Signature A\",\"Signature C\",\"Signature C\",\"Signature D\",\"Signature B\",\"Signature D\",\"Signature C\",\"Signature D\",\"Signature B\",\"Signature B\",\"Signature A\",\"Signature A\",\"Signature A\",\"Signature C\",\"Signature B\",\"Signature C\",\"Signature A\",\"Signature A\",\"Signature B\",\"Signature B\",\"Signature A\",\"Signature A\",\"Signature B\",\"Signature A\",\"Signature C\",\"Signature A\",\"Signature B\",\"Signature B\",\"Signature A\",\"Signature B\"],\"type\":\"scatter3d\"},{\"hovertemplate\":\"cancer_type=Skin\\u003cbr\\u003eheight=%{x}\\u003cbr\\u003eweight=%{y}\\u003cbr\\u003ecancer_signature=%{z}\\u003cextra\\u003e\\u003c\\u002fextra\\u003e\",\"legendgroup\":\"Skin\",\"marker\":{\"color\":\"#00cc96\",\"symbol\":\"circle\"},\"mode\":\"markers\",\"name\":\"Skin\",\"scene\":\"scene\",\"showlegend\":true,\"x\":[165.82642818701683,190.7235263723358,151.8726682651193,190.72828870162147,189.66419133061115,164.78833777850554,152.4487027573722,168.5314600600479,163.66734616048927,191.0282865397185,173.35395166707633,189.5163996792056,177.99431985417652,175.72211471165988,173.0786954332622,182.0162723294208,192.51668205049776,195.58000396167927,150.9688832569055,169.99466606394927,168.21809893276358,188.6021680585328,182.41380923508007,190.20705262103917,179.93442369937165,155.90393380476053,184.6248411827077,177.1817073180051,165.174719158259,173.1256148313135,198.95219945620207,176.15678097493003,170.08217150625944,188.70077728800985,190.6899483057065,165.7619514125455,183.4540621526285,168.67215192974191,171.77714405790917,169.26150353688973,170.93234688619745,172.11397416749304,175.0534676876101,184.3997169901773,172.6951788000096,171.6240946860539,165.11738362423534,187.36788336289348,168.4122585339898,181.48074286661983,166.13292135602686,175.5393764071407,168.02575285175013,173.47210987593564,152.65059482453185,155.07683583917475,190.92082955235009,198.72889513736365,152.7617326402016,191.73682898793555,186.2406517530377,169.38671926370807,166.52488057353048,165.70316528648067,158.7765880818542,169.93545850556535,158.714387592813,188.08719327951604,153.12999137982578,160.9758454523054,166.9789672754698,190.1948127153739,165.10876651704004,161.31412466819296,193.3114705868753,182.99034384957247,175.39141436217545,153.02249238537632,152.7691502832107,179.23856434172455,166.57699499971386,184.64247648946804,177.17563436441617,153.32709741903395,166.777251944115,194.25312901330244,158.23830432354836,156.29760667474122,156.78518222295816,153.99272433896522,192.6607267722572,172.26343764727352,197.47622798540465,151.12923527118755,151.29529308902664,165.2278837236318,166.239885799951],\"y\":[78.5760635965153,50.51060019180643,79.67552494065218,59.914575908766494,91.96761660257006,84.95902493332784,73.47725696665016,64.0493888406159,73.18430275887894,52.40846566155174,79.50616664308839,93.36570418528224,65.35321502056902,86.56287977259903,65.14036140022536,97.11077069441905,84.84392888610651,72.70863875859429,73.48300479853035,56.46558386331965,72.9476824197512,73.58511335052034,82.64168130675708,91.42580636083233,94.60195769268722,65.98329873459795,64.47006322399939,79.81367365021521,58.244317011330295,65.2783686758039,86.34362464366816,63.87991845875138,66.4874196069439,81.88506353109143,78.77632737233122,52.90123605939952,94.3243851281834,88.41090088298098,89.90916376713761,88.89489618612612,54.40002653790664,69.51901242357982,64.30190423912163,78.45002771986461,63.81803958445494,89.4290918733576,88.07808999196257,86.29834941314157,73.82795318856711,85.16182073757635,71.73257180219429,85.62502219812654,92.2092736195837,69.74278183594359,94.63877656966876,79.51556912203966,74.85611619886598,92.71095196095324,51.22984215662638,75.53749147480131,90.10447342539638,79.08144631346585,84.84932531119438,82.68480825730973,81.19308723188098,71.34995904442142,54.16815699346917,65.9839029029017,58.112977699757664,60.68997274817529,59.67791284279256,71.50237663359022,52.372656876819086,72.88097649762216,83.4651305325853,73.63573019046032,76.0718223015171,79.20376547362926,87.13071478642503,84.8129658726084,89.96145660007817,88.4530205138907,61.57771654290379,81.00440576092834,81.89085477086063,71.04876465635829,71.37613699166997,68.6481365818659,83.91512334482262,74.94363348249486,95.61588636522912,98.611487440746,77.00727582706276,76.50024767776712,99.08772840487782,83.27905450171693,85.94597275824995],\"z\":[\"Signature B\",\"Signature C\",\"Signature A\",\"Signature C\",\"Signature C\",\"Signature D\",\"Signature B\",\"Signature C\",\"Signature C\",\"Signature C\",\"Signature A\",\"Signature B\",\"Signature B\",\"Signature A\",\"Signature D\",\"Signature B\",\"Signature C\",\"Signature A\",\"Signature C\",\"Signature A\",\"Signature A\",\"Signature A\",\"Signature B\",\"Signature C\",\"Signature C\",\"Signature D\",\"Signature D\",\"Signature D\",\"Signature B\",\"Signature C\",\"Signature C\",\"Signature D\",\"Signature B\",\"Signature C\",\"Signature D\",\"Signature B\",\"Signature D\",\"Signature D\",\"Signature B\",\"Signature C\",\"Signature C\",\"Signature C\",\"Signature D\",\"Signature D\",\"Signature A\",\"Signature C\",\"Signature D\",\"Signature C\",\"Signature C\",\"Signature B\",\"Signature A\",\"Signature A\",\"Signature D\",\"Signature C\",\"Signature A\",\"Signature A\",\"Signature C\",\"Signature B\",\"Signature A\",\"Signature B\",\"Signature D\",\"Signature A\",\"Signature C\",\"Signature D\",\"Signature C\",\"Signature B\",\"Signature D\",\"Signature C\",\"Signature D\",\"Signature D\",\"Signature A\",\"Signature D\",\"Signature B\",\"Signature A\",\"Signature A\",\"Signature C\",\"Signature D\",\"Signature A\",\"Signature B\",\"Signature A\",\"Signature B\",\"Signature D\",\"Signature B\",\"Signature C\",\"Signature D\",\"Signature C\",\"Signature A\",\"Signature D\",\"Signature C\",\"Signature C\",\"Signature D\",\"Signature C\",\"Signature B\",\"Signature A\",\"Signature B\",\"Signature C\",\"Signature D\"],\"type\":\"scatter3d\"},{\"hovertemplate\":\"cancer_type=Pancreatic\\u003cbr\\u003eheight=%{x}\\u003cbr\\u003eweight=%{y}\\u003cbr\\u003ecancer_signature=%{z}\\u003cextra\\u003e\\u003c\\u002fextra\\u003e\",\"legendgroup\":\"Pancreatic\",\"marker\":{\"color\":\"#ab63fa\",\"symbol\":\"circle\"},\"mode\":\"markers\",\"name\":\"Pancreatic\",\"scene\":\"scene\",\"showlegend\":true,\"x\":[154.26975127016007,193.70502296702176,154.7818996466259,181.90891192605983,165.76064461178493,186.46451349494083,167.82965222494184,194.1039248916408,182.6513190755615,181.7084195504017,167.36742454075565,190.7205294116447,155.9794647659048,193.64338666241463,176.19274427350547,187.57924572359457,192.50266111411588,171.18936812728413,170.0498809412102,168.02453438292258,198.0733017564904,158.36201881622844,180.8312391479292,164.3730581087349,168.77460252925516,165.14188614905376,197.5108744379803,179.7756260569633,192.59734542161468,169.05893455585783,175.70615735374187,166.18078676958004,175.42189755417758,153.17079535682402,160.5259867677617,161.5830056962839,178.03874709710502,173.30972322142316,198.59384589432244,160.82885075979698,189.420749390581,176.07661438501225,165.66909195449375,174.08027212460075,156.1362040337557,177.80581132451954,150.32435452472453,197.20496152271323,185.455273981906,183.2221822177328,184.0085203305182,168.73727210932353,162.86876425182433,195.429999639434,165.23731251453296,155.22970689455278,161.59031532811252,150.42823304138102,190.5881674085542,180.68832687622356,152.9844971290306,191.83527473385803,175.0142993654243,162.0881863991847,168.90129851210048,170.1394561919276,157.17413206115432,183.454315204626,197.5639843240446,154.65028907662662,199.96733045181787,178.2739377823029,165.93220944060698,184.2681608611888,195.2472101590556,191.47486106196823,199.78016323926312,181.80769432092245,195.97284859124585,156.03723459882505,160.74345941498797,167.0031279628621,179.16528589213493,150.9858728935358,191.5194729679555,151.36052163950316,177.7805571075813,173.4234324717086,188.4216513111872,153.43443367591243,171.14503798190472,164.68300094862013,174.87358066934402,194.76333132652437,191.3511559198942,180.8177366787148,182.3813884989065,163.4926838118613,172.79053231894136,187.29795349862965,181.2290898256865,156.17877728032187,175.506655448568,159.02407550504716,156.55220859563534,163.97935927943715,181.89837084069225,166.48356512941746,182.32194166602807,199.9884405205147,181.63269639518177],\"y\":[94.2298699412806,77.07562555128004,82.50080732250919,78.19950223662718,67.71912250405025,52.96708512384458,83.14627327047651,64.47204931407322,86.94024477535183,65.88398059712382,67.75810725483724,61.09862002351233,65.17946374046443,87.13681257009759,93.65146671623825,92.65933340228494,56.358953371586765,52.06799349852741,84.06124642030463,72.82761104650187,66.73954850173766,81.30777054789178,62.71077766130826,52.0469562008599,88.19720670534056,53.35236362397089,80.46370515020544,92.9135877028016,77.06752436993533,72.38199542102565,74.81522690839816,52.10240411473264,51.87202262290819,86.6792623398243,53.10756486198427,59.54072701714863,64.57390994509483,58.00247566894648,51.25222166549534,86.68984542026293,60.85733570843746,85.14383076200065,67.75855896307793,50.81878025242477,93.53298358159536,73.46620889583504,89.74698402667065,70.97292289740705,89.3490006328874,99.7592792526636,97.99969660342455,88.21482386236049,76.4657824552577,71.00971378520565,70.81604285159209,79.8936797133369,76.72406160060511,51.22585252043751,69.77687414169975,55.5408284112983,58.22542617239539,58.09903848514992,69.04076556313238,58.17696631792566,77.02993233831913,88.0610778758675,83.75950112716822,94.32101185635707,92.87258766389807,89.48807983736688,94.41276175887704,89.01279516591929,79.0329545777698,63.56497102439215,99.08049526236935,88.13074634356059,75.39798354090014,95.25378870126204,93.08160586871102,54.68141116508158,53.47015833406133,95.3439893485639,59.52484087121327,94.51505885067836,71.18776238681154,91.8169228233855,75.76107922141402,61.74131281415576,56.3246266584956,57.25355744518297,92.45756483003834,61.5370265376049,51.327572950329056,67.92925637620698,96.4239879250957,62.4334511150707,76.03433728896064,76.41097821579012,84.11701927413483,82.4543069924213,58.367865944175485,60.55474384765774,89.6374369595175,92.2345960355774,80.36897361175855,69.28881717243308,67.56155776984474,63.469946462084735,70.56884783484614,91.43578134809768,95.2951024743686],\"z\":[\"Signature D\",\"Signature B\",\"Signature A\",\"Signature A\",\"Signature A\",\"Signature D\",\"Signature B\",\"Signature C\",\"Signature A\",\"Signature A\",\"Signature D\",\"Signature B\",\"Signature D\",\"Signature D\",\"Signature B\",\"Signature A\",\"Signature D\",\"Signature C\",\"Signature C\",\"Signature D\",\"Signature C\",\"Signature C\",\"Signature A\",\"Signature D\",\"Signature D\",\"Signature A\",\"Signature C\",\"Signature A\",\"Signature C\",\"Signature B\",\"Signature B\",\"Signature A\",\"Signature C\",\"Signature B\",\"Signature C\",\"Signature C\",\"Signature D\",\"Signature A\",\"Signature C\",\"Signature A\",\"Signature C\",\"Signature D\",\"Signature A\",\"Signature A\",\"Signature B\",\"Signature A\",\"Signature B\",\"Signature D\",\"Signature D\",\"Signature D\",\"Signature C\",\"Signature B\",\"Signature A\",\"Signature C\",\"Signature A\",\"Signature B\",\"Signature A\",\"Signature B\",\"Signature A\",\"Signature A\",\"Signature C\",\"Signature B\",\"Signature C\",\"Signature B\",\"Signature A\",\"Signature B\",\"Signature A\",\"Signature D\",\"Signature D\",\"Signature C\",\"Signature D\",\"Signature B\",\"Signature C\",\"Signature C\",\"Signature D\",\"Signature C\",\"Signature B\",\"Signature C\",\"Signature B\",\"Signature B\",\"Signature C\",\"Signature C\",\"Signature A\",\"Signature D\",\"Signature B\",\"Signature D\",\"Signature A\",\"Signature D\",\"Signature A\",\"Signature B\",\"Signature C\",\"Signature D\",\"Signature B\",\"Signature A\",\"Signature A\",\"Signature A\",\"Signature D\",\"Signature C\",\"Signature D\",\"Signature B\",\"Signature A\",\"Signature D\",\"Signature A\",\"Signature B\",\"Signature A\",\"Signature A\",\"Signature A\",\"Signature A\",\"Signature D\",\"Signature A\",\"Signature A\"],\"type\":\"scatter3d\"},{\"hovertemplate\":\"cancer_type=Ovarian\\u003cbr\\u003eheight=%{x}\\u003cbr\\u003eweight=%{y}\\u003cbr\\u003ecancer_signature=%{z}\\u003cextra\\u003e\\u003c\\u002fextra\\u003e\",\"legendgroup\":\"Ovarian\",\"marker\":{\"color\":\"#FFA15A\",\"symbol\":\"circle\"},\"mode\":\"markers\",\"name\":\"Ovarian\",\"scene\":\"scene\",\"showlegend\":true,\"x\":[150.29599879754434,181.53365934166035,182.228791546738,177.7131078408761,181.05343927229023,166.5892911707216,189.5996468855045,173.47181845329783,186.64056007028836,189.7995627441948,176.8157138507296,155.7196653772356,173.42053710243025,168.3756666454853,169.45261488671554,152.89549514157656,197.90404792022144,172.86681926925291,158.4709129849922,199.35688050595795,171.33109282206414,170.3371947332178,190.32405764544396,161.58817162942796,168.41323669923847,179.12314590283148,171.4187617321601,169.48495001946452,161.58502326310202,162.22406748244106,157.86490453899182,185.3499716384572,198.43428325377727,193.1474244055876,156.448550526971,161.24331706518916,191.00610925545723,179.1743231677447,185.58948691734705,152.32550631918292,196.1777254588872,172.3326383309906,168.0533749181495,176.7566219908855,187.05296452890948,153.08716179625526,195.8890699294699,193.4602829700115,178.38982850022913,158.0331766678609,175.61617851493853,187.4663622415731,167.20573559357268,199.88570513360045,193.0786961510837,199.6193850116323,192.32686934156783,163.93395287777335,157.9823453339123,191.0147436287545,172.80887323717656,189.0176204570253,152.4284921705649,188.74581661906635,187.08561493165587,167.26063544671302,151.24014259197756,166.7849336991856,157.09893258287366,151.9034407778003,192.49032138236032,180.08429466798086,160.86629684814935,151.7433980035753,185.7229758621652,180.89930342994955,157.56899806810702,191.95023620768325,187.60149961305484,167.58273588805346,150.9607823455987,199.67541174276812,183.95911781145787,177.80882563930012,178.38853669525696,174.6755270294339,193.33054123614988,166.90123613736458,189.11311182029127,195.86059315757333,186.6215971907284,196.02151870218023,190.44141171172205,167.73820175087823,188.98158049026048,157.47219269906415,182.0175455179364,198.01520506195632,170.83762674826636,171.83080227645254,168.32744927003844,190.76357494765352,160.22747379940816,194.85199636732443,181.1946669263171,151.4185248982647,177.73107378409563,193.26838519778156,185.87173104344015,161.26878785166434,174.18820860725674,188.69036730449733,152.3785401879962,181.0043009984049,197.34861975809335,160.87433772253755,157.436605906679,161.39654305829524,193.76720419152124,191.4514249032121,191.21987579645133,184.00665307250569],\"y\":[89.50895268731541,67.33403004544452,68.67596626279196,81.54461223102402,75.1037597356752,56.04390605590974,75.60891023245313,84.00549052971408,51.71124447440148,71.3098061347445,95.31100721805576,98.02580522841214,94.2013579591183,87.8453934539755,94.71998382789522,88.30267763419285,53.22748712455432,56.96154007571809,93.79143906798346,89.44176395338431,86.20882985599387,84.63304639608714,70.58186657175877,64.66122626262131,53.21743980162925,76.85876471785427,86.15484079140539,88.32424665706357,55.914931033954026,52.93402529250482,66.58115260774629,69.4623440804695,58.27853702571854,92.60940024597475,55.13275666476261,61.18628067064248,58.700440623023255,63.76732785801439,98.80886645142613,78.75995503172993,87.92930399633187,74.43947839420728,56.06413925575616,60.001464082728965,85.50303081438022,80.1439326166882,92.4279866589674,93.23314720559978,62.072205693819605,63.25287224849127,96.48340251047284,59.09437964465098,65.49924252722603,61.30061215490709,55.5041644594427,88.05857025867275,61.82445960499764,50.30543444920896,86.93755260226166,56.81104501923831,65.04728820554686,98.1494418640096,87.25353327063195,72.31991758191532,68.52540138754483,76.04654241495562,75.71476359726915,78.14052526642226,97.3955827823812,62.08118930221056,98.86673285208178,93.14813572476024,73.32403153199779,90.58901373804032,98.93052684544514,72.95977646431444,52.92820551965022,68.56817777511291,80.36099839283912,82.37488100413613,75.44869839306254,84.00484635135615,81.4234657790394,50.341111334651536,69.73819933331802,96.81852526812727,53.48365801397431,89.83528809277539,92.01074195115864,59.3923711238198,57.3403455820001,66.18444325724958,60.90291823945738,92.27306894349869,81.81316047185896,71.8741295567122,76.24866237300847,89.02047742736178,60.99011938170334,62.25092740530109,77.95369705192233,68.79674402186357,67.45810490765504,89.86572138686854,62.115851596319885,79.68426782269631,62.560526673182025,94.9228886806784,50.79610523529009,89.8832918368344,73.12841758949418,97.70290522762956,56.0450798284966,92.81856871905212,65.78132052092955,56.42821247545973,54.09366950138711,60.588437537621225,58.39939633960429,99.51013666933974,70.1202835215991,56.2441533679914],\"z\":[\"Signature C\",\"Signature B\",\"Signature D\",\"Signature B\",\"Signature A\",\"Signature D\",\"Signature A\",\"Signature A\",\"Signature D\",\"Signature C\",\"Signature C\",\"Signature B\",\"Signature B\",\"Signature A\",\"Signature C\",\"Signature D\",\"Signature C\",\"Signature C\",\"Signature A\",\"Signature B\",\"Signature D\",\"Signature B\",\"Signature B\",\"Signature B\",\"Signature D\",\"Signature D\",\"Signature A\",\"Signature C\",\"Signature B\",\"Signature C\",\"Signature B\",\"Signature A\",\"Signature D\",\"Signature D\",\"Signature D\",\"Signature A\",\"Signature D\",\"Signature B\",\"Signature B\",\"Signature D\",\"Signature D\",\"Signature A\",\"Signature D\",\"Signature A\",\"Signature B\",\"Signature B\",\"Signature C\",\"Signature D\",\"Signature C\",\"Signature D\",\"Signature C\",\"Signature B\",\"Signature A\",\"Signature C\",\"Signature C\",\"Signature A\",\"Signature B\",\"Signature B\",\"Signature A\",\"Signature C\",\"Signature A\",\"Signature A\",\"Signature C\",\"Signature C\",\"Signature B\",\"Signature A\",\"Signature B\",\"Signature A\",\"Signature A\",\"Signature A\",\"Signature D\",\"Signature C\",\"Signature D\",\"Signature C\",\"Signature A\",\"Signature B\",\"Signature A\",\"Signature B\",\"Signature B\",\"Signature B\",\"Signature B\",\"Signature D\",\"Signature C\",\"Signature D\",\"Signature D\",\"Signature A\",\"Signature A\",\"Signature C\",\"Signature A\",\"Signature C\",\"Signature A\",\"Signature C\",\"Signature B\",\"Signature B\",\"Signature C\",\"Signature B\",\"Signature D\",\"Signature B\",\"Signature A\",\"Signature D\",\"Signature D\",\"Signature D\",\"Signature B\",\"Signature B\",\"Signature C\",\"Signature B\",\"Signature C\",\"Signature B\",\"Signature A\",\"Signature B\",\"Signature B\",\"Signature B\",\"Signature C\",\"Signature A\",\"Signature D\",\"Signature D\",\"Signature C\",\"Signature B\",\"Signature D\",\"Signature A\",\"Signature C\",\"Signature B\"],\"type\":\"scatter3d\"},{\"hovertemplate\":\"cancer_type=Prostate\\u003cbr\\u003eheight=%{x}\\u003cbr\\u003eweight=%{y}\\u003cbr\\u003ecancer_signature=%{z}\\u003cextra\\u003e\\u003c\\u002fextra\\u003e\",\"legendgroup\":\"Prostate\",\"marker\":{\"color\":\"#19d3f3\",\"symbol\":\"circle\"},\"mode\":\"markers\",\"name\":\"Prostate\",\"scene\":\"scene\",\"showlegend\":true,\"x\":[194.7806971315316,173.99176560900762,191.065602700763,191.7797157534104,154.89465244257738,171.4973777148865,180.5587263062308,187.5392090834161,178.5477349068328,179.66508533576302,171.04553213966676,152.88001496334454,173.43804831015484,187.9520428105253,197.40739789846057,181.9069748016072,196.90372847862847,198.4194295079421,171.45659079760776,175.54777780777573,152.76952315839716,159.3272522776656,187.5661239425393,163.80231249106117,196.65226281093717,187.76672843400752,154.77149591590506,164.51820893771728,173.74062854869516,166.56057893734027,195.75519072114272,184.6819094962564,197.37843272604252,172.14577410566378,151.26941443683774,181.22527347962983,150.75827821474553,155.11264201424436,188.7164323244598,180.86517808558645,185.94050935400492,175.2290044804894,159.10928300676846,154.83507656491958,187.6080774641111,196.08133530782857,186.39495036396244,150.57215570479616,183.33354846530352,164.13331894423197,155.9643298256535,180.2347141897278,160.21300963528287,168.51772437310024,198.22551326327607,160.10371928948544,178.81987894973858,156.8859717647879,164.58556282202565,194.4854580225172,154.7440296882211,152.39355388494826,181.0901712864758,192.8374996358673,160.98483159781694,155.02456765249465,165.16866105231358,153.0371479711655,198.12704044556088,163.87896091909346,176.3135943441788,158.97561865213265,197.75881068472904,154.0790414526843,182.59213407176108,160.14074918289822,183.575349599545,167.3218798939256,191.03900559003787,199.60439042095896,188.7135127702064,190.4401303888052,165.77240430119693,165.00343670553335,183.96709293979185,192.1795869981852,161.22199741881423,163.44179304016637,159.20106747719464,173.07386180339552,183.5325681869539,164.4943481957329,193.8990324326597,164.42307513521857,177.32322284855758,163.74358545222185,163.8511716611598,173.31566797674435,186.09728184399944],\"y\":[78.91965855807275,88.85984702132953,91.72464682625191,63.16948109221752,55.17215738017424,53.2819962346256,58.43228970998599,96.6263793163114,79.53586239097916,77.9977729021778,98.26221003531074,69.26373136529674,60.68373275245347,81.06528397830171,77.30788957588447,95.24456855255562,83.33728345436987,92.84293738528248,56.884802737369,90.22803033756796,50.08122755115741,57.551783186593184,79.02750424343209,66.49540427456913,52.07363860000326,66.84217707332839,78.39531771936244,97.45637342246624,89.44931303327715,51.34936948856759,77.35191672936959,86.60586344075477,81.40189470097397,79.79081041267878,86.58958362159369,63.05629407439709,55.408464359379664,80.32204977301396,82.37280034495936,94.16539486540368,80.71963600547485,52.647930013808754,89.64871749097664,96.97799598053524,66.55789147108608,92.88535540178133,54.51936541054715,97.11025345838652,95.43635195579746,91.58902502146422,64.84533934971338,54.27533427845386,93.5583726194852,65.18163220014968,78.68564910129575,53.630623949293145,76.07365506585211,78.16452413235683,87.69478065160783,90.95859335558303,74.12534196497026,59.0448932818903,74.24651278437,83.7248257607249,66.47424142480912,57.753993044119575,73.36684815331265,57.78641966897367,73.27681675288068,75.05645557948816,51.43475887937978,60.31902261281374,73.17729843611282,74.62074287860088,69.37350175177241,84.73080441053023,75.28610679502057,50.530278137983,83.82444866189236,76.34149695190297,74.03789994775393,86.51741110028817,62.86562367747011,64.327476514204,88.82635743754284,80.75559507227973,66.34222502163189,92.13635625033436,59.80193722660828,79.56673590629812,92.05724295592786,81.1599969828328,67.07009828984965,78.07075487142536,69.81640734104232,54.60586718519443,84.23733313920465,59.06785960429615,67.40808714580368],\"z\":[\"Signature C\",\"Signature C\",\"Signature D\",\"Signature C\",\"Signature C\",\"Signature B\",\"Signature D\",\"Signature C\",\"Signature D\",\"Signature D\",\"Signature D\",\"Signature A\",\"Signature B\",\"Signature C\",\"Signature B\",\"Signature B\",\"Signature D\",\"Signature A\",\"Signature A\",\"Signature B\",\"Signature D\",\"Signature B\",\"Signature C\",\"Signature A\",\"Signature B\",\"Signature A\",\"Signature C\",\"Signature D\",\"Signature A\",\"Signature C\",\"Signature B\",\"Signature B\",\"Signature B\",\"Signature D\",\"Signature D\",\"Signature C\",\"Signature A\",\"Signature D\",\"Signature D\",\"Signature D\",\"Signature D\",\"Signature D\",\"Signature D\",\"Signature A\",\"Signature A\",\"Signature C\",\"Signature B\",\"Signature A\",\"Signature C\",\"Signature B\",\"Signature B\",\"Signature C\",\"Signature B\",\"Signature C\",\"Signature C\",\"Signature B\",\"Signature C\",\"Signature A\",\"Signature B\",\"Signature A\",\"Signature D\",\"Signature B\",\"Signature D\",\"Signature A\",\"Signature B\",\"Signature C\",\"Signature D\",\"Signature D\",\"Signature A\",\"Signature A\",\"Signature D\",\"Signature C\",\"Signature D\",\"Signature A\",\"Signature D\",\"Signature B\",\"Signature A\",\"Signature D\",\"Signature B\",\"Signature C\",\"Signature B\",\"Signature D\",\"Signature C\",\"Signature A\",\"Signature C\",\"Signature A\",\"Signature D\",\"Signature B\",\"Signature D\",\"Signature A\",\"Signature C\",\"Signature A\",\"Signature B\",\"Signature B\",\"Signature D\",\"Signature B\",\"Signature C\",\"Signature B\",\"Signature D\"],\"type\":\"scatter3d\"},{\"hovertemplate\":\"cancer_type=Breast\\u003cbr\\u003eheight=%{x}\\u003cbr\\u003eweight=%{y}\\u003cbr\\u003ecancer_signature=%{z}\\u003cextra\\u003e\\u003c\\u002fextra\\u003e\",\"legendgroup\":\"Breast\",\"marker\":{\"color\":\"#FF6692\",\"symbol\":\"circle\"},\"mode\":\"markers\",\"name\":\"Breast\",\"scene\":\"scene\",\"showlegend\":true,\"x\":[182.94298966359605,176.97892028301294,152.61236962626245,155.64817854797454,176.0540501312172,185.2616576371041,155.60182416619162,150.67745686957304,173.67599110276333,163.4673129703205,181.69397279042832,199.34802826877512,161.2675695161009,164.47825504750134,159.51787040025707,168.71907031818756,195.22432978364196,170.7214186710746,185.50859363698032,183.5631210418491,182.9338849895041,187.7802199341786,197.3337917673338,166.3210724323696,185.92959171572724,190.5931552123024,195.556159949436,150.07883755516036,187.73891063497345,159.51000221060792,197.52890274735037,183.0052027239126,163.7487231738475,193.501106835838,199.4361868203013,166.43897619464792,192.7112286590978,189.76046055656315,173.36889941599077,172.82438152195388,160.31133305224233,164.88147526809666,194.4803417185936,177.15607966787218,156.31430289458197,155.94769481009197,174.07557060092694,173.3495787587625,157.66339448579453,197.95629822509943,199.53593664035697,158.98411443673234,167.5208528853797,188.486939058166,171.27238846871478,183.03713440982145,169.01766660727415,178.86472630071043,159.5365087991536,161.10754170295183,199.26485883693837,188.9556845480369,153.39948047830674,177.3332696967834,197.02954005337773,197.60173518350376,190.0450041502499,150.85819428000198,158.48848473573435,188.8135045331324,183.69550168908057,158.51596847590702,191.27215597562065,158.13275694363483,190.16259077621865,163.89883972415402,162.007441928446,155.79240311213053,165.6747486138541,167.07622323453148,198.84276046308136,159.86410466252258,164.6530159246709,150.65892585706428,183.38935129844745,177.89624149824903,192.62248046740183,153.21660365188563,158.34798489519457,196.96109282780372,195.87672586451973,153.69579144176458,185.17130456593844,158.01164294209303,167.0977902370751,173.3831216270753],\"y\":[97.30581585319408,52.34343439801956,61.12007619824864,56.950132468871736,85.0932764166185,60.90192072303552,93.10621695415492,78.87371471121402,81.99047913438656,95.37002357399756,57.59919412661476,86.38129552462794,66.11828095948044,86.7923938324376,95.73593428531828,62.86570327809562,63.26555407751452,68.6076453702631,61.58312561689773,63.56798153201501,73.79537671336062,68.44454529244534,76.66977008780579,80.58583751180815,99.0815959885937,86.51251749594061,97.35278049004872,82.24040370028463,81.99588540831449,92.14173955751627,62.04190981140425,68.63679731285438,64.1731087736089,58.61933931973011,90.96182081791277,55.30143154665406,83.03893020273235,52.3987076372642,99.17632956106326,66.58907601141138,58.871667808737456,70.04712643060398,60.34045135918856,84.82815365516477,64.73830442701542,53.390795590163314,54.49280281863705,65.06927104053918,69.42538679566749,91.87921326290262,66.47060684484573,69.30438911446828,76.33308445817957,69.85850291351635,92.66920217525455,99.55931236322888,55.68824951310216,82.40634145779748,90.20528953868936,57.335351529662496,62.772200366419526,87.98726684087465,98.011884489929,68.440871840894,50.19366186475578,96.23559227139748,66.37223286119115,80.11837034200076,75.88093500572303,77.30456428732401,98.04854417123995,86.66347286820124,84.11998327922586,54.47892790963527,84.46491243771632,92.42285680441192,78.41508713981716,88.34776921138526,70.08561280047594,74.01303924358328,74.91212563450259,81.66029624005898,62.282590698770775,82.34667627549561,82.77330983867972,61.16045139512199,62.781243460112464,57.094172300610126,74.66129071737132,83.18490968734926,53.43292471765904,54.36700213450528,94.03190674500112,88.81987158617149,60.77021867903759,95.75265417566548],\"z\":[\"Signature B\",\"Signature A\",\"Signature A\",\"Signature D\",\"Signature B\",\"Signature B\",\"Signature C\",\"Signature A\",\"Signature B\",\"Signature D\",\"Signature D\",\"Signature C\",\"Signature A\",\"Signature C\",\"Signature D\",\"Signature D\",\"Signature D\",\"Signature A\",\"Signature C\",\"Signature D\",\"Signature C\",\"Signature A\",\"Signature C\",\"Signature D\",\"Signature C\",\"Signature B\",\"Signature B\",\"Signature B\",\"Signature A\",\"Signature A\",\"Signature B\",\"Signature D\",\"Signature B\",\"Signature D\",\"Signature A\",\"Signature C\",\"Signature D\",\"Signature D\",\"Signature B\",\"Signature B\",\"Signature D\",\"Signature D\",\"Signature C\",\"Signature C\",\"Signature B\",\"Signature A\",\"Signature D\",\"Signature D\",\"Signature B\",\"Signature D\",\"Signature B\",\"Signature B\",\"Signature B\",\"Signature A\",\"Signature A\",\"Signature D\",\"Signature B\",\"Signature B\",\"Signature D\",\"Signature D\",\"Signature A\",\"Signature C\",\"Signature C\",\"Signature D\",\"Signature B\",\"Signature B\",\"Signature D\",\"Signature D\",\"Signature B\",\"Signature A\",\"Signature A\",\"Signature A\",\"Signature D\",\"Signature B\",\"Signature C\",\"Signature D\",\"Signature B\",\"Signature B\",\"Signature B\",\"Signature C\",\"Signature A\",\"Signature B\",\"Signature D\",\"Signature A\",\"Signature A\",\"Signature B\",\"Signature A\",\"Signature D\",\"Signature A\",\"Signature C\",\"Signature C\",\"Signature B\",\"Signature C\",\"Signature D\",\"Signature D\",\"Signature C\"],\"type\":\"scatter3d\"},{\"hovertemplate\":\"cancer_type=Leukemia\\u003cbr\\u003eheight=%{x}\\u003cbr\\u003eweight=%{y}\\u003cbr\\u003ecancer_signature=%{z}\\u003cextra\\u003e\\u003c\\u002fextra\\u003e\",\"legendgroup\":\"Leukemia\",\"marker\":{\"color\":\"#B6E880\",\"symbol\":\"circle\"},\"mode\":\"markers\",\"name\":\"Leukemia\",\"scene\":\"scene\",\"showlegend\":true,\"x\":[188.0707792275421,172.60263613304286,196.8547092634074,154.70750929265802,181.1190503609697,169.9249022155467,166.20191760928785,176.37257794484808,167.78938024290585,160.31745600017393,195.4481110620215,158.8032956500375,166.93837972181126,171.62772013524676,173.76306166596518,185.57688529874972,199.20227084574643,185.5654350180524,189.25668973884063,152.98953441676642,178.3756507874568,150.3297307553445,161.5806502190207,170.10605270468474,179.34855940899638,170.20149098578682,193.63679417784144,167.11024253659917,154.87215556307936,181.118563162198,188.5413502606127,191.37648298040855,158.44063030492802,198.06678198159025,185.59581533684636,163.52073485808,187.71314916086232,196.7491970084263,156.37471609076513,181.11466944589435,188.74241522862224,177.43898791813228,162.06416361546928,160.43506784400034,183.5153974595698,186.09865352388607,184.87289506163532,163.32194350358515,172.06033340220208,168.17126324603717,174.26525100612565,177.66019867118854,198.25968228985792,159.98320878340263,167.72912092663964,190.44488285632104,181.2202153138068,193.84257166099005,185.41361239434724,156.3242357306017,171.06528011129916,175.21679619906175,180.28245467938152,183.89843733793344,165.97126736959103,154.06980763425602,181.7752444242902,184.9503969663717,194.82945280619657,167.92080400647524,179.80632119411047,177.8983902314199,190.76553151970933,165.64309358786898,151.79252985679253,169.3922776134669,178.97981975279552,182.04985033148017,183.95550818661167,151.81316314710213,159.81191206702067,163.28034353025464,186.3739159253788,167.9435949737267,181.69156573113355,155.987723199956,153.3550873442982,171.3600166124626,176.59834923094235,186.4797913177964,158.6957013831244,155.92587789585454,150.24478676343088],\"y\":[57.68206986969177,77.71784951014891,59.00089248378059,57.62803404421169,63.50108189380235,62.71177729112146,60.29981370040116,72.9299885667057,94.81685656412311,86.64550588280238,63.2303290575651,95.62797804368542,90.12278677736678,94.76975917779816,50.835723059073445,96.38586096143206,54.264848117252285,88.83848964505904,90.41194353639165,57.88685225472677,89.1466699795844,96.76299357002657,96.1616848123675,66.59027373580959,79.52806325194643,91.95337121353523,54.25168041722894,69.24182613287708,60.91817992219538,94.3843446431806,83.27193358024343,82.26403772225237,51.45246310851749,74.37427343461098,85.25257929141927,53.26952849046012,84.11671393181007,72.05653721999226,69.17696377706208,86.84943808120892,76.16228631405605,80.83960029966232,80.2706158296652,57.76282315817714,75.56913898499239,56.51773356489414,61.05228544122977,83.3763232095092,85.16512043365296,95.47463739772977,64.90945491927046,68.07629941553355,72.8815990372544,72.92960655262388,90.55584466521562,81.72143585405243,94.91053593842202,96.596365154044,91.64545167889818,89.6280027125928,90.05524310533295,97.55986051423956,92.5235148922273,84.40314317232821,56.64690137656436,76.30939427573713,70.57180800894452,50.58146475810442,84.42663087689205,56.356274761471965,76.4031674750804,77.35514124062527,81.8878127054241,54.931877598116365,90.4623308489408,66.27336042791872,79.39475892177765,54.91361039400533,75.92625987664178,60.811411572359845,55.38211390192369,50.04515378012283,67.11883475406003,80.31175471345666,53.7126332574296,73.30791468680533,56.79062513871472,91.33653163714636,99.16197841459352,80.57245581083416,72.67881956990234,55.37532392137743,75.42918501406656],\"z\":[\"Signature D\",\"Signature C\",\"Signature B\",\"Signature D\",\"Signature B\",\"Signature A\",\"Signature D\",\"Signature A\",\"Signature B\",\"Signature C\",\"Signature D\",\"Signature D\",\"Signature C\",\"Signature D\",\"Signature D\",\"Signature A\",\"Signature C\",\"Signature B\",\"Signature B\",\"Signature C\",\"Signature C\",\"Signature B\",\"Signature A\",\"Signature A\",\"Signature D\",\"Signature C\",\"Signature A\",\"Signature D\",\"Signature A\",\"Signature A\",\"Signature A\",\"Signature C\",\"Signature B\",\"Signature C\",\"Signature A\",\"Signature A\",\"Signature D\",\"Signature B\",\"Signature C\",\"Signature D\",\"Signature C\",\"Signature A\",\"Signature D\",\"Signature B\",\"Signature B\",\"Signature D\",\"Signature B\",\"Signature A\",\"Signature B\",\"Signature D\",\"Signature C\",\"Signature C\",\"Signature C\",\"Signature B\",\"Signature D\",\"Signature C\",\"Signature D\",\"Signature A\",\"Signature C\",\"Signature D\",\"Signature C\",\"Signature B\",\"Signature A\",\"Signature B\",\"Signature D\",\"Signature D\",\"Signature B\",\"Signature C\",\"Signature B\",\"Signature B\",\"Signature A\",\"Signature A\",\"Signature D\",\"Signature C\",\"Signature D\",\"Signature C\",\"Signature D\",\"Signature B\",\"Signature B\",\"Signature B\",\"Signature A\",\"Signature C\",\"Signature D\",\"Signature D\",\"Signature C\",\"Signature D\",\"Signature A\",\"Signature D\",\"Signature D\",\"Signature B\",\"Signature B\",\"Signature B\",\"Signature D\"],\"type\":\"scatter3d\"}],                        {\"template\":{\"data\":{\"histogram2dcontour\":[{\"type\":\"histogram2dcontour\",\"colorbar\":{\"outlinewidth\":0,\"ticks\":\"\"},\"colorscale\":[[0.0,\"#0d0887\"],[0.1111111111111111,\"#46039f\"],[0.2222222222222222,\"#7201a8\"],[0.3333333333333333,\"#9c179e\"],[0.4444444444444444,\"#bd3786\"],[0.5555555555555556,\"#d8576b\"],[0.6666666666666666,\"#ed7953\"],[0.7777777777777778,\"#fb9f3a\"],[0.8888888888888888,\"#fdca26\"],[1.0,\"#f0f921\"]]}],\"choropleth\":[{\"type\":\"choropleth\",\"colorbar\":{\"outlinewidth\":0,\"ticks\":\"\"}}],\"histogram2d\":[{\"type\":\"histogram2d\",\"colorbar\":{\"outlinewidth\":0,\"ticks\":\"\"},\"colorscale\":[[0.0,\"#0d0887\"],[0.1111111111111111,\"#46039f\"],[0.2222222222222222,\"#7201a8\"],[0.3333333333333333,\"#9c179e\"],[0.4444444444444444,\"#bd3786\"],[0.5555555555555556,\"#d8576b\"],[0.6666666666666666,\"#ed7953\"],[0.7777777777777778,\"#fb9f3a\"],[0.8888888888888888,\"#fdca26\"],[1.0,\"#f0f921\"]]}],\"heatmap\":[{\"type\":\"heatmap\",\"colorbar\":{\"outlinewidth\":0,\"ticks\":\"\"},\"colorscale\":[[0.0,\"#0d0887\"],[0.1111111111111111,\"#46039f\"],[0.2222222222222222,\"#7201a8\"],[0.3333333333333333,\"#9c179e\"],[0.4444444444444444,\"#bd3786\"],[0.5555555555555556,\"#d8576b\"],[0.6666666666666666,\"#ed7953\"],[0.7777777777777778,\"#fb9f3a\"],[0.8888888888888888,\"#fdca26\"],[1.0,\"#f0f921\"]]}],\"heatmapgl\":[{\"type\":\"heatmapgl\",\"colorbar\":{\"outlinewidth\":0,\"ticks\":\"\"},\"colorscale\":[[0.0,\"#0d0887\"],[0.1111111111111111,\"#46039f\"],[0.2222222222222222,\"#7201a8\"],[0.3333333333333333,\"#9c179e\"],[0.4444444444444444,\"#bd3786\"],[0.5555555555555556,\"#d8576b\"],[0.6666666666666666,\"#ed7953\"],[0.7777777777777778,\"#fb9f3a\"],[0.8888888888888888,\"#fdca26\"],[1.0,\"#f0f921\"]]}],\"contourcarpet\":[{\"type\":\"contourcarpet\",\"colorbar\":{\"outlinewidth\":0,\"ticks\":\"\"}}],\"contour\":[{\"type\":\"contour\",\"colorbar\":{\"outlinewidth\":0,\"ticks\":\"\"},\"colorscale\":[[0.0,\"#0d0887\"],[0.1111111111111111,\"#46039f\"],[0.2222222222222222,\"#7201a8\"],[0.3333333333333333,\"#9c179e\"],[0.4444444444444444,\"#bd3786\"],[0.5555555555555556,\"#d8576b\"],[0.6666666666666666,\"#ed7953\"],[0.7777777777777778,\"#fb9f3a\"],[0.8888888888888888,\"#fdca26\"],[1.0,\"#f0f921\"]]}],\"surface\":[{\"type\":\"surface\",\"colorbar\":{\"outlinewidth\":0,\"ticks\":\"\"},\"colorscale\":[[0.0,\"#0d0887\"],[0.1111111111111111,\"#46039f\"],[0.2222222222222222,\"#7201a8\"],[0.3333333333333333,\"#9c179e\"],[0.4444444444444444,\"#bd3786\"],[0.5555555555555556,\"#d8576b\"],[0.6666666666666666,\"#ed7953\"],[0.7777777777777778,\"#fb9f3a\"],[0.8888888888888888,\"#fdca26\"],[1.0,\"#f0f921\"]]}],\"mesh3d\":[{\"type\":\"mesh3d\",\"colorbar\":{\"outlinewidth\":0,\"ticks\":\"\"}}],\"scatter\":[{\"fillpattern\":{\"fillmode\":\"overlay\",\"size\":10,\"solidity\":0.2},\"type\":\"scatter\"}],\"parcoords\":[{\"type\":\"parcoords\",\"line\":{\"colorbar\":{\"outlinewidth\":0,\"ticks\":\"\"}}}],\"scatterpolargl\":[{\"type\":\"scatterpolargl\",\"marker\":{\"colorbar\":{\"outlinewidth\":0,\"ticks\":\"\"}}}],\"bar\":[{\"error_x\":{\"color\":\"#2a3f5f\"},\"error_y\":{\"color\":\"#2a3f5f\"},\"marker\":{\"line\":{\"color\":\"#E5ECF6\",\"width\":0.5},\"pattern\":{\"fillmode\":\"overlay\",\"size\":10,\"solidity\":0.2}},\"type\":\"bar\"}],\"scattergeo\":[{\"type\":\"scattergeo\",\"marker\":{\"colorbar\":{\"outlinewidth\":0,\"ticks\":\"\"}}}],\"scatterpolar\":[{\"type\":\"scatterpolar\",\"marker\":{\"colorbar\":{\"outlinewidth\":0,\"ticks\":\"\"}}}],\"histogram\":[{\"marker\":{\"pattern\":{\"fillmode\":\"overlay\",\"size\":10,\"solidity\":0.2}},\"type\":\"histogram\"}],\"scattergl\":[{\"type\":\"scattergl\",\"marker\":{\"colorbar\":{\"outlinewidth\":0,\"ticks\":\"\"}}}],\"scatter3d\":[{\"type\":\"scatter3d\",\"line\":{\"colorbar\":{\"outlinewidth\":0,\"ticks\":\"\"}},\"marker\":{\"colorbar\":{\"outlinewidth\":0,\"ticks\":\"\"}}}],\"scattermapbox\":[{\"type\":\"scattermapbox\",\"marker\":{\"colorbar\":{\"outlinewidth\":0,\"ticks\":\"\"}}}],\"scatterternary\":[{\"type\":\"scatterternary\",\"marker\":{\"colorbar\":{\"outlinewidth\":0,\"ticks\":\"\"}}}],\"scattercarpet\":[{\"type\":\"scattercarpet\",\"marker\":{\"colorbar\":{\"outlinewidth\":0,\"ticks\":\"\"}}}],\"carpet\":[{\"aaxis\":{\"endlinecolor\":\"#2a3f5f\",\"gridcolor\":\"white\",\"linecolor\":\"white\",\"minorgridcolor\":\"white\",\"startlinecolor\":\"#2a3f5f\"},\"baxis\":{\"endlinecolor\":\"#2a3f5f\",\"gridcolor\":\"white\",\"linecolor\":\"white\",\"minorgridcolor\":\"white\",\"startlinecolor\":\"#2a3f5f\"},\"type\":\"carpet\"}],\"table\":[{\"cells\":{\"fill\":{\"color\":\"#EBF0F8\"},\"line\":{\"color\":\"white\"}},\"header\":{\"fill\":{\"color\":\"#C8D4E3\"},\"line\":{\"color\":\"white\"}},\"type\":\"table\"}],\"barpolar\":[{\"marker\":{\"line\":{\"color\":\"#E5ECF6\",\"width\":0.5},\"pattern\":{\"fillmode\":\"overlay\",\"size\":10,\"solidity\":0.2}},\"type\":\"barpolar\"}],\"pie\":[{\"automargin\":true,\"type\":\"pie\"}]},\"layout\":{\"autotypenumbers\":\"strict\",\"colorway\":[\"#636efa\",\"#EF553B\",\"#00cc96\",\"#ab63fa\",\"#FFA15A\",\"#19d3f3\",\"#FF6692\",\"#B6E880\",\"#FF97FF\",\"#FECB52\"],\"font\":{\"color\":\"#2a3f5f\"},\"hovermode\":\"closest\",\"hoverlabel\":{\"align\":\"left\"},\"paper_bgcolor\":\"white\",\"plot_bgcolor\":\"#E5ECF6\",\"polar\":{\"bgcolor\":\"#E5ECF6\",\"angularaxis\":{\"gridcolor\":\"white\",\"linecolor\":\"white\",\"ticks\":\"\"},\"radialaxis\":{\"gridcolor\":\"white\",\"linecolor\":\"white\",\"ticks\":\"\"}},\"ternary\":{\"bgcolor\":\"#E5ECF6\",\"aaxis\":{\"gridcolor\":\"white\",\"linecolor\":\"white\",\"ticks\":\"\"},\"baxis\":{\"gridcolor\":\"white\",\"linecolor\":\"white\",\"ticks\":\"\"},\"caxis\":{\"gridcolor\":\"white\",\"linecolor\":\"white\",\"ticks\":\"\"}},\"coloraxis\":{\"colorbar\":{\"outlinewidth\":0,\"ticks\":\"\"}},\"colorscale\":{\"sequential\":[[0.0,\"#0d0887\"],[0.1111111111111111,\"#46039f\"],[0.2222222222222222,\"#7201a8\"],[0.3333333333333333,\"#9c179e\"],[0.4444444444444444,\"#bd3786\"],[0.5555555555555556,\"#d8576b\"],[0.6666666666666666,\"#ed7953\"],[0.7777777777777778,\"#fb9f3a\"],[0.8888888888888888,\"#fdca26\"],[1.0,\"#f0f921\"]],\"sequentialminus\":[[0.0,\"#0d0887\"],[0.1111111111111111,\"#46039f\"],[0.2222222222222222,\"#7201a8\"],[0.3333333333333333,\"#9c179e\"],[0.4444444444444444,\"#bd3786\"],[0.5555555555555556,\"#d8576b\"],[0.6666666666666666,\"#ed7953\"],[0.7777777777777778,\"#fb9f3a\"],[0.8888888888888888,\"#fdca26\"],[1.0,\"#f0f921\"]],\"diverging\":[[0,\"#8e0152\"],[0.1,\"#c51b7d\"],[0.2,\"#de77ae\"],[0.3,\"#f1b6da\"],[0.4,\"#fde0ef\"],[0.5,\"#f7f7f7\"],[0.6,\"#e6f5d0\"],[0.7,\"#b8e186\"],[0.8,\"#7fbc41\"],[0.9,\"#4d9221\"],[1,\"#276419\"]]},\"xaxis\":{\"gridcolor\":\"white\",\"linecolor\":\"white\",\"ticks\":\"\",\"title\":{\"standoff\":15},\"zerolinecolor\":\"white\",\"automargin\":true,\"zerolinewidth\":2},\"yaxis\":{\"gridcolor\":\"white\",\"linecolor\":\"white\",\"ticks\":\"\",\"title\":{\"standoff\":15},\"zerolinecolor\":\"white\",\"automargin\":true,\"zerolinewidth\":2},\"scene\":{\"xaxis\":{\"backgroundcolor\":\"#E5ECF6\",\"gridcolor\":\"white\",\"linecolor\":\"white\",\"showbackground\":true,\"ticks\":\"\",\"zerolinecolor\":\"white\",\"gridwidth\":2},\"yaxis\":{\"backgroundcolor\":\"#E5ECF6\",\"gridcolor\":\"white\",\"linecolor\":\"white\",\"showbackground\":true,\"ticks\":\"\",\"zerolinecolor\":\"white\",\"gridwidth\":2},\"zaxis\":{\"backgroundcolor\":\"#E5ECF6\",\"gridcolor\":\"white\",\"linecolor\":\"white\",\"showbackground\":true,\"ticks\":\"\",\"zerolinecolor\":\"white\",\"gridwidth\":2}},\"shapedefaults\":{\"line\":{\"color\":\"#2a3f5f\"}},\"annotationdefaults\":{\"arrowcolor\":\"#2a3f5f\",\"arrowhead\":0,\"arrowwidth\":1},\"geo\":{\"bgcolor\":\"white\",\"landcolor\":\"#E5ECF6\",\"subunitcolor\":\"white\",\"showland\":true,\"showlakes\":true,\"lakecolor\":\"white\"},\"title\":{\"x\":0.05},\"mapbox\":{\"style\":\"light\"}}},\"scene\":{\"domain\":{\"x\":[0.0,1.0],\"y\":[0.0,1.0]},\"xaxis\":{\"title\":{\"text\":\"Height (cm)\"}},\"yaxis\":{\"title\":{\"text\":\"Weight (kg)\"}},\"zaxis\":{\"title\":{\"text\":\"Cancer Signature\"}}},\"legend\":{\"title\":{\"text\":\"cancer_type\"},\"tracegroupgap\":0},\"margin\":{\"t\":60},\"title\":{\"text\":\"3D Scatter Plot of Height, Weight, and Cancer Signature\"}},                        {\"responsive\": true}                    ).then(function(){\n",
       "                            \n",
       "var gd = document.getElementById('d42dfe06-5225-48a7-a8ee-d491581f506b');\n",
       "var x = new MutationObserver(function (mutations, observer) {{\n",
       "        var display = window.getComputedStyle(gd).display;\n",
       "        if (!display || display === 'none') {{\n",
       "            console.log([gd, 'removed!']);\n",
       "            Plotly.purge(gd);\n",
       "            observer.disconnect();\n",
       "        }}\n",
       "}});\n",
       "\n",
       "// Listen for the removal of the full notebook cells\n",
       "var notebookContainer = gd.closest('#notebook-container');\n",
       "if (notebookContainer) {{\n",
       "    x.observe(notebookContainer, {childList: true});\n",
       "}}\n",
       "\n",
       "// Listen for the clearing of the current output cell\n",
       "var outputEl = gd.closest('.output');\n",
       "if (outputEl) {{\n",
       "    x.observe(outputEl, {childList: true});\n",
       "}}\n",
       "\n",
       "                        })                };                });            </script>        </div>"
      ]
     },
     "metadata": {},
     "output_type": "display_data"
    }
   ],
   "source": [
    "# 3D Scatter Plot of Height, Weight, and Cancer Signature\n",
    "fig = px.scatter_3d(data, x='height', y='weight', z='cancer_signature', color='cancer_type')\n",
    "fig.update_layout(scene=dict(xaxis_title='Height (cm)', yaxis_title='Weight (kg)', zaxis_title='Cancer Signature'),\n",
    "                  title='3D Scatter Plot of Height, Weight, and Cancer Signature')\n",
    "fig.show()"
   ]
  },
  {
   "cell_type": "markdown",
   "metadata": {},
   "source": [
    "Plot a pie chart of gender distribution in the cohort: "
   ]
  },
  {
   "cell_type": "code",
   "execution_count": null,
   "metadata": {},
   "outputs": [],
   "source": []
  },
  {
   "cell_type": "code",
   "execution_count": 29,
   "metadata": {},
   "outputs": [
    {
     "data": {
      "image/png": "[encoded data removed]",
      "text/plain": [
       "<Figure size 640x480 with 1 Axes>"
      ]
     },
     "metadata": {},
     "output_type": "display_data"
    }
   ],
   "source": [
    "# Plot 9: Pie Chart of Gender Distribution\n",
    "gender_counts = data['gender'].value_counts()\n",
    "plt.pie(gender_counts, labels=gender_counts.index, autopct='%1.1f%%')\n",
    "plt.title('Gender Distribution')\n",
    "plt.axis('equal')\n",
    "plt.show()"
   ]
  },
  {
   "cell_type": "markdown",
   "metadata": {},
   "source": [
    "Having analysed and plotted the data in these exercises, return to the **bash_notebook.ipynb**"
   ]
  }
 ],
 "metadata": {
  "kernelspec": {
   "display_name": "anya_test",
   "language": "python",
   "name": "conda-env-anya_test-py"
  },
  "language_info": {
   "codemirror_mode": {
    "name": "ipython",
    "version": 3
   },
   "file_extension": ".py",
   "mimetype": "text/x-python",
   "name": "python",
   "nbconvert_exporter": "python",
   "pygments_lexer": "ipython3",
   "version": "3.11.4"
  }
 },
 "nbformat": 4,
 "nbformat_minor": 4
}
