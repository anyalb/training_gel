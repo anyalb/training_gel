{
 "cells": [
  {
   "cell_type": "markdown",
   "metadata": {},
   "source": [
    "# CloudOS User Training - Interactive Analysis "
   ]
  },
  {
   "cell_type": "markdown",
   "metadata": {},
   "source": [
    "The structure of this notebook follows the structure of the training session:  \n",
    "For every workflow or set of tasks, the trainers will first walk you through it, and show you how it s carried out Step-by-Step. \n",
    "The code for the step-by-step explanation of every workflow is avaiable in corresponding step-by-step sections of this notebook. "
   ]
  },
  {
   "cell_type": "markdown",
   "metadata": {},
   "source": [
    "## Workflow I: I want to run a tool and get results in a Jupyter session "
   ]
  },
  {
   "cell_type": "markdown",
   "metadata": {},
   "source": [
    "### For Step-by-step I , see slide 11 from training presentation"
   ]
  },
  {
   "cell_type": "markdown",
   "metadata": {},
   "source": [
    "In this first workflow, the objective is for you to learn how to mount data, such as cohort data selected from the cohort browser, into a interactive analysis session within Jupyterlab."
   ]
  },
  {
   "cell_type": "markdown",
   "metadata": {},
   "source": [
    "#### **Exercises I:**"
   ]
  },
  {
   "cell_type": "markdown",
   "metadata": {},
   "source": [
    "1. Go to the Cohort browser page;\n",
    "2. Select your cohort\n",
    "3. Click \"Run analysis\";\n",
    "4. Add new Data storage location and label\n",
    "5. Give notebook a distinctive name\n",
    "6.Select a project (or create a new one);\n",
    "7.Add a time limit of 12h\n",
    "8. Set a cost limit of 1$;\n",
    "9.Select instance type with 4 CPUs and 8 Gb RAM: *Instance type name: c5.xlarge, on-demand instance;*\n",
    "11.Set session storage to 100 Gb;\n",
    "12. Click \"Create\" to start a session.\n"
   ]
  },
  {
   "cell_type": "markdown",
   "metadata": {},
   "source": [
    "## Workflow II: Run a tool and get results in a Jupyter Session "
   ]
  },
  {
   "cell_type": "markdown",
   "metadata": {},
   "source": [
    "In the following workflow, the objective is for you to ger familiar with importing data for analysis and processing it using imported tools or packages, such as samtols for example"
   ]
  },
  {
   "cell_type": "markdown",
   "metadata": {},
   "source": [
    "### Step-by-step II: "
   ]
  },
  {
   "cell_type": "markdown",
   "metadata": {},
   "source": [
    "For step-by-step on data import, please see **Slide 14** in the training presentation. \n",
    "You need to upload the file wgs1.bam into the session data. You can find this file in the Pipelines folder in Example Data within the File explorer. "
   ]
  },
  {
   "cell_type": "markdown",
   "metadata": {},
   "source": [
    "You can run this code in the notebook or in a terminal, which you can open from the launcher. "
   ]
  },
  {
   "cell_type": "markdown",
   "metadata": {},
   "source": [
    "Index a bam file using samtools "
   ]
  },
  {
   "cell_type": "code",
   "execution_count": null,
   "metadata": {},
   "outputs": [],
   "source": [
    "samtools"
   ]
  },
  {
   "cell_type": "code",
   "execution_count": null,
   "metadata": {},
   "outputs": [],
   "source": [
    "samtools index mounted-data/rna3.bam"
   ]
  },
  {
   "cell_type": "markdown",
   "metadata": {},
   "source": [
    "Inspect mounted-data, to check that your bam file has been imported successfully "
   ]
  },
  {
   "cell_type": "code",
   "execution_count": null,
   "metadata": {},
   "outputs": [],
   "source": [
    "ls mounted-data"
   ]
  },
  {
   "cell_type": "markdown",
   "metadata": {},
   "source": [
    "Find the result file from the indexing and move it to mounted-data "
   ]
  },
  {
   "cell_type": "code",
   "execution_count": null,
   "metadata": {},
   "outputs": [],
   "source": [
    "cd mounted-data "
   ]
  },
  {
   "cell_type": "code",
   "execution_count": null,
   "metadata": {},
   "outputs": [],
   "source": [
    "cp rna3.bam.bai ../ "
   ]
  },
  {
   "cell_type": "code",
   "execution_count": null,
   "metadata": {},
   "outputs": [],
   "source": [
    "cd .."
   ]
  },
  {
   "cell_type": "code",
   "execution_count": null,
   "metadata": {},
   "outputs": [],
   "source": [
    "ls"
   ]
  },
  {
   "cell_type": "markdown",
   "metadata": {},
   "source": [
    "Locate the results in the data & results section (See **Slide 17** for step-by-step) "
   ]
  },
  {
   "cell_type": "markdown",
   "metadata": {},
   "source": [
    "#### **Exercises II:**"
   ]
  },
  {
   "cell_type": "markdown",
   "metadata": {},
   "source": [
    "**Exercise 1:** Mount data to the jupyter session (a bam file from example data). Path - Example data > Pipelines > BamMetrics > ... > data > .bam"
   ]
  },
  {
   "cell_type": "markdown",
   "metadata": {},
   "source": [
    "**Exercise 2:** Start a bash terminal "
   ]
  },
  {
   "cell_type": "markdown",
   "metadata": {},
   "source": [
    "**Exercise 3:** Import samtools, (Simply by running samtools) "
   ]
  },
  {
   "cell_type": "code",
   "execution_count": null,
   "metadata": {},
   "outputs": [],
   "source": [
    "samtools "
   ]
  },
  {
   "cell_type": "markdown",
   "metadata": {},
   "source": [
    "**Exercise 2:** Perform <> of the bam file "
   ]
  },
  {
   "cell_type": "markdown",
   "metadata": {},
   "source": [
    "samtools <> wgs1.bam"
   ]
  },
  {
   "cell_type": "markdown",
   "metadata": {},
   "source": [
    "**Exercise 3 (extra):** Perform a coverage calculation using samtools  "
   ]
  },
  {
   "cell_type": "code",
   "execution_count": null,
   "metadata": {},
   "outputs": [],
   "source": [
    "samtols coverage -r [chromosome positions] wgs1.bam"
   ]
  },
  {
   "cell_type": "markdown",
   "metadata": {},
   "source": [
    "**Exercise 5:** move the file you've created to the session_data folder "
   ]
  },
  {
   "cell_type": "code",
   "execution_count": null,
   "metadata": {},
   "outputs": [],
   "source": [
    "\n",
    "#mv \n",
    "mv  wgs1.bam mounted-data\n",
    "\n",
    "#cp\n",
    "cp  wgs1.bam /home/jovyan/session_data #^^\n"
   ]
  },
  {
   "cell_type": "markdown",
   "metadata": {},
   "source": [
    "**Exercise 6:** Save your results "
   ]
  },
  {
   "cell_type": "markdown",
   "metadata": {},
   "source": [
    "**Exercise 7:** Browse Project results to find your session data "
   ]
  },
  {
   "cell_type": "markdown",
   "metadata": {},
   "source": [
    "## Workflow III: Create a conda environment & bring your own tools to the Jupyter session"
   ]
  },
  {
   "cell_type": "markdown",
   "metadata": {},
   "source": [
    "### III a) Install packages using conda "
   ]
  },
  {
   "cell_type": "markdown",
   "metadata": {},
   "source": [
    "#### Step-by-step"
   ]
  },
  {
   "cell_type": "markdown",
   "metadata": {},
   "source": [
    "Create a new conda environment with dependencies: "
   ]
  },
  {
   "cell_type": "code",
   "execution_count": null,
   "metadata": {},
   "outputs": [],
   "source": [
    "conda create --name custom_1 "
   ]
  },
  {
   "cell_type": "markdown",
   "metadata": {},
   "source": [
    "Activate the created environment: "
   ]
  },
  {
   "cell_type": "code",
   "execution_count": null,
   "metadata": {},
   "outputs": [],
   "source": [
    "conda activate custom_1 "
   ]
  },
  {
   "cell_type": "markdown",
   "metadata": {},
   "source": [
    "Install vcftools within your environment: "
   ]
  },
  {
   "cell_type": "code",
   "execution_count": null,
   "metadata": {},
   "outputs": [],
   "source": [
    "conda install vcftools "
   ]
  },
  {
   "cell_type": "markdown",
   "metadata": {},
   "source": [
    "#### **Exercises III a):**"
   ]
  },
  {
   "cell_type": "markdown",
   "metadata": {},
   "source": [
    "**Exercise 1:** Create a new conda environment "
   ]
  },
  {
   "cell_type": "code",
   "execution_count": null,
   "metadata": {},
   "outputs": [],
   "source": [
    "conda create -n my_env -y "
   ]
  },
  {
   "cell_type": "markdown",
   "metadata": {},
   "source": [
    "**Exercise 2:** Activate the new environment "
   ]
  },
  {
   "cell_type": "code",
   "execution_count": null,
   "metadata": {},
   "outputs": [],
   "source": [
    "conda activate my_env "
   ]
  },
  {
   "cell_type": "markdown",
   "metadata": {},
   "source": [
    "**Exercise 3:** Install dependecies/tools "
   ]
  },
  {
   "cell_type": "code",
   "execution_count": 9,
   "metadata": {
    "collapsed": true,
    "jupyter": {
     "outputs_hidden": true
    }
   },
   "outputs": [
    {
     "name": "stdout",
     "output_type": "stream",
     "text": [
      "\n",
      "CondaError: KeyboardInterrupt\n",
      "\n"
     ]
    }
   ],
   "source": [
    "conda install -c bioconda gatk "
   ]
  },
  {
   "cell_type": "markdown",
   "metadata": {},
   "source": [
    "**Exercise 4:** Run tools "
   ]
  },
  {
   "cell_type": "code",
   "execution_count": null,
   "metadata": {},
   "outputs": [],
   "source": [
    "gatk --java-options \"-Xmx4g\" HaplotypeCaller --help"
   ]
  },
  {
   "cell_type": "markdown",
   "metadata": {},
   "source": [
    "### III b) Bring in a docker container as a session tool"
   ]
  },
  {
   "cell_type": "markdown",
   "metadata": {},
   "source": [
    "### Step-by-step "
   ]
  },
  {
   "cell_type": "markdown",
   "metadata": {},
   "source": [
    "Browse available tools by running: "
   ]
  },
  {
   "cell_type": "code",
   "execution_count": null,
   "metadata": {},
   "outputs": [],
   "source": [
    "alias | grep \"docker\""
   ]
  },
  {
   "cell_type": "markdown",
   "metadata": {},
   "source": [
    "Pull a new container tool, using: "
   ]
  },
  {
   "cell_type": "code",
   "execution_count": null,
   "metadata": {},
   "outputs": [],
   "source": [
    "docker pull <container name>"
   ]
  },
  {
   "cell_type": "markdown",
   "metadata": {},
   "source": [
    "Create an alias for the tool:"
   ]
  },
  {
   "cell_type": "code",
   "execution_count": null,
   "metadata": {},
   "outputs": [],
   "source": [
    "alias vcftools= 'docker run --rm --init -u$(id -u):$(id -g) -v $PWD:$PWD -iquay.io/lifebitai/vcftools vcftools '"
   ]
  },
  {
   "cell_type": "markdown",
   "metadata": {},
   "source": [
    "Run the tool using its alias: "
   ]
  },
  {
   "cell_type": "code",
   "execution_count": null,
   "metadata": {},
   "outputs": [],
   "source": [
    "vcftools --help "
   ]
  },
  {
   "cell_type": "markdown",
   "metadata": {},
   "source": [
    "#### **Exercises III b):**"
   ]
  },
  {
   "cell_type": "markdown",
   "metadata": {},
   "source": [
    "**Exercise 1:** Inspect available tools"
   ]
  },
  {
   "cell_type": "code",
   "execution_count": null,
   "metadata": {},
   "outputs": [],
   "source": [
    "alias | grep \"docker\""
   ]
  },
  {
   "cell_type": "markdown",
   "metadata": {},
   "source": [
    "**Exercise 2:** Pull a new container tool"
   ]
  },
  {
   "cell_type": "code",
   "execution_count": null,
   "metadata": {},
   "outputs": [],
   "source": [
    "docker pull quay.io/lifebitai/gatk "
   ]
  },
  {
   "cell_type": "markdown",
   "metadata": {},
   "source": [
    "**Exercise 3:** Create an alias for the tool"
   ]
  },
  {
   "cell_type": "code",
   "execution_count": null,
   "metadata": {},
   "outputs": [],
   "source": [
    "alias gatk='docker run …'"
   ]
  },
  {
   "cell_type": "markdown",
   "metadata": {},
   "source": [
    "**Exercise 4:** Run the tool by its alias"
   ]
  },
  {
   "cell_type": "code",
   "execution_count": null,
   "metadata": {},
   "outputs": [],
   "source": [
    "<gatk alias name> --java-options \"-Xmx4g\" HaplotypeCaller --help"
   ]
  },
  {
   "cell_type": "markdown",
   "metadata": {},
   "source": [
    "**Exercise 5:** Extract the frequencies from a VCF file "
   ]
  },
  {
   "cell_type": "code",
   "execution_count": null,
   "metadata": {},
   "outputs": [],
   "source": [
    "vcftools --gzvcf <.vcf.gz file> --freq --out vcf_freq"
   ]
  },
  {
   "cell_type": "markdown",
   "metadata": {},
   "source": [
    "## Workflow IV: Install python packages and run scripts for data manipulation"
   ]
  },
  {
   "cell_type": "markdown",
   "metadata": {},
   "source": [
    "#### Step-by-step"
   ]
  },
  {
   "cell_type": "markdown",
   "metadata": {},
   "source": [
    "Install BioPython using pip in the terminal:"
   ]
  },
  {
   "cell_type": "code",
   "execution_count": 4,
   "metadata": {},
   "outputs": [
    {
     "name": "stdout",
     "output_type": "stream",
     "text": [
      "Collecting biopython\n",
      "  Downloading biopython-1.81-cp37-cp37m-manylinux_2_17_x86_64.manylinux2014_x86_64.whl (3.0 MB)\n",
      "\u001b[K     |████████████████████████████████| 3.0 MB 19.5 MB/s eta 0:00:01\n",
      "\u001b[?25hRequirement already satisfied: numpy in /opt/conda/lib/python3.7/site-packages (from biopython) (1.18.1)\n",
      "\u001b[31mERROR: Operation cancelled by user\u001b[0m\n"
     ]
    }
   ],
   "source": [
    "pip install biopython"
   ]
  },
  {
   "cell_type": "code",
   "execution_count": null,
   "metadata": {},
   "outputs": [],
   "source": []
  },
  {
   "cell_type": "markdown",
   "metadata": {},
   "source": [
    "Navigate to the **python_exercise.ipynb** notebook to import the module  "
   ]
  },
  {
   "cell_type": "markdown",
   "metadata": {},
   "source": [
    "To test out importing & installing tools & data from Github, impoort the Lifebit GWAS pipeline"
   ]
  },
  {
   "cell_type": "code",
   "execution_count": 7,
   "metadata": {},
   "outputs": [
    {
     "name": "stdout",
     "output_type": "stream",
     "text": [
      "fatal: destination path 'gwas' already exists and is not an empty directory.\n"
     ]
    },
    {
     "ename": "",
     "evalue": "128",
     "output_type": "error",
     "traceback": []
    }
   ],
   "source": [
    "git clone https://github.com/lifebit-ai/gwas"
   ]
  },
  {
   "cell_type": "markdown",
   "metadata": {},
   "source": [
    "To continue the exercise, open the **python_exercise.ipynb** notebook"
   ]
  },
  {
   "cell_type": "markdown",
   "metadata": {},
   "source": [
    "## Workflow V: Bring in public code from github "
   ]
  },
  {
   "cell_type": "markdown",
   "metadata": {},
   "source": [
    "Once you have completed all of the expercises in the **python_exercise.ipynb** notebook, return here to complete the rest of the exercises "
   ]
  },
  {
   "cell_type": "markdown",
   "metadata": {},
   "source": [
    "#### Step-by-step"
   ]
  },
  {
   "cell_type": "markdown",
   "metadata": {},
   "source": [
    "Clone a public repository: "
   ]
  },
  {
   "cell_type": "code",
   "execution_count": null,
   "metadata": {},
   "outputs": [],
   "source": [
    "git clone https://github.com/lifebit-ai/rnatoy"
   ]
  },
  {
   "cell_type": "markdown",
   "metadata": {},
   "source": [
    "Install nextflow using codna, and run a public pipeline "
   ]
  },
  {
   "cell_type": "code",
   "execution_count": null,
   "metadata": {},
   "outputs": [],
   "source": [
    "conda install nextflow=20.01 "
   ]
  },
  {
   "cell_type": "code",
   "execution_count": null,
   "metadata": {},
   "outputs": [],
   "source": [
    "cd rnatoy "
   ]
  },
  {
   "cell_type": "code",
   "execution_count": null,
   "metadata": {},
   "outputs": [],
   "source": [
    "nextflow run . -profile test "
   ]
  },
  {
   "cell_type": "markdown",
   "metadata": {},
   "source": [
    "To bring code from a private github repository, first follow the **Step-by-Step** instructions in **slide 35**, to obtain your personal access token. Then clone the private reposistory with the access token as follows:  "
   ]
  },
  {
   "cell_type": "code",
   "execution_count": null,
   "metadata": {},
   "outputs": [],
   "source": [
    "git clone hrrps://[insert access code here]"
   ]
  },
  {
   "cell_type": "markdown",
   "metadata": {},
   "source": [
    "#### **Exercises V**"
   ]
  },
  {
   "cell_type": "markdown",
   "metadata": {},
   "source": [
    "**Exercise 1:** In a Jupyter session, import a public repository"
   ]
  },
  {
   "cell_type": "code",
   "execution_count": null,
   "metadata": {},
   "outputs": [],
   "source": [
    "git clone https://github.com/lifebit-ai/rnatoy/"
   ]
  },
  {
   "cell_type": "markdown",
   "metadata": {},
   "source": [
    "**Exercise 2:** Install java and nextflow "
   ]
  },
  {
   "cell_type": "code",
   "execution_count": null,
   "metadata": {},
   "outputs": [],
   "source": [
    "conda install nextflow=21.04 -y"
   ]
  },
  {
   "cell_type": "markdown",
   "metadata": {},
   "source": [
    "**Exercise 3:** Mount data for the exeecise into the session. You can find the data in: Example data > Pipelines > rnatoy-data"
   ]
  },
  {
   "cell_type": "markdown",
   "metadata": {},
   "source": [
    "**Exercise 4:** Run the nextflow pipeline locally"
   ]
  },
  {
   "cell_type": "code",
   "execution_count": null,
   "metadata": {},
   "outputs": [],
   "source": [
    "nextflow run rnatoy -profile test \\\n",
    " --reads mounted-data/rnatoy-data \\\n",
    " --annot mounted-data/rnatoy-data/ggal_1_48850000_49020000.bed.gff \\\n",
    " --genome mounted-data/rnatoy-data/ggal_1_48850000_49020000.Ggal71.500bpflank.fa"
   ]
  },
  {
   "cell_type": "markdown",
   "metadata": {},
   "source": [
    "## Worfklow VI: Save a snapshot of your session, following the instructions on **Slide 38-39**."
   ]
  },
  {
   "cell_type": "markdown",
   "metadata": {},
   "source": [
    "## Worfklow VII: Querying a database programmatically from a notebook"
   ]
  },
  {
   "cell_type": "markdown",
   "metadata": {},
   "source": [
    "In the following workflow, you will query data programmatically from a notebook in your interactive session. "
   ]
  },
  {
   "cell_type": "markdown",
   "metadata": {},
   "source": [
    "#### Step-by-step"
   ]
  },
  {
   "cell_type": "markdown",
   "metadata": {},
   "source": [
    "In a bash terminal, create a new R conda envrionment and install the required packages: "
   ]
  },
  {
   "cell_type": "code",
   "execution_count": 11,
   "metadata": {
    "collapsed": true,
    "jupyter": {
     "outputs_hidden": true
    }
   },
   "outputs": [
    {
     "name": "stdout",
     "output_type": "stream",
     "text": [
      "Collecting package metadata (current_repodata.json): done\n",
      "Solving environment: done\n",
      "\n",
      "\n",
      "==> WARNING: A newer version of conda exists. <==\n",
      "  current version: 4.8.2\n",
      "  latest version: 23.5.0\n",
      "\n",
      "Please update conda by running\n",
      "\n",
      "    $ conda update -n base conda\n",
      "\n",
      "\n",
      "\n",
      "## Package Plan ##\n",
      "\n",
      "  environment location: /tmp/cloudos_user_envs/omop-source\n",
      "\n",
      "  added / updated specs:\n",
      "    - r-data.table\n",
      "    - r-dbi\n",
      "    - r-glue\n",
      "    - r-irkernel\n",
      "    - r-rpostgres\n",
      "    - r-tidyverse\n",
      "\n",
      "\n",
      "The following packages will be downloaded:\n",
      "\n",
      "    package                    |            build\n",
      "    ---------------------------|-----------------\n",
      "    _r-mutex-1.0.1             |      anacondar_1           3 KB  conda-forge\n",
      "    binutils_impl_linux-64-2.38|       h2a08ee3_1         5.2 MB  defaults\n",
      "    binutils_linux-64-2.38.0   |       hc2dff05_0          24 KB  defaults\n",
      "    blas-1.1                   |         openblas           1 KB  conda-forge\n",
      "    bwidget-1.9.14             |       ha770c72_1         120 KB  conda-forge\n",
      "    c-ares-1.19.1              |       hd590300_0         111 KB  conda-forge\n",
      "    cairo-1.16.0               |       hb05425b_4         1.4 MB  defaults\n",
      "    curl-7.88.1                |       hdc1c0ab_1          86 KB  conda-forge\n",
      "    expat-2.5.0                |       hcb278e6_1         134 KB  conda-forge\n",
      "    fontconfig-2.14.2          |       h14ed4e7_0         266 KB  conda-forge\n",
      "    freetype-2.12.1            |       hca18f0e_1         611 KB  conda-forge\n",
      "    fribidi-1.0.10             |       h36c2ea0_0         112 KB  conda-forge\n",
      "    gcc_impl_linux-64-11.2.0   |       h1234567_1        22.2 MB  defaults\n",
      "    gcc_linux-64-11.2.0        |       h5c386dc_0          25 KB  defaults\n",
      "    gfortran_impl_linux-64-11.2.0|       h1234567_1        10.2 MB  defaults\n",
      "    gfortran_linux-64-11.2.0   |       hc2dff05_0          24 KB  defaults\n",
      "    glib-2.69.1                |       he621ea3_2         1.9 MB  defaults\n",
      "    gmp-6.2.1                  |       h58526e2_0         806 KB  conda-forge\n",
      "    graphite2-1.3.14           |       h295c915_1          97 KB  defaults\n",
      "    gxx_impl_linux-64-11.2.0   |       h1234567_1        10.6 MB  defaults\n",
      "    gxx_linux-64-11.2.0        |       hc2dff05_0          24 KB  defaults\n",
      "    harfbuzz-4.3.0             |       hf52aaf7_1         1.3 MB  defaults\n",
      "    icu-58.2                   |    hf484d3e_1000        22.6 MB  conda-forge\n",
      "    jpeg-9e                    |       h0b41bf4_3         235 KB  conda-forge\n",
      "    kernel-headers_linux-64-2.6.32|      he073ed8_15         707 KB  conda-forge\n",
      "    keyutils-1.6.1             |       h166bdaf_0         115 KB  conda-forge\n",
      "    krb5-1.20.1                |       h81ceb04_0         1.3 MB  conda-forge\n",
      "    ld_impl_linux-64-2.38      |       h1181459_1         654 KB  defaults\n",
      "    lerc-4.0.0                 |       h27087fc_0         275 KB  conda-forge\n",
      "    libblas-3.9.0              |16_linux64_openblas          13 KB  conda-forge\n",
      "    libcurl-7.88.1             |       hdc1c0ab_1         350 KB  conda-forge\n",
      "    libdeflate-1.17            |       h0b41bf4_0          63 KB  conda-forge\n",
      "    libedit-3.1.20221030       |       h5eee18b_0         181 KB  defaults\n",
      "    libev-4.33                 |       h516909a_1         104 KB  conda-forge\n",
      "    libgcc-devel_linux-64-11.2.0|       h1234567_1         2.5 MB  defaults\n",
      "    libgfortran-ng-11.2.0      |       h00389a5_1          20 KB  defaults\n",
      "    libgfortran5-11.2.0        |       h1234567_1         2.0 MB  defaults\n",
      "    libiconv-1.17              |       h166bdaf_0         1.4 MB  conda-forge\n",
      "    liblapack-3.9.0            |16_linux64_openblas          13 KB  conda-forge\n",
      "    libnghttp2-1.52.0          |       h61bc06f_0         608 KB  conda-forge\n",
      "    libopenblas-0.3.21         |pthreads_h78a6416_3        10.1 MB  conda-forge\n",
      "    libpng-1.6.39              |       h753d276_0         276 KB  conda-forge\n",
      "    libpq-15.3                 |       hbcd7760_1         2.4 MB  conda-forge\n",
      "    libssh2-1.11.0             |       h0841786_0         265 KB  conda-forge\n",
      "    libstdcxx-devel_linux-64-11.2.0|       h1234567_1        14.6 MB  defaults\n",
      "    libtiff-4.5.0              |       h6adf6a1_2         397 KB  conda-forge\n",
      "    libwebp-base-1.3.0         |       h0b41bf4_0         348 KB  conda-forge\n",
      "    libxcb-1.15                |       h0b41bf4_0         375 KB  conda-forge\n",
      "    lz4-c-1.9.4                |       hcb278e6_0         140 KB  conda-forge\n",
      "    make-4.3                   |       hd18ef5c_1         507 KB  conda-forge\n",
      "    openblas-0.3.21            |pthreads_h320a7e8_3        10.8 MB  conda-forge\n",
      "    pandoc-3.1.3               |       h32600fe_0        28.0 MB  conda-forge\n",
      "    pango-1.50.7               |       h05da053_0         427 KB  defaults\n",
      "    pcre-8.45                  |       h9c3ff4c_0         253 KB  conda-forge\n",
      "    pcre2-10.37                |       hc3806b6_1         1.1 MB  conda-forge\n",
      "    pixman-0.40.0              |       h36c2ea0_0         627 KB  conda-forge\n",
      "    pthread-stubs-0.4          |    h36c2ea0_1001           5 KB  conda-forge\n",
      "    r-askpass-1.1              |    r42h57805ef_4          29 KB  conda-forge\n",
      "    r-assertthat-0.2.1         |    r42hc72bb7e_4          70 KB  conda-forge\n",
      "    r-backports-1.4.1          |    r42h57805ef_2         109 KB  conda-forge\n",
      "    r-base-4.2.0               |       h1ae530e_0        25.7 MB  defaults\n",
      "    r-base64enc-0.1_3          | r42h57805ef_1006          44 KB  conda-forge\n",
      "    r-bit-4.0.5                |    r42h06615bd_0         1.1 MB  conda-forge\n",
      "    r-bit64-4.0.5              |    r42h06615bd_1         508 KB  conda-forge\n",
      "    r-blob-1.2.4               |    r42hc72bb7e_0          64 KB  conda-forge\n",
      "    r-broom-1.0.5              |    r42hc72bb7e_0         1.7 MB  conda-forge\n",
      "    r-bslib-0.5.0              |    r42hc72bb7e_0         4.1 MB  conda-forge\n",
      "    r-cachem-1.0.8             |    r42h57805ef_0          73 KB  conda-forge\n",
      "    r-callr-3.7.3              |    r42hc72bb7e_1         406 KB  conda-forge\n",
      "    r-cellranger-1.1.0         | r42hc72bb7e_1005         110 KB  conda-forge\n",
      "    r-cli-3.6.1                |    r42ha503ecb_1         1.2 MB  conda-forge\n",
      "    r-clipr-0.8.0              |    r42hc72bb7e_2          67 KB  conda-forge\n",
      "    r-colorspace-2.1_0         |    r42h133d619_0         2.4 MB  conda-forge\n",
      "    r-conflicted-1.2.0         |    r42h785f33e_0          62 KB  conda-forge\n",
      "    r-cpp11-0.4.3              |    r42hc72bb7e_1         230 KB  conda-forge\n",
      "    r-crayon-1.5.2             |    r42hc72bb7e_2         162 KB  conda-forge\n",
      "    r-curl-4.3.3               |    r42h06615bd_1         692 KB  conda-forge\n",
      "    r-data.table-1.14.8        |    r42h133d619_0         1.8 MB  conda-forge\n",
      "    r-dbi-1.1.3                |    r42hc72bb7e_1         771 KB  conda-forge\n",
      "    r-dbplyr-2.3.2             |    r42hc72bb7e_0         1.0 MB  conda-forge\n",
      "    r-digest-0.6.31            |    r42ha503ecb_1         188 KB  conda-forge\n",
      "    r-dplyr-1.1.2              |    r42ha503ecb_0         1.3 MB  conda-forge\n",
      "    r-dtplyr-1.3.1             |    r42hc72bb7e_0         349 KB  conda-forge\n",
      "    r-ellipsis-0.3.2           |    r42h57805ef_2          42 KB  conda-forge\n",
      "    r-evaluate-0.21            |    r42hc72bb7e_1          88 KB  conda-forge\n",
      "    r-fansi-1.0.4              |    r42h57805ef_1         308 KB  conda-forge\n",
      "    r-farver-2.1.1             |    r42h7525677_1         1.4 MB  conda-forge\n",
      "    r-fastmap-1.1.1            |    r42ha503ecb_1          71 KB  conda-forge\n",
      "    r-forcats-1.0.0            |    r42hc72bb7e_0         414 KB  conda-forge\n",
      "    r-fs-1.6.2                 |    r42ha503ecb_1         483 KB  conda-forge\n",
      "    r-gargle-1.5.0             |    r42h785f33e_0         692 KB  conda-forge\n",
      "    r-generics-0.1.3           |    r42hc72bb7e_2          89 KB  conda-forge\n",
      "    r-ggplot2-3.4.2            |    r42hc72bb7e_0         3.9 MB  conda-forge\n",
      "    r-glue-1.6.2               |    r42h57805ef_2         148 KB  conda-forge\n",
      "    r-googledrive-2.1.1        |    r42hc72bb7e_0         1.1 MB  conda-forge\n",
      "    r-googlesheets4-1.1.1      |    r42h785f33e_0         504 KB  conda-forge\n",
      "    r-gtable-0.3.3             |    r42hc72bb7e_1         217 KB  conda-forge\n",
      "    r-haven-2.5.2              |    r42h38f115c_0         370 KB  conda-forge\n",
      "    r-highr-0.10               |    r42hc72bb7e_1          56 KB  conda-forge\n",
      "    r-hms-1.1.3                |    r42hc72bb7e_1         104 KB  conda-forge\n",
      "    r-htmltools-0.5.5          |    r42ha503ecb_1         347 KB  conda-forge\n",
      "    r-httr-1.4.6               |    r42hc72bb7e_0         476 KB  conda-forge\n",
      "    r-ids-1.0.1                |    r42hc72bb7e_2         127 KB  conda-forge\n",
      "    r-irdisplay-1.1            |    r42hd8ed1ab_1          38 KB  conda-forge\n",
      "    r-irkernel-1.3.2           |    r42h785f33e_0         226 KB  conda-forge\n",
      "    r-isoband-0.2.7            |    r42h38f115c_1         1.5 MB  conda-forge\n",
      "    r-jquerylib-0.1.4          |    r42hc72bb7e_2         299 KB  conda-forge\n",
      "    r-jsonlite-1.8.5           |    r42h57805ef_1         620 KB  conda-forge\n",
      "    r-knitr-1.43               |    r42hc72bb7e_1         1.2 MB  conda-forge\n",
      "    r-labeling-0.4.2           |    r42hc72bb7e_3          67 KB  conda-forge\n",
      "    r-lattice-0.21_8           |    r42h57805ef_1         1.3 MB  conda-forge\n",
      "    r-lifecycle-1.0.3          |    r42hc72bb7e_2         119 KB  conda-forge\n",
      "    r-lubridate-1.9.2          |    r42h133d619_1         947 KB  conda-forge\n",
      "    r-magrittr-2.0.3           |    r42h57805ef_2         203 KB  conda-forge\n",
      "    r-mass-7.3_60              |    r42h57805ef_0         1.1 MB  conda-forge\n",
      "    r-matrix-1.5_4.1           |    r42h316c678_0         3.8 MB  conda-forge\n",
      "    r-memoise-2.0.1            |    r42hc72bb7e_1          58 KB  conda-forge\n",
      "    r-mgcv-1.8_42              |    r42he1ae0d6_0         3.1 MB  conda-forge\n",
      "    r-mime-0.12                |    r42h57805ef_2          52 KB  conda-forge\n",
      "    r-modelr-0.1.11            |    r42hc72bb7e_0         215 KB  conda-forge\n",
      "    r-munsell-0.5.0            | r42hc72bb7e_1005         248 KB  conda-forge\n",
      "    r-nlme-3.1_157             |    r42h640688f_0         2.2 MB  defaults\n",
      "    r-openssl-2.0.6            |    r42hb353fa6_1         622 KB  conda-forge\n",
      "    r-pbdzmq-0.3_9             |    r42hfae1697_0         513 KB  conda-forge\n",
      "    r-pillar-1.9.0             |    r42hc72bb7e_1         603 KB  conda-forge\n",
      "    r-pkgconfig-2.0.3          |    r42hc72bb7e_3          26 KB  conda-forge\n",
      "    r-plogr-0.2.0              | r42hc72bb7e_1004          21 KB  conda-forge\n",
      "    r-prettyunits-1.1.1        |    r42hc72bb7e_2          42 KB  conda-forge\n",
      "    r-processx-3.8.1           |    r42h57805ef_1         315 KB  conda-forge\n",
      "    r-progress-1.2.2           |    r42hc72bb7e_3          92 KB  conda-forge\n",
      "    r-ps-1.7.5                 |    r42h57805ef_1         306 KB  conda-forge\n",
      "    r-purrr-1.0.1              |    r42h57805ef_1         473 KB  conda-forge\n",
      "    r-r6-2.5.1                 |    r42hc72bb7e_2          88 KB  conda-forge\n",
      "    r-ragg-1.2.5               |    r42hd65d3ba_0         428 KB  conda-forge\n",
      "    r-rappdirs-0.3.3           |    r42h06615bd_1          52 KB  conda-forge\n",
      "    r-rcolorbrewer-1.1_3       |    r42h785f33e_2          67 KB  conda-forge\n",
      "    r-rcpp-1.0.10              |    r42ha503ecb_1         1.9 MB  conda-forge\n",
      "    r-readr-2.1.4              |    r42h38f115c_0         793 KB  conda-forge\n",
      "    r-readxl-1.4.2             |    r42h81ef4d7_0         739 KB  conda-forge\n",
      "    r-rematch-1.0.1            | r42hc72bb7e_1005          20 KB  conda-forge\n",
      "    r-rematch2-2.1.2           |    r42hc72bb7e_3          53 KB  conda-forge\n",
      "    r-repr-1.1.6               |    r42h785f33e_1         138 KB  conda-forge\n",
      "    r-reprex-2.0.2             |    r42hc72bb7e_1         499 KB  conda-forge\n",
      "    r-rlang-1.1.1              |    r42ha503ecb_1         1.5 MB  conda-forge\n",
      "    r-rmarkdown-2.14           |    r42h6115d3f_0         2.7 MB  defaults\n",
      "    r-rpostgres-1.4.5          |    r42hca07cf8_0         448 KB  conda-forge\n",
      "    r-rstudioapi-0.14          |    r42hc72bb7e_2         289 KB  conda-forge\n",
      "    r-rvest-1.0.3              |    r42hc72bb7e_1         216 KB  conda-forge\n",
      "    r-sass-0.4.6               |    r42ha503ecb_0         2.2 MB  conda-forge\n",
      "    r-scales-1.2.1             |    r42hc72bb7e_1         612 KB  conda-forge\n",
      "    r-selectr-0.4_2            |    r42hc72bb7e_2         463 KB  conda-forge\n",
      "    r-stringi-1.7.6            |    r42h884c59f_0         826 KB  defaults\n",
      "    r-stringr-1.5.0            |    r42h785f33e_1         289 KB  conda-forge\n",
      "    r-sys-3.4.2                |    r42h57805ef_1          48 KB  conda-forge\n",
      "    r-systemfonts-1.0.4        |    r42h0ff29ef_1         280 KB  conda-forge\n",
      "    r-textshaping-0.3.6        |    r42h884c59f_0         106 KB  defaults\n",
      "    r-tibble-3.2.1             |    r42h57805ef_2         597 KB  conda-forge\n",
      "    r-tidyr-1.3.0              |    r42h38f115c_0         1.1 MB  conda-forge\n",
      "    r-tidyselect-1.2.0         |    r42hc72bb7e_0         217 KB  conda-forge\n",
      "    r-tidyverse-2.0.0          |    r42h785f33e_0         415 KB  conda-forge\n",
      "    r-timechange-0.2.0         |    r42h38f115c_0         195 KB  conda-forge\n",
      "    r-tinytex-0.45             |    r42hc72bb7e_1         139 KB  conda-forge\n",
      "    r-tzdb-0.4.0               |    r42ha503ecb_0         521 KB  conda-forge\n",
      "    r-utf8-1.2.3               |    r42h57805ef_1         140 KB  conda-forge\n",
      "    r-uuid-1.1_0               |    r42h06615bd_1          54 KB  conda-forge\n",
      "    r-vctrs-0.6.2              |    r42ha503ecb_1         1.2 MB  conda-forge\n",
      "    r-viridislite-0.4.2        |    r42hc72bb7e_1         1.2 MB  conda-forge\n",
      "    r-vroom-1.6.3              |    r42ha503ecb_0         869 KB  conda-forge\n",
      "    r-withr-2.5.0              |    r42hc72bb7e_2         234 KB  conda-forge\n",
      "    r-xfun-0.39                |    r42ha503ecb_1         415 KB  conda-forge\n",
      "    r-xml2-1.3.3               |    r42h884c59f_0         227 KB  defaults\n",
      "    r-yaml-2.3.7               |    r42h57805ef_1         113 KB  conda-forge\n",
      "    sysroot_linux-64-2.12      |      he073ed8_15        31.4 MB  conda-forge\n",
      "    tktable-2.10               |       hb7b940f_3          89 KB  conda-forge\n",
      "    xorg-libxau-1.0.11         |       hd590300_0          14 KB  conda-forge\n",
      "    xorg-libxdmcp-1.1.3        |       h7f98852_0          19 KB  conda-forge\n",
      "    zlib-1.2.13                |       hd590300_5          91 KB  conda-forge\n",
      "    zstd-1.5.5                 |       hc292b87_0         647 KB  defaults\n",
      "    ------------------------------------------------------------\n",
      "                                           Total:       288.5 MB\n",
      "\n",
      "The following NEW packages will be INSTALLED:\n",
      "\n",
      "  _libgcc_mutex      conda-forge/linux-64::_libgcc_mutex-0.1-conda_forge\n",
      "  _openmp_mutex      conda-forge/linux-64::_openmp_mutex-4.5-2_gnu\n",
      "  _r-mutex           conda-forge/noarch::_r-mutex-1.0.1-anacondar_1\n",
      "  binutils_impl_lin~ pkgs/main/linux-64::binutils_impl_linux-64-2.38-h2a08ee3_1\n",
      "  binutils_linux-64  pkgs/main/linux-64::binutils_linux-64-2.38.0-hc2dff05_0\n",
      "  blas               conda-forge/linux-64::blas-1.1-openblas\n",
      "  bwidget            conda-forge/linux-64::bwidget-1.9.14-ha770c72_1\n",
      "  bzip2              conda-forge/linux-64::bzip2-1.0.8-h7f98852_4\n",
      "  c-ares             conda-forge/linux-64::c-ares-1.19.1-hd590300_0\n",
      "  ca-certificates    pkgs/main/linux-64::ca-certificates-2023.05.30-h06a4308_0\n",
      "  cairo              pkgs/main/linux-64::cairo-1.16.0-hb05425b_4\n",
      "  curl               conda-forge/linux-64::curl-7.88.1-hdc1c0ab_1\n",
      "  expat              conda-forge/linux-64::expat-2.5.0-hcb278e6_1\n",
      "  fontconfig         conda-forge/linux-64::fontconfig-2.14.2-h14ed4e7_0\n",
      "  freetype           conda-forge/linux-64::freetype-2.12.1-hca18f0e_1\n",
      "  fribidi            conda-forge/linux-64::fribidi-1.0.10-h36c2ea0_0\n",
      "  gcc_impl_linux-64  pkgs/main/linux-64::gcc_impl_linux-64-11.2.0-h1234567_1\n",
      "  gcc_linux-64       pkgs/main/linux-64::gcc_linux-64-11.2.0-h5c386dc_0\n",
      "  gfortran_impl_lin~ pkgs/main/linux-64::gfortran_impl_linux-64-11.2.0-h1234567_1\n",
      "  gfortran_linux-64  pkgs/main/linux-64::gfortran_linux-64-11.2.0-hc2dff05_0\n",
      "  glib               pkgs/main/linux-64::glib-2.69.1-he621ea3_2\n",
      "  gmp                conda-forge/linux-64::gmp-6.2.1-h58526e2_0\n",
      "  graphite2          pkgs/main/linux-64::graphite2-1.3.14-h295c915_1\n",
      "  gxx_impl_linux-64  pkgs/main/linux-64::gxx_impl_linux-64-11.2.0-h1234567_1\n",
      "  gxx_linux-64       pkgs/main/linux-64::gxx_linux-64-11.2.0-hc2dff05_0\n",
      "  harfbuzz           pkgs/main/linux-64::harfbuzz-4.3.0-hf52aaf7_1\n",
      "  icu                conda-forge/linux-64::icu-58.2-hf484d3e_1000\n",
      "  jpeg               conda-forge/linux-64::jpeg-9e-h0b41bf4_3\n",
      "  kernel-headers_li~ conda-forge/noarch::kernel-headers_linux-64-2.6.32-he073ed8_15\n",
      "  keyutils           conda-forge/linux-64::keyutils-1.6.1-h166bdaf_0\n",
      "  krb5               conda-forge/linux-64::krb5-1.20.1-h81ceb04_0\n",
      "  ld_impl_linux-64   pkgs/main/linux-64::ld_impl_linux-64-2.38-h1181459_1\n",
      "  lerc               conda-forge/linux-64::lerc-4.0.0-h27087fc_0\n",
      "  libblas            conda-forge/linux-64::libblas-3.9.0-16_linux64_openblas\n",
      "  libcurl            conda-forge/linux-64::libcurl-7.88.1-hdc1c0ab_1\n",
      "  libdeflate         conda-forge/linux-64::libdeflate-1.17-h0b41bf4_0\n",
      "  libedit            pkgs/main/linux-64::libedit-3.1.20221030-h5eee18b_0\n",
      "  libev              conda-forge/linux-64::libev-4.33-h516909a_1\n",
      "  libexpat           conda-forge/linux-64::libexpat-2.5.0-hcb278e6_1\n",
      "  libffi             pkgs/main/linux-64::libffi-3.4.4-h6a678d5_0\n",
      "  libgcc-devel_linu~ pkgs/main/linux-64::libgcc-devel_linux-64-11.2.0-h1234567_1\n",
      "  libgcc-ng          conda-forge/linux-64::libgcc-ng-13.1.0-he5830b7_0\n",
      "  libgfortran-ng     pkgs/main/linux-64::libgfortran-ng-11.2.0-h00389a5_1\n",
      "  libgfortran5       pkgs/main/linux-64::libgfortran5-11.2.0-h1234567_1\n",
      "  libgomp            conda-forge/linux-64::libgomp-13.1.0-he5830b7_0\n",
      "  libiconv           conda-forge/linux-64::libiconv-1.17-h166bdaf_0\n",
      "  liblapack          conda-forge/linux-64::liblapack-3.9.0-16_linux64_openblas\n",
      "  libnghttp2         conda-forge/linux-64::libnghttp2-1.52.0-h61bc06f_0\n",
      "  libopenblas        conda-forge/linux-64::libopenblas-0.3.21-pthreads_h78a6416_3\n",
      "  libpng             conda-forge/linux-64::libpng-1.6.39-h753d276_0\n",
      "  libpq              conda-forge/linux-64::libpq-15.3-hbcd7760_1\n",
      "  libsodium          conda-forge/linux-64::libsodium-1.0.18-h36c2ea0_1\n",
      "  libssh2            conda-forge/linux-64::libssh2-1.11.0-h0841786_0\n",
      "  libstdcxx-devel_l~ pkgs/main/linux-64::libstdcxx-devel_linux-64-11.2.0-h1234567_1\n",
      "  libstdcxx-ng       conda-forge/linux-64::libstdcxx-ng-13.1.0-hfd8a6a1_0\n",
      "  libtiff            conda-forge/linux-64::libtiff-4.5.0-h6adf6a1_2\n",
      "  libuuid            conda-forge/linux-64::libuuid-2.38.1-h0b41bf4_0\n",
      "  libwebp-base       conda-forge/linux-64::libwebp-base-1.3.0-h0b41bf4_0\n",
      "  libxcb             conda-forge/linux-64::libxcb-1.15-h0b41bf4_0\n",
      "  libzlib            conda-forge/linux-64::libzlib-1.2.13-hd590300_5\n",
      "  lz4-c              conda-forge/linux-64::lz4-c-1.9.4-hcb278e6_0\n",
      "  make               conda-forge/linux-64::make-4.3-hd18ef5c_1\n",
      "  ncurses            conda-forge/linux-64::ncurses-6.4-hcb278e6_0\n",
      "  openblas           conda-forge/linux-64::openblas-0.3.21-pthreads_h320a7e8_3\n",
      "  openssl            conda-forge/linux-64::openssl-3.1.1-hd590300_1\n",
      "  pandoc             conda-forge/linux-64::pandoc-3.1.3-h32600fe_0\n",
      "  pango              pkgs/main/linux-64::pango-1.50.7-h05da053_0\n",
      "  pcre               conda-forge/linux-64::pcre-8.45-h9c3ff4c_0\n",
      "  pcre2              conda-forge/linux-64::pcre2-10.37-hc3806b6_1\n",
      "  pixman             conda-forge/linux-64::pixman-0.40.0-h36c2ea0_0\n",
      "  pthread-stubs      conda-forge/linux-64::pthread-stubs-0.4-h36c2ea0_1001\n",
      "  r-askpass          conda-forge/linux-64::r-askpass-1.1-r42h57805ef_4\n",
      "  r-assertthat       conda-forge/noarch::r-assertthat-0.2.1-r42hc72bb7e_4\n",
      "  r-backports        conda-forge/linux-64::r-backports-1.4.1-r42h57805ef_2\n",
      "  r-base             pkgs/r/linux-64::r-base-4.2.0-h1ae530e_0\n",
      "  r-base64enc        conda-forge/linux-64::r-base64enc-0.1_3-r42h57805ef_1006\n",
      "  r-bit              conda-forge/linux-64::r-bit-4.0.5-r42h06615bd_0\n",
      "  r-bit64            conda-forge/linux-64::r-bit64-4.0.5-r42h06615bd_1\n",
      "  r-blob             conda-forge/noarch::r-blob-1.2.4-r42hc72bb7e_0\n",
      "  r-broom            conda-forge/noarch::r-broom-1.0.5-r42hc72bb7e_0\n",
      "  r-bslib            conda-forge/noarch::r-bslib-0.5.0-r42hc72bb7e_0\n",
      "  r-cachem           conda-forge/linux-64::r-cachem-1.0.8-r42h57805ef_0\n",
      "  r-callr            conda-forge/noarch::r-callr-3.7.3-r42hc72bb7e_1\n",
      "  r-cellranger       conda-forge/noarch::r-cellranger-1.1.0-r42hc72bb7e_1005\n",
      "  r-cli              conda-forge/linux-64::r-cli-3.6.1-r42ha503ecb_1\n",
      "  r-clipr            conda-forge/noarch::r-clipr-0.8.0-r42hc72bb7e_2\n",
      "  r-colorspace       conda-forge/linux-64::r-colorspace-2.1_0-r42h133d619_0\n",
      "  r-conflicted       conda-forge/noarch::r-conflicted-1.2.0-r42h785f33e_0\n",
      "  r-cpp11            conda-forge/noarch::r-cpp11-0.4.3-r42hc72bb7e_1\n",
      "  r-crayon           conda-forge/noarch::r-crayon-1.5.2-r42hc72bb7e_2\n",
      "  r-curl             conda-forge/linux-64::r-curl-4.3.3-r42h06615bd_1\n",
      "  r-data.table       conda-forge/linux-64::r-data.table-1.14.8-r42h133d619_0\n",
      "  r-dbi              conda-forge/noarch::r-dbi-1.1.3-r42hc72bb7e_1\n",
      "  r-dbplyr           conda-forge/noarch::r-dbplyr-2.3.2-r42hc72bb7e_0\n",
      "  r-digest           conda-forge/linux-64::r-digest-0.6.31-r42ha503ecb_1\n",
      "  r-dplyr            conda-forge/linux-64::r-dplyr-1.1.2-r42ha503ecb_0\n",
      "  r-dtplyr           conda-forge/noarch::r-dtplyr-1.3.1-r42hc72bb7e_0\n",
      "  r-ellipsis         conda-forge/linux-64::r-ellipsis-0.3.2-r42h57805ef_2\n",
      "  r-evaluate         conda-forge/noarch::r-evaluate-0.21-r42hc72bb7e_1\n",
      "  r-fansi            conda-forge/linux-64::r-fansi-1.0.4-r42h57805ef_1\n",
      "  r-farver           conda-forge/linux-64::r-farver-2.1.1-r42h7525677_1\n",
      "  r-fastmap          conda-forge/linux-64::r-fastmap-1.1.1-r42ha503ecb_1\n",
      "  r-forcats          conda-forge/noarch::r-forcats-1.0.0-r42hc72bb7e_0\n",
      "  r-fs               conda-forge/linux-64::r-fs-1.6.2-r42ha503ecb_1\n",
      "  r-gargle           conda-forge/noarch::r-gargle-1.5.0-r42h785f33e_0\n",
      "  r-generics         conda-forge/noarch::r-generics-0.1.3-r42hc72bb7e_2\n",
      "  r-ggplot2          conda-forge/noarch::r-ggplot2-3.4.2-r42hc72bb7e_0\n",
      "  r-glue             conda-forge/linux-64::r-glue-1.6.2-r42h57805ef_2\n",
      "  r-googledrive      conda-forge/noarch::r-googledrive-2.1.1-r42hc72bb7e_0\n",
      "  r-googlesheets4    conda-forge/noarch::r-googlesheets4-1.1.1-r42h785f33e_0\n",
      "  r-gtable           conda-forge/noarch::r-gtable-0.3.3-r42hc72bb7e_1\n",
      "  r-haven            conda-forge/linux-64::r-haven-2.5.2-r42h38f115c_0\n",
      "  r-highr            conda-forge/noarch::r-highr-0.10-r42hc72bb7e_1\n",
      "  r-hms              conda-forge/noarch::r-hms-1.1.3-r42hc72bb7e_1\n",
      "  r-htmltools        conda-forge/linux-64::r-htmltools-0.5.5-r42ha503ecb_1\n",
      "  r-httr             conda-forge/noarch::r-httr-1.4.6-r42hc72bb7e_0\n",
      "  r-ids              conda-forge/noarch::r-ids-1.0.1-r42hc72bb7e_2\n",
      "  r-irdisplay        conda-forge/noarch::r-irdisplay-1.1-r42hd8ed1ab_1\n",
      "  r-irkernel         conda-forge/noarch::r-irkernel-1.3.2-r42h785f33e_0\n",
      "  r-isoband          conda-forge/linux-64::r-isoband-0.2.7-r42h38f115c_1\n",
      "  r-jquerylib        conda-forge/noarch::r-jquerylib-0.1.4-r42hc72bb7e_2\n",
      "  r-jsonlite         conda-forge/linux-64::r-jsonlite-1.8.5-r42h57805ef_1\n",
      "  r-knitr            conda-forge/noarch::r-knitr-1.43-r42hc72bb7e_1\n",
      "  r-labeling         conda-forge/noarch::r-labeling-0.4.2-r42hc72bb7e_3\n",
      "  r-lattice          conda-forge/linux-64::r-lattice-0.21_8-r42h57805ef_1\n",
      "  r-lifecycle        conda-forge/noarch::r-lifecycle-1.0.3-r42hc72bb7e_2\n",
      "  r-lubridate        conda-forge/linux-64::r-lubridate-1.9.2-r42h133d619_1\n",
      "  r-magrittr         conda-forge/linux-64::r-magrittr-2.0.3-r42h57805ef_2\n",
      "  r-mass             conda-forge/linux-64::r-mass-7.3_60-r42h57805ef_0\n",
      "  r-matrix           conda-forge/linux-64::r-matrix-1.5_4.1-r42h316c678_0\n",
      "  r-memoise          conda-forge/noarch::r-memoise-2.0.1-r42hc72bb7e_1\n",
      "  r-mgcv             conda-forge/linux-64::r-mgcv-1.8_42-r42he1ae0d6_0\n",
      "  r-mime             conda-forge/linux-64::r-mime-0.12-r42h57805ef_2\n",
      "  r-modelr           conda-forge/noarch::r-modelr-0.1.11-r42hc72bb7e_0\n",
      "  r-munsell          conda-forge/noarch::r-munsell-0.5.0-r42hc72bb7e_1005\n",
      "  r-nlme             pkgs/r/linux-64::r-nlme-3.1_157-r42h640688f_0\n",
      "  r-openssl          conda-forge/linux-64::r-openssl-2.0.6-r42hb353fa6_1\n",
      "  r-pbdzmq           conda-forge/linux-64::r-pbdzmq-0.3_9-r42hfae1697_0\n",
      "  r-pillar           conda-forge/noarch::r-pillar-1.9.0-r42hc72bb7e_1\n",
      "  r-pkgconfig        conda-forge/noarch::r-pkgconfig-2.0.3-r42hc72bb7e_3\n",
      "  r-plogr            conda-forge/noarch::r-plogr-0.2.0-r42hc72bb7e_1004\n",
      "  r-prettyunits      conda-forge/noarch::r-prettyunits-1.1.1-r42hc72bb7e_2\n",
      "  r-processx         conda-forge/linux-64::r-processx-3.8.1-r42h57805ef_1\n",
      "  r-progress         conda-forge/noarch::r-progress-1.2.2-r42hc72bb7e_3\n",
      "  r-ps               conda-forge/linux-64::r-ps-1.7.5-r42h57805ef_1\n",
      "  r-purrr            conda-forge/linux-64::r-purrr-1.0.1-r42h57805ef_1\n",
      "  r-r6               conda-forge/noarch::r-r6-2.5.1-r42hc72bb7e_2\n",
      "  r-ragg             conda-forge/linux-64::r-ragg-1.2.5-r42hd65d3ba_0\n",
      "  r-rappdirs         conda-forge/linux-64::r-rappdirs-0.3.3-r42h06615bd_1\n",
      "  r-rcolorbrewer     conda-forge/noarch::r-rcolorbrewer-1.1_3-r42h785f33e_2\n",
      "  r-rcpp             conda-forge/linux-64::r-rcpp-1.0.10-r42ha503ecb_1\n",
      "  r-readr            conda-forge/linux-64::r-readr-2.1.4-r42h38f115c_0\n",
      "  r-readxl           conda-forge/linux-64::r-readxl-1.4.2-r42h81ef4d7_0\n",
      "  r-rematch          conda-forge/noarch::r-rematch-1.0.1-r42hc72bb7e_1005\n",
      "  r-rematch2         conda-forge/noarch::r-rematch2-2.1.2-r42hc72bb7e_3\n",
      "  r-repr             conda-forge/noarch::r-repr-1.1.6-r42h785f33e_1\n",
      "  r-reprex           conda-forge/noarch::r-reprex-2.0.2-r42hc72bb7e_1\n",
      "  r-rlang            conda-forge/linux-64::r-rlang-1.1.1-r42ha503ecb_1\n",
      "  r-rmarkdown        pkgs/r/noarch::r-rmarkdown-2.14-r42h6115d3f_0\n",
      "  r-rpostgres        conda-forge/linux-64::r-rpostgres-1.4.5-r42hca07cf8_0\n",
      "  r-rstudioapi       conda-forge/noarch::r-rstudioapi-0.14-r42hc72bb7e_2\n",
      "  r-rvest            conda-forge/noarch::r-rvest-1.0.3-r42hc72bb7e_1\n",
      "  r-sass             conda-forge/linux-64::r-sass-0.4.6-r42ha503ecb_0\n",
      "  r-scales           conda-forge/noarch::r-scales-1.2.1-r42hc72bb7e_1\n",
      "  r-selectr          conda-forge/noarch::r-selectr-0.4_2-r42hc72bb7e_2\n",
      "  r-stringi          pkgs/r/linux-64::r-stringi-1.7.6-r42h884c59f_0\n",
      "  r-stringr          conda-forge/noarch::r-stringr-1.5.0-r42h785f33e_1\n",
      "  r-sys              conda-forge/linux-64::r-sys-3.4.2-r42h57805ef_1\n",
      "  r-systemfonts      conda-forge/linux-64::r-systemfonts-1.0.4-r42h0ff29ef_1\n",
      "  r-textshaping      pkgs/r/linux-64::r-textshaping-0.3.6-r42h884c59f_0\n",
      "  r-tibble           conda-forge/linux-64::r-tibble-3.2.1-r42h57805ef_2\n",
      "  r-tidyr            conda-forge/linux-64::r-tidyr-1.3.0-r42h38f115c_0\n",
      "  r-tidyselect       conda-forge/linux-64::r-tidyselect-1.2.0-r42hc72bb7e_0\n",
      "  r-tidyverse        conda-forge/noarch::r-tidyverse-2.0.0-r42h785f33e_0\n",
      "  r-timechange       conda-forge/linux-64::r-timechange-0.2.0-r42h38f115c_0\n",
      "  r-tinytex          conda-forge/noarch::r-tinytex-0.45-r42hc72bb7e_1\n",
      "  r-tzdb             conda-forge/linux-64::r-tzdb-0.4.0-r42ha503ecb_0\n",
      "  r-utf8             conda-forge/linux-64::r-utf8-1.2.3-r42h57805ef_1\n",
      "  r-uuid             conda-forge/linux-64::r-uuid-1.1_0-r42h06615bd_1\n",
      "  r-vctrs            conda-forge/linux-64::r-vctrs-0.6.2-r42ha503ecb_1\n",
      "  r-viridislite      conda-forge/noarch::r-viridislite-0.4.2-r42hc72bb7e_1\n",
      "  r-vroom            conda-forge/linux-64::r-vroom-1.6.3-r42ha503ecb_0\n",
      "  r-withr            conda-forge/noarch::r-withr-2.5.0-r42hc72bb7e_2\n",
      "  r-xfun             conda-forge/linux-64::r-xfun-0.39-r42ha503ecb_1\n",
      "  r-xml2             pkgs/r/linux-64::r-xml2-1.3.3-r42h884c59f_0\n",
      "  r-yaml             conda-forge/linux-64::r-yaml-2.3.7-r42h57805ef_1\n",
      "  readline           conda-forge/linux-64::readline-8.2-h8228510_1\n",
      "  sysroot_linux-64   conda-forge/noarch::sysroot_linux-64-2.12-he073ed8_15\n",
      "  tk                 conda-forge/linux-64::tk-8.6.12-h27826a3_0\n",
      "  tktable            conda-forge/linux-64::tktable-2.10-hb7b940f_3\n",
      "  xorg-libxau        conda-forge/linux-64::xorg-libxau-1.0.11-hd590300_0\n",
      "  xorg-libxdmcp      conda-forge/linux-64::xorg-libxdmcp-1.1.3-h7f98852_0\n",
      "  xz                 pkgs/main/linux-64::xz-5.4.2-h5eee18b_0\n",
      "  zeromq             conda-forge/linux-64::zeromq-4.3.4-h9c3ff4c_1\n",
      "  zlib               conda-forge/linux-64::zlib-1.2.13-hd590300_5\n",
      "  zstd               pkgs/main/linux-64::zstd-1.5.5-hc292b87_0\n",
      "\n",
      "\n",
      "\n",
      "Downloading and Extracting Packages\n",
      "ld_impl_linux-64-2.3 | 654 KB    | ##################################### | 100% \n",
      "r-tibble-3.2.1       | 597 KB    | ##################################### | 100% \n",
      "zstd-1.5.5           | 647 KB    | ##################################### | 100% \n",
      "libnghttp2-1.52.0    | 608 KB    | ##################################### | 100% \n",
      "r-evaluate-0.21      | 88 KB     | ##################################### | 100% \n",
      "gfortran_impl_linux- | 10.2 MB   | ##################################### | 100% \n",
      "r-scales-1.2.1       | 612 KB    | ##################################### | 100% \n",
      "libxcb-1.15          | 375 KB    | ##################################### | 100% \n",
      "r-rlang-1.1.1        | 1.5 MB    | ##################################### | 100% \n",
      "r-farver-2.1.1       | 1.4 MB    | ##################################### | 100% \n",
      "r-pillar-1.9.0       | 603 KB    | ##################################### | 100% \n",
      "curl-7.88.1          | 86 KB     | ##################################### | 100% \n",
      "r-stringi-1.7.6      | 826 KB    | ##################################### | 100% \n",
      "r-sass-0.4.6         | 2.2 MB    | ##################################### | 100% \n",
      "r-colorspace-2.1_0   | 2.4 MB    | ##################################### | 100% \n",
      "libedit-3.1.20221030 | 181 KB    | ##################################### | 100% \n",
      "pandoc-3.1.3         | 28.0 MB   | ##################################### | 100% \n",
      "binutils_linux-64-2. | 24 KB     | ##################################### | 100% \n",
      "pango-1.50.7         | 427 KB    | ##################################### | 100% \n",
      "r-googlesheets4-1.1. | 504 KB    | ##################################### | 100% \n",
      "libiconv-1.17        | 1.4 MB    | ##################################### | 100% \n",
      "glib-2.69.1          | 1.9 MB    | ##################################### | 100% \n",
      "r-matrix-1.5_4.1     | 3.8 MB    | ##################################### | 100% \n",
      "r-tidyverse-2.0.0    | 415 KB    | ##################################### | 100% \n",
      "harfbuzz-4.3.0       | 1.3 MB    | ##################################### | 100% \n",
      "libgfortran-ng-11.2. | 20 KB     | ##################################### | 100% \n",
      "r-cpp11-0.4.3        | 230 KB    | ##################################### | 100% \n",
      "gfortran_linux-64-11 | 24 KB     | ##################################### | 100% \n",
      "r-assertthat-0.2.1   | 70 KB     | ##################################### | 100% \n",
      "freetype-2.12.1      | 611 KB    | ##################################### | 100% \n",
      "sysroot_linux-64-2.1 | 31.4 MB   | ##################################### | 100% \n",
      "r-rpostgres-1.4.5    | 448 KB    | ##################################### | 100% \n",
      "r-lattice-0.21_8     | 1.3 MB    | ##################################### | 100% \n",
      "r-htmltools-0.5.5    | 347 KB    | ##################################### | 100% \n",
      "keyutils-1.6.1       | 115 KB    | ##################################### | 100% \n",
      "fontconfig-2.14.2    | 266 KB    | ##################################### | 100% \n",
      "r-cellranger-1.1.0   | 110 KB    | ##################################### | 100% \n",
      "r-labeling-0.4.2     | 67 KB     | ##################################### | 100% \n",
      "libpng-1.6.39        | 276 KB    | ##################################### | 100% \n",
      "libcurl-7.88.1       | 350 KB    | ##################################### | 100% \n",
      "r-blob-1.2.4         | 64 KB     | ##################################### | 100% \n",
      "fribidi-1.0.10       | 112 KB    | ##################################### | 100% \n",
      "gxx_impl_linux-64-11 | 10.6 MB   | ##################################### | 100% \n",
      "r-processx-3.8.1     | 315 KB    | ##################################### | 100% \n",
      "gcc_linux-64-11.2.0  | 25 KB     | ##################################### | 100% \n",
      "r-openssl-2.0.6      | 622 KB    | ##################################### | 100% \n",
      "lerc-4.0.0           | 275 KB    | ##################################### | 100% \n",
      "r-tzdb-0.4.0         | 521 KB    | ##################################### | 100% \n",
      "r-gtable-0.3.3       | 217 KB    | ##################################### | 100% \n",
      "r-rematch2-2.1.2     | 53 KB     | ##################################### | 100% \n",
      "r-tinytex-0.45       | 139 KB    | ##################################### | 100% \n",
      "r-irkernel-1.3.2     | 226 KB    | ##################################### | 100% \n",
      "r-data.table-1.14.8  | 1.8 MB    | ##################################### | 100% \n",
      "r-isoband-0.2.7      | 1.5 MB    | ##################################### | 100% \n",
      "_r-mutex-1.0.1       | 3 KB      | ##################################### | 100% \n",
      "r-dbi-1.1.3          | 771 KB    | ##################################### | 100% \n",
      "r-dplyr-1.1.2        | 1.3 MB    | ##################################### | 100% \n",
      "r-glue-1.6.2         | 148 KB    | ##################################### | 100% \n",
      "r-irdisplay-1.1      | 38 KB     | ##################################### | 100% \n",
      "blas-1.1             | 1 KB      | ##################################### | 100% \n",
      "r-clipr-0.8.0        | 67 KB     | ##################################### | 100% \n",
      "r-rcpp-1.0.10        | 1.9 MB    | ##################################### | 100% \n",
      "r-nlme-3.1_157       | 2.2 MB    | ##################################### | 100% \n",
      "r-knitr-1.43         | 1.2 MB    | ##################################### | 100% \n",
      "r-bslib-0.5.0        | 4.1 MB    | ##################################### | 100% \n",
      "r-crayon-1.5.2       | 162 KB    | ##################################### | 100% \n",
      "r-base-4.2.0         | 25.7 MB   | ##################################### | 100% \n",
      "r-jsonlite-1.8.5     | 620 KB    | ##################################### | 100% \n",
      "r-bit-4.0.5          | 1.1 MB    | ##################################### | 100% \n",
      "libgcc-devel_linux-6 | 2.5 MB    | ##################################### | 100% \n",
      "gmp-6.2.1            | 806 KB    | ##################################### | 100% \n",
      "r-ggplot2-3.4.2      | 3.9 MB    | ##################################### | 100% \n",
      "r-xml2-1.3.3         | 227 KB    | ##################################### | 100% \n",
      "r-textshaping-0.3.6  | 106 KB    | ##################################### | 100% \n",
      "r-tidyselect-1.2.0   | 217 KB    | ##################################### | 100% \n",
      "r-cli-3.6.1          | 1.2 MB    | ##################################### | 100% \n",
      "r-readxl-1.4.2       | 739 KB    | ##################################### | 100% \n",
      "r-sys-3.4.2          | 48 KB     | ##################################### | 100% \n",
      "r-rvest-1.0.3        | 216 KB    | ##################################### | 100% \n",
      "r-pkgconfig-2.0.3    | 26 KB     | ##################################### | 100% \n",
      "r-highr-0.10         | 56 KB     | ##################################### | 100% \n",
      "r-vroom-1.6.3        | 869 KB    | ##################################### | 100% \n",
      "libstdcxx-devel_linu | 14.6 MB   | ##################################### | 100% \n",
      "r-base64enc-0.1_3    | 44 KB     | ##################################### | 100% \n",
      "pcre2-10.37          | 1.1 MB    | ##################################### | 100% \n",
      "jpeg-9e              | 235 KB    | ##################################### | 100% \n",
      "r-cachem-1.0.8       | 73 KB     | ##################################### | 100% \n",
      "r-conflicted-1.2.0   | 62 KB     | ##################################### | 100% \n",
      "libtiff-4.5.0        | 397 KB    | ##################################### | 100% \n",
      "r-broom-1.0.5        | 1.7 MB    | ##################################### | 100% \n",
      "r-memoise-2.0.1      | 58 KB     | ##################################### | 100% \n",
      "r-httr-1.4.6         | 476 KB    | ##################################### | 100% \n",
      "r-tidyr-1.3.0        | 1.1 MB    | ##################################### | 100% \n",
      "pthread-stubs-0.4    | 5 KB      | ##################################### | 100% \n",
      "graphite2-1.3.14     | 97 KB     | ##################################### | 100% \n",
      "r-withr-2.5.0        | 234 KB    | ##################################### | 100% \n",
      "r-stringr-1.5.0      | 289 KB    | ##################################### | 100% \n",
      "r-rstudioapi-0.14    | 289 KB    | ##################################### | 100% \n",
      "libopenblas-0.3.21   | 10.1 MB   | ##################################### | 100% \n",
      "r-mass-7.3_60        | 1.1 MB    | ##################################### | 100% \n",
      "r-progress-1.2.2     | 92 KB     | ##################################### | 100% \n",
      "xorg-libxdmcp-1.1.3  | 19 KB     | ##################################### | 100% \n",
      "r-munsell-0.5.0      | 248 KB    | ##################################### | 100% \n",
      "liblapack-3.9.0      | 13 KB     | ##################################### | 100% \n",
      "r-viridislite-0.4.2  | 1.2 MB    | ##################################### | 100% \n",
      "r-hms-1.1.3          | 104 KB    | ##################################### | 100% \n",
      "r-googledrive-2.1.1  | 1.1 MB    | ##################################### | 100% \n",
      "lz4-c-1.9.4          | 140 KB    | ##################################### | 100% \n",
      "r-backports-1.4.1    | 109 KB    | ##################################### | 100% \n",
      "gcc_impl_linux-64-11 | 22.2 MB   | ##################################### | 100% \n",
      "r-rcolorbrewer-1.1_3 | 67 KB     | ##################################### | 100% \n",
      "r-vctrs-0.6.2        | 1.2 MB    | ##################################### | 100% \n",
      "r-fastmap-1.1.1      | 71 KB     | ##################################### | 100% \n",
      "r-fs-1.6.2           | 483 KB    | ##################################### | 100% \n",
      "r-lifecycle-1.0.3    | 119 KB    | ##################################### | 100% \n",
      "r-readr-2.1.4        | 793 KB    | ##################################### | 100% \n",
      "icu-58.2             | 22.6 MB   | ##################################### | 100% \n",
      "r-dtplyr-1.3.1       | 349 KB    | ##################################### | 100% \n",
      "r-jquerylib-0.1.4    | 299 KB    | ##################################### | 100% \n",
      "libwebp-base-1.3.0   | 348 KB    | ##################################### | 100% \n",
      "r-uuid-1.1_0         | 54 KB     | ##################################### | 100% \n",
      "krb5-1.20.1          | 1.3 MB    | ##################################### | 100% \n",
      "r-utf8-1.2.3         | 140 KB    | ##################################### | 100% \n",
      "r-mgcv-1.8_42        | 3.1 MB    | ##################################### | 100% \n",
      "make-4.3             | 507 KB    | ##################################### | 100% \n",
      "r-plogr-0.2.0        | 21 KB     | ##################################### | 100% \n",
      "libdeflate-1.17      | 63 KB     | ##################################### | 100% \n",
      "r-askpass-1.1        | 29 KB     | ##################################### | 100% \n",
      "kernel-headers_linux | 707 KB    | ##################################### | 100% \n",
      "r-rmarkdown-2.14     | 2.7 MB    | ##################################### | 100% \n",
      "r-curl-4.3.3         | 692 KB    | ##################################### | 100% \n",
      "r-r6-2.5.1           | 88 KB     | ##################################### | 100% \n",
      "bwidget-1.9.14       | 120 KB    | ##################################### | 100% \n",
      "r-forcats-1.0.0      | 414 KB    | ##################################### | 100% \n",
      "libev-4.33           | 104 KB    | ##################################### | 100% \n",
      "zlib-1.2.13          | 91 KB     | ##################################### | 100% \n",
      "r-yaml-2.3.7         | 113 KB    | ##################################### | 100% \n",
      "r-modelr-0.1.11      | 215 KB    | ##################################### | 100% \n",
      "xorg-libxau-1.0.11   | 14 KB     | ##################################### | 100% \n",
      "r-digest-0.6.31      | 188 KB    | ##################################### | 100% \n",
      "r-xfun-0.39          | 415 KB    | ##################################### | 100% \n",
      "r-bit64-4.0.5        | 508 KB    | ##################################### | 100% \n",
      "r-systemfonts-1.0.4  | 280 KB    | ##################################### | 100% \n",
      "libpq-15.3           | 2.4 MB    | ##################################### | 100% \n",
      "r-fansi-1.0.4        | 308 KB    | ##################################### | 100% \n",
      "r-selectr-0.4_2      | 463 KB    | ##################################### | 100% \n",
      "libgfortran5-11.2.0  | 2.0 MB    | ##################################### | 100% \n",
      "pixman-0.40.0        | 627 KB    | ##################################### | 100% \n",
      "cairo-1.16.0         | 1.4 MB    | ##################################### | 100% \n",
      "r-ragg-1.2.5         | 428 KB    | ##################################### | 100% \n",
      "c-ares-1.19.1        | 111 KB    | ##################################### | 100% \n",
      "libblas-3.9.0        | 13 KB     | ##################################### | 100% \n",
      "r-magrittr-2.0.3     | 203 KB    | ##################################### | 100% \n",
      "r-dbplyr-2.3.2       | 1.0 MB    | ##################################### | 100% \n",
      "r-timechange-0.2.0   | 195 KB    | ##################################### | 100% \n",
      "expat-2.5.0          | 134 KB    | ##################################### | 100% \n",
      "r-callr-3.7.3        | 406 KB    | ##################################### | 100% \n",
      "tktable-2.10         | 89 KB     | ##################################### | 100% \n",
      "r-ps-1.7.5           | 306 KB    | ##################################### | 100% \n",
      "r-gargle-1.5.0       | 692 KB    | ##################################### | 100% \n",
      "r-pbdzmq-0.3_9       | 513 KB    | ##################################### | 100% \n",
      "r-generics-0.1.3     | 89 KB     | ##################################### | 100% \n",
      "r-rematch-1.0.1      | 20 KB     | ##################################### | 100% \n",
      "r-haven-2.5.2        | 370 KB    | ##################################### | 100% \n",
      "r-rappdirs-0.3.3     | 52 KB     | ##################################### | 100% \n",
      "pcre-8.45            | 253 KB    | ##################################### | 100% \n",
      "openblas-0.3.21      | 10.8 MB   | ##################################### | 100% \n",
      "r-lubridate-1.9.2    | 947 KB    | ##################################### | 100% \n",
      "libssh2-1.11.0       | 265 KB    | ##################################### | 100% \n",
      "r-prettyunits-1.1.1  | 42 KB     | ##################################### | 100% \n",
      "r-ids-1.0.1          | 127 KB    | ##################################### | 100% \n",
      "gxx_linux-64-11.2.0  | 24 KB     | ##################################### | 100% \n",
      "r-ellipsis-0.3.2     | 42 KB     | ##################################### | 100% \n",
      "r-reprex-2.0.2       | 499 KB    | ##################################### | 100% \n",
      "r-mime-0.12          | 52 KB     | ##################################### | 100% \n",
      "r-purrr-1.0.1        | 473 KB    | ##################################### | 100% \n",
      "r-repr-1.1.6         | 138 KB    | ##################################### | 100% \n",
      "binutils_impl_linux- | 5.2 MB    | ##################################### | 100% \n",
      "Preparing transaction: done\n",
      "Verifying transaction: done\n",
      "Executing transaction: done\n",
      "#\n",
      "# To activate this environment, use\n",
      "#\n",
      "#     $ conda activate omop-source\n",
      "#\n",
      "# To deactivate an active environment, use\n",
      "#\n",
      "#     $ conda deactivate\n",
      "\n"
     ]
    }
   ],
   "source": [
    "conda create -n omop-source r-glue r-tidyverse r-data.table r-dbi r-rpostgres r-irkernel -y"
   ]
  },
  {
   "cell_type": "markdown",
   "metadata": {},
   "source": [
    "In a bash terminal, download the example notebooks from git "
   ]
  },
  {
   "cell_type": "code",
   "execution_count": null,
   "metadata": {},
   "outputs": [],
   "source": [
    "git clone https://github.com/lifebit-ai/gel-data-queries-resources"
   ]
  },
  {
   "cell_type": "markdown",
   "metadata": {},
   "source": [
    "Open the **running_queries_on_source_data.ipynb** notebook, and ensure that the kernel in the notebook is set to the correct environment: **omop-source**"
   ]
  },
  {
   "cell_type": "markdown",
   "metadata": {},
   "source": [
    "Either from the [knowledge base page](https://genomics-england.gitbook.io/gel-cloudos/recipes-and-examples/cohort-building/querying-data-programmatically-omop-and-source-data), or from this notebook, copy and paste the following access credentials into the first cell (keep the indent): "
   ]
  },
  {
   "cell_type": "code",
   "execution_count": null,
   "metadata": {},
   "outputs": [],
   "source": [
    "    DBNAME = \"gel_clinical_cb_sql_pro\"\n",
    "    HOST = \"clinical-cb-sql-pro.cfe5cdx3wlef.eu-west-2.rds.amazonaws.com\"\n",
    "    PORT = 5432\n",
    "    PASSWORD = 'anXReTz36Q5r'\n",
    "    USER = 'jupyter_notebook'"
   ]
  },
  {
   "cell_type": "markdown",
   "metadata": {},
   "source": [
    "Once the authentication is complete, run the queries anvailable in the notebook and inspect the results. "
   ]
  },
  {
   "cell_type": "markdown",
   "metadata": {},
   "source": [
    "#### **Exercises VII**"
   ]
  },
  {
   "cell_type": "markdown",
   "metadata": {},
   "source": [
    "For any additional information on this workflow and exercises, visit the [knowledge base page](https://genomics-england.gitbook.io/gel-cloudos/recipes-and-examples/cohort-building/querying-data-programmatically-omop-and-source-data). "
   ]
  },
  {
   "cell_type": "markdown",
   "metadata": {},
   "source": [
    "**Exercise 1:** Create conda environment and install the required packages"
   ]
  },
  {
   "cell_type": "code",
   "execution_count": 12,
   "metadata": {},
   "outputs": [
    {
     "name": "stdout",
     "output_type": "stream",
     "text": [
      "Collecting package metadata (current_repodata.json): failed\n",
      "\n",
      "CondaError: KeyboardInterrupt\n",
      "\n"
     ]
    }
   ],
   "source": [
    "conda create -n omop-source r-glue r-tidyverse r-data.table r-dbi r-rpostgres r-irkernel -y "
   ]
  },
  {
   "cell_type": "markdown",
   "metadata": {},
   "source": [
    "**Exercise 2:** Clone the notebook files"
   ]
  },
  {
   "cell_type": "code",
   "execution_count": null,
   "metadata": {},
   "outputs": [],
   "source": [
    "git clone https://github.com/lifebit-ai/gel-data-queries-resources"
   ]
  },
  {
   "cell_type": "markdown",
   "metadata": {},
   "source": [
    "**Exercise 3:** Open the \"omop data\" notebook file and select \"omop-source\" R kernel"
   ]
  },
  {
   "cell_type": "markdown",
   "metadata": {},
   "source": [
    "**Exercise 4:** From the [knowledge base page](https://genomics-england.gitbook.io/gel-cloudos/recipes-and-examples/cohort-building/querying-data-programmatically-omop-and-source-data) copy and paste the credentials, and run the first cell"
   ]
  },
  {
   "cell_type": "markdown",
   "metadata": {},
   "source": [
    "**Exercise 5:** Run the subsequent SQL queries in the notebook"
   ]
  }
 ],
 "metadata": {
  "kernelspec": {
   "display_name": "Bash",
   "language": "bash",
   "name": "bash"
  },
  "language_info": {
   "codemirror_mode": "shell",
   "file_extension": ".sh",
   "mimetype": "text/x-sh",
   "name": "bash"
  }
 },
 "nbformat": 4,
 "nbformat_minor": 4
}
